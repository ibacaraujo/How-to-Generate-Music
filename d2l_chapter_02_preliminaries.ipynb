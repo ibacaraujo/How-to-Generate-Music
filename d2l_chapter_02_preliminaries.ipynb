{
  "nbformat": 4,
  "nbformat_minor": 0,
  "metadata": {
    "colab": {
      "provenance": [],
      "authorship_tag": "ABX9TyN/IevJTRxt2sYfQx3+XB21",
      "include_colab_link": true
    },
    "kernelspec": {
      "name": "python3",
      "display_name": "Python 3"
    },
    "language_info": {
      "name": "python"
    }
  },
  "cells": [
    {
      "cell_type": "markdown",
      "metadata": {
        "id": "view-in-github",
        "colab_type": "text"
      },
      "source": [
        "<a href=\"https://colab.research.google.com/github/ibacaraujo/How-to-Generate-Music/blob/master/d2l_chapter_02_preliminaries.ipynb\" target=\"_parent\"><img src=\"https://colab.research.google.com/assets/colab-badge.svg\" alt=\"Open In Colab\"/></a>"
      ]
    },
    {
      "cell_type": "code",
      "execution_count": null,
      "metadata": {
        "id": "ihVJ-t5q1T_s"
      },
      "outputs": [],
      "source": [
        "import torch"
      ]
    },
    {
      "cell_type": "code",
      "source": [
        "x = torch.arange(8, dtype=torch.float32)\n",
        "x"
      ],
      "metadata": {
        "colab": {
          "base_uri": "https://localhost:8080/"
        },
        "id": "RY4nDulf2IZ8",
        "outputId": "5f6be365-22e6-4027-9239-c2f997e15f62"
      },
      "execution_count": null,
      "outputs": [
        {
          "output_type": "execute_result",
          "data": {
            "text/plain": [
              "tensor([0., 1., 2., 3., 4., 5., 6., 7.])"
            ]
          },
          "metadata": {},
          "execution_count": 2
        }
      ]
    },
    {
      "cell_type": "code",
      "source": [
        "x.numel()"
      ],
      "metadata": {
        "colab": {
          "base_uri": "https://localhost:8080/"
        },
        "id": "qrONP7Zy2TFI",
        "outputId": "93e1dc10-e10f-43d9-a658-4e4af19d5abe"
      },
      "execution_count": null,
      "outputs": [
        {
          "output_type": "execute_result",
          "data": {
            "text/plain": [
              "8"
            ]
          },
          "metadata": {},
          "execution_count": 3
        }
      ]
    },
    {
      "cell_type": "code",
      "source": [
        "x.shape"
      ],
      "metadata": {
        "colab": {
          "base_uri": "https://localhost:8080/"
        },
        "id": "354WyArP2aw6",
        "outputId": "98c6d0a0-f304-4a12-f880-228ef8a1a8f1"
      },
      "execution_count": null,
      "outputs": [
        {
          "output_type": "execute_result",
          "data": {
            "text/plain": [
              "torch.Size([8])"
            ]
          },
          "metadata": {},
          "execution_count": 4
        }
      ]
    },
    {
      "cell_type": "code",
      "source": [
        "X = x.reshape(2, 4)\n",
        "X"
      ],
      "metadata": {
        "colab": {
          "base_uri": "https://localhost:8080/"
        },
        "id": "Nu_pp1TA2o-W",
        "outputId": "4cf535e1-2762-4757-cb51-3d0f41f291b1"
      },
      "execution_count": null,
      "outputs": [
        {
          "output_type": "execute_result",
          "data": {
            "text/plain": [
              "tensor([[0., 1., 2., 3.],\n",
              "        [4., 5., 6., 7.]])"
            ]
          },
          "metadata": {},
          "execution_count": 5
        }
      ]
    },
    {
      "cell_type": "code",
      "source": [
        "x.reshape(-1, 4)"
      ],
      "metadata": {
        "colab": {
          "base_uri": "https://localhost:8080/"
        },
        "id": "9YcJIzGS33ZA",
        "outputId": "9196cf08-1fbf-4330-a746-1495266829a6"
      },
      "execution_count": null,
      "outputs": [
        {
          "output_type": "execute_result",
          "data": {
            "text/plain": [
              "tensor([[0., 1., 2., 3.],\n",
              "        [4., 5., 6., 7.]])"
            ]
          },
          "metadata": {},
          "execution_count": 6
        }
      ]
    },
    {
      "cell_type": "code",
      "source": [
        "x.reshape(2, -1)"
      ],
      "metadata": {
        "colab": {
          "base_uri": "https://localhost:8080/"
        },
        "id": "ZJcRh7rL35Cn",
        "outputId": "78dda991-8913-4cc4-f9b8-196b1388dd62"
      },
      "execution_count": null,
      "outputs": [
        {
          "output_type": "execute_result",
          "data": {
            "text/plain": [
              "tensor([[0., 1., 2., 3.],\n",
              "        [4., 5., 6., 7.]])"
            ]
          },
          "metadata": {},
          "execution_count": 7
        }
      ]
    },
    {
      "cell_type": "code",
      "source": [
        "torch.zeros((2, 3, 4))"
      ],
      "metadata": {
        "colab": {
          "base_uri": "https://localhost:8080/"
        },
        "id": "hlhmof0-4AXb",
        "outputId": "f73120bd-9eee-4d24-8d97-a347ab872f74"
      },
      "execution_count": null,
      "outputs": [
        {
          "output_type": "execute_result",
          "data": {
            "text/plain": [
              "tensor([[[0., 0., 0., 0.],\n",
              "         [0., 0., 0., 0.],\n",
              "         [0., 0., 0., 0.]],\n",
              "\n",
              "        [[0., 0., 0., 0.],\n",
              "         [0., 0., 0., 0.],\n",
              "         [0., 0., 0., 0.]]])"
            ]
          },
          "metadata": {},
          "execution_count": 8
        }
      ]
    },
    {
      "cell_type": "code",
      "source": [
        "torch.ones((2, 3, 4))"
      ],
      "metadata": {
        "colab": {
          "base_uri": "https://localhost:8080/"
        },
        "id": "fPsUBy9J4GV9",
        "outputId": "8ee418c9-6539-4063-f5f0-72be2baee278"
      },
      "execution_count": null,
      "outputs": [
        {
          "output_type": "execute_result",
          "data": {
            "text/plain": [
              "tensor([[[1., 1., 1., 1.],\n",
              "         [1., 1., 1., 1.],\n",
              "         [1., 1., 1., 1.]],\n",
              "\n",
              "        [[1., 1., 1., 1.],\n",
              "         [1., 1., 1., 1.],\n",
              "         [1., 1., 1., 1.]]])"
            ]
          },
          "metadata": {},
          "execution_count": 9
        }
      ]
    },
    {
      "cell_type": "code",
      "source": [
        "torch.randn(2, 4)"
      ],
      "metadata": {
        "colab": {
          "base_uri": "https://localhost:8080/"
        },
        "id": "PPWQEecZ4QZW",
        "outputId": "dbb0a610-6be3-4622-e91a-d05aa7078947"
      },
      "execution_count": null,
      "outputs": [
        {
          "output_type": "execute_result",
          "data": {
            "text/plain": [
              "tensor([[-1.4958,  1.8775,  0.3137, -1.0386],\n",
              "        [-0.4152,  0.0564,  2.1963, -1.1991]])"
            ]
          },
          "metadata": {},
          "execution_count": 10
        }
      ]
    },
    {
      "cell_type": "code",
      "source": [
        "torch.tensor([[2, 1, 4, 3], [1, 2, 3, 4]])"
      ],
      "metadata": {
        "colab": {
          "base_uri": "https://localhost:8080/"
        },
        "id": "DtpqPYAd4ekt",
        "outputId": "3f15202b-5cc4-405a-b5e4-4ffd99441a5a"
      },
      "execution_count": null,
      "outputs": [
        {
          "output_type": "execute_result",
          "data": {
            "text/plain": [
              "tensor([[2, 1, 4, 3],\n",
              "        [1, 2, 3, 4]])"
            ]
          },
          "metadata": {},
          "execution_count": 11
        }
      ]
    },
    {
      "cell_type": "markdown",
      "source": [
        "#### Question.\n",
        "\n",
        "Explain the axis.\n",
        "\n",
        "Here, we construct a matrix with a list of lists, where the outermost list corresponds to axis 0, and the inner list corresponds to axis 1.\n",
        "\n",
        "torch.tensor([[2, 1, 4, 3], [1, 2, 3, 4]]).\n",
        "\n",
        "#### Response.\n",
        "\n",
        "This tensor represents a 2-dimensional matrix. In the context of this matrix, \"axis 0\" and \"axis 1\" refer to the dimensions along which various operations can be performed.\n",
        "\n",
        "Axis 0 (Row Axis): This is the \"outermost\" list. In your example, axis 0 has two elements: [2, 1, 4, 3] and [1, 2, 3, 4]. These are the rows of your matrix. If you perform an operation along axis 0, it will process the data row-wise. For instance, if you sum along axis 0 in this tensor, it will sum the corresponding elements of the rows, resulting in a single row.\n",
        "\n",
        "Axis 1 (Column Axis): This is the \"inner list\". In your example, axis 1 corresponds to the columns of the matrix. The first column is [2, 1], the second is [1, 2], and so on. Performing an operation along axis 1 means it will process the data column-wise. For example, summing along axis 1 will sum up the elements in each row, resulting in a single column."
      ],
      "metadata": {
        "id": "heugsDTA5nTx"
      }
    },
    {
      "cell_type": "markdown",
      "source": [
        "#### Question.\n",
        "\n",
        "Entendi a explicação, mas como se relaciona com axis 0 sendo o outermost e o axis 1 sendo o innermost?\n",
        "\n",
        "#### Response.\n",
        "\n",
        "Quando falamos de \"outermost\" (mais externo) e \"innermost\" (mais interno) em relação aos eixos de uma matriz, estamos nos referindo à maneira como a matriz é visualizada e como suas dimensões são acessadas em linguagens de programação.\n",
        "\n",
        "Axis 0 (Outermost): Este é o primeiro nível de uma matriz. Em uma matriz bidimensional, o axis 0 representa as linhas. Quando você itera sobre o axis 0, está passando pelas linhas da matriz. No seu exemplo, torch.tensor([[2, 1, 4, 3], [1, 2, 3, 4]]), o axis 0 tem dois elementos: [2, 1, 4, 3] e [1, 2, 3, 4]. Estes são considerados os elementos mais externos porque são o primeiro nível de agrupamento de dados na matriz.\n",
        "\n",
        "Axis 1 (Innermost): Este é o segundo nível de uma matriz bidimensional. O axis 1 representa as colunas. Ao iterar sobre o axis 1, você está percorrendo os elementos dentro de cada linha. No mesmo exemplo, dentro da primeira linha [2, 1, 4, 3], o axis 1 permite acessar os valores 2, 1, 4 e 3 individualmente. Eles são considerados mais internos porque estão dentro do agrupamento fornecido pelo axis 0.\n",
        "\n",
        "Em resumo, o \"mais externo\" (axis 0) se refere ao nível superior de agrupamento na matriz (linhas), enquanto o \"mais interno\" (axis 1) se refere ao nível inferior de agrupamento dentro de cada linha (colunas). Isso se torna ainda mais complexo em matrizes com mais dimensões, onde cada dimensão adicional representa um novo nível de agrupamento interno."
      ],
      "metadata": {
        "id": "RGXplLSF5YMG"
      }
    },
    {
      "cell_type": "code",
      "source": [
        "X[-1], X[1:3]"
      ],
      "metadata": {
        "colab": {
          "base_uri": "https://localhost:8080/"
        },
        "id": "7CKjSvBY8pOL",
        "outputId": "ec0861d0-609d-431c-b93e-a8ac1b5fe03b"
      },
      "execution_count": null,
      "outputs": [
        {
          "output_type": "execute_result",
          "data": {
            "text/plain": [
              "(tensor([4., 5., 6., 7.]), tensor([[4., 5., 6., 7.]]))"
            ]
          },
          "metadata": {},
          "execution_count": 14
        }
      ]
    },
    {
      "cell_type": "code",
      "source": [
        "X[1, 2] = 17\n",
        "X"
      ],
      "metadata": {
        "colab": {
          "base_uri": "https://localhost:8080/"
        },
        "id": "XiKA1C2K83H0",
        "outputId": "d5045b4e-846a-4011-daf1-72b91d2e0129"
      },
      "execution_count": null,
      "outputs": [
        {
          "output_type": "execute_result",
          "data": {
            "text/plain": [
              "tensor([[ 0.,  1.,  2.,  3.],\n",
              "        [ 4.,  5., 17.,  7.]])"
            ]
          },
          "metadata": {},
          "execution_count": 16
        }
      ]
    },
    {
      "cell_type": "code",
      "source": [
        "X[:2, :] = 11\n",
        "X"
      ],
      "metadata": {
        "colab": {
          "base_uri": "https://localhost:8080/"
        },
        "id": "6zzeemau8-Qz",
        "outputId": "519b0a14-555b-4b5c-ab30-fc158f2aac39"
      },
      "execution_count": null,
      "outputs": [
        {
          "output_type": "execute_result",
          "data": {
            "text/plain": [
              "tensor([[11., 11., 11., 11.],\n",
              "        [11., 11., 11., 11.]])"
            ]
          },
          "metadata": {},
          "execution_count": 18
        }
      ]
    },
    {
      "cell_type": "markdown",
      "source": [
        "### 2.1.3 Operations."
      ],
      "metadata": {
        "id": "oKH3xAnCI54w"
      }
    },
    {
      "cell_type": "code",
      "source": [
        "import torch"
      ],
      "metadata": {
        "id": "A25N-y3wI853"
      },
      "execution_count": null,
      "outputs": []
    },
    {
      "cell_type": "code",
      "source": [
        "x = torch.arange(11)\n",
        "x"
      ],
      "metadata": {
        "colab": {
          "base_uri": "https://localhost:8080/"
        },
        "id": "nbWumLk6JALY",
        "outputId": "1ae544ce-94dc-4b88-e743-ee47f16007a5"
      },
      "execution_count": null,
      "outputs": [
        {
          "output_type": "execute_result",
          "data": {
            "text/plain": [
              "tensor([ 0,  1,  2,  3,  4,  5,  6,  7,  8,  9, 10])"
            ]
          },
          "metadata": {},
          "execution_count": 2
        }
      ]
    },
    {
      "cell_type": "code",
      "source": [
        "torch.exp(x)"
      ],
      "metadata": {
        "colab": {
          "base_uri": "https://localhost:8080/"
        },
        "id": "jbQHTlsFJCRs",
        "outputId": "ae91c5ed-d400-4348-c9df-9345199490f8"
      },
      "execution_count": null,
      "outputs": [
        {
          "output_type": "execute_result",
          "data": {
            "text/plain": [
              "tensor([1.0000e+00, 2.7183e+00, 7.3891e+00, 2.0086e+01, 5.4598e+01, 1.4841e+02,\n",
              "        4.0343e+02, 1.0966e+03, 2.9810e+03, 8.1031e+03, 2.2026e+04])"
            ]
          },
          "metadata": {},
          "execution_count": 3
        }
      ]
    },
    {
      "cell_type": "markdown",
      "source": [
        "Scalar function is lifted to an elementwise vector operation."
      ],
      "metadata": {
        "id": "iDSfzQ-WJXbq"
      }
    },
    {
      "cell_type": "code",
      "source": [
        "x = torch.tensor([1.0, 2, 4, 8])\n",
        "y = torch.tensor([2, 2, 2, 2])\n",
        "x + y, x - y, x * y, x / y, x ** y"
      ],
      "metadata": {
        "colab": {
          "base_uri": "https://localhost:8080/"
        },
        "id": "a9Z-TB3oJc4A",
        "outputId": "8d2de332-236d-482a-9e90-818f745eee3b"
      },
      "execution_count": null,
      "outputs": [
        {
          "output_type": "execute_result",
          "data": {
            "text/plain": [
              "(tensor([ 3.,  4.,  6., 10.]),\n",
              " tensor([-1.,  0.,  2.,  6.]),\n",
              " tensor([ 2.,  4.,  8., 16.]),\n",
              " tensor([0.5000, 1.0000, 2.0000, 4.0000]),\n",
              " tensor([ 1.,  4., 16., 64.]))"
            ]
          },
          "metadata": {},
          "execution_count": 5
        }
      ]
    },
    {
      "cell_type": "markdown",
      "source": [
        "Besides elementwise computations, we can also consider linear algebraic operations like dot products and matrix multiplications."
      ],
      "metadata": {
        "id": "7vq5EoTxJtQQ"
      }
    },
    {
      "cell_type": "markdown",
      "source": [
        "Concatenate multiple tensors."
      ],
      "metadata": {
        "id": "l_DPe_ZAJ2eC"
      }
    },
    {
      "cell_type": "code",
      "source": [
        "X = torch.arange(16, dtype=torch.float32).reshape((4,4))\n",
        "Y = torch.tensor([[2.0, 1, 4, 3], [1, 2, 3, 4], [4, 3, 2, 1], [1, 1, 1, 1]])\n",
        "X, Y, torch.cat((X, Y), dim=0), torch.cat((X, Y), dim=1)"
      ],
      "metadata": {
        "colab": {
          "base_uri": "https://localhost:8080/"
        },
        "id": "DGDcMilaJzxl",
        "outputId": "cb232766-a284-4c5f-fd25-8c655579c519"
      },
      "execution_count": null,
      "outputs": [
        {
          "output_type": "execute_result",
          "data": {
            "text/plain": [
              "(tensor([[ 0.,  1.,  2.,  3.],\n",
              "         [ 4.,  5.,  6.,  7.],\n",
              "         [ 8.,  9., 10., 11.],\n",
              "         [12., 13., 14., 15.]]),\n",
              " tensor([[2., 1., 4., 3.],\n",
              "         [1., 2., 3., 4.],\n",
              "         [4., 3., 2., 1.],\n",
              "         [1., 1., 1., 1.]]),\n",
              " tensor([[ 0.,  1.,  2.,  3.],\n",
              "         [ 4.,  5.,  6.,  7.],\n",
              "         [ 8.,  9., 10., 11.],\n",
              "         [12., 13., 14., 15.],\n",
              "         [ 2.,  1.,  4.,  3.],\n",
              "         [ 1.,  2.,  3.,  4.],\n",
              "         [ 4.,  3.,  2.,  1.],\n",
              "         [ 1.,  1.,  1.,  1.]]),\n",
              " tensor([[ 0.,  1.,  2.,  3.,  2.,  1.,  4.,  3.],\n",
              "         [ 4.,  5.,  6.,  7.,  1.,  2.,  3.,  4.],\n",
              "         [ 8.,  9., 10., 11.,  4.,  3.,  2.,  1.],\n",
              "         [12., 13., 14., 15.,  1.,  1.,  1.,  1.]]))"
            ]
          },
          "metadata": {},
          "execution_count": 9
        }
      ]
    },
    {
      "cell_type": "code",
      "source": [
        "X == Y"
      ],
      "metadata": {
        "colab": {
          "base_uri": "https://localhost:8080/"
        },
        "id": "Gw4ITM5qKxLQ",
        "outputId": "cd6d875a-e0f9-46d7-d727-0da778d5009f"
      },
      "execution_count": null,
      "outputs": [
        {
          "output_type": "execute_result",
          "data": {
            "text/plain": [
              "tensor([[False,  True, False,  True],\n",
              "        [False, False, False, False],\n",
              "        [False, False, False, False],\n",
              "        [False, False, False, False]])"
            ]
          },
          "metadata": {},
          "execution_count": 10
        }
      ]
    },
    {
      "cell_type": "code",
      "source": [
        "X.sum()"
      ],
      "metadata": {
        "id": "gkQflvXjK0LZ"
      },
      "execution_count": null,
      "outputs": []
    },
    {
      "cell_type": "markdown",
      "source": [
        "#### 2.1.4. Broadcasting."
      ],
      "metadata": {
        "id": "yNajgYdbtO5L"
      }
    },
    {
      "cell_type": "code",
      "source": [
        "import torch"
      ],
      "metadata": {
        "id": "004IxXtRtXdC"
      },
      "execution_count": null,
      "outputs": []
    },
    {
      "cell_type": "code",
      "source": [
        "a = torch.arange(3).reshape((3, 1))\n",
        "a"
      ],
      "metadata": {
        "colab": {
          "base_uri": "https://localhost:8080/"
        },
        "id": "c-pRwKzmtS2G",
        "outputId": "47aa3a84-5a9c-4567-9f91-879debde1f09"
      },
      "execution_count": null,
      "outputs": [
        {
          "output_type": "execute_result",
          "data": {
            "text/plain": [
              "tensor([[0],\n",
              "        [1],\n",
              "        [2]])"
            ]
          },
          "metadata": {},
          "execution_count": 4
        }
      ]
    },
    {
      "cell_type": "code",
      "source": [
        "b = torch.arange(2).reshape((1, 2))\n",
        "b"
      ],
      "metadata": {
        "colab": {
          "base_uri": "https://localhost:8080/"
        },
        "id": "zzuNAMZ0tdea",
        "outputId": "39bb43a7-4664-4c66-fcf9-f8da7075f31b"
      },
      "execution_count": null,
      "outputs": [
        {
          "output_type": "execute_result",
          "data": {
            "text/plain": [
              "tensor([[0, 1]])"
            ]
          },
          "metadata": {},
          "execution_count": 6
        }
      ]
    },
    {
      "cell_type": "code",
      "source": [
        "a + b"
      ],
      "metadata": {
        "id": "iWMIPBZdtyf1",
        "outputId": "0cc287f9-237f-4c9d-eb86-ce29fe25e6a2",
        "colab": {
          "base_uri": "https://localhost:8080/"
        }
      },
      "execution_count": null,
      "outputs": [
        {
          "output_type": "execute_result",
          "data": {
            "text/plain": [
              "tensor([[0, 1],\n",
              "        [1, 2],\n",
              "        [2, 3]])"
            ]
          },
          "metadata": {},
          "execution_count": 7
        }
      ]
    },
    {
      "cell_type": "markdown",
      "source": [
        "#### 2.1.5. Saving Memory"
      ],
      "metadata": {
        "id": "N3i3cCi6ZMKK"
      }
    },
    {
      "cell_type": "code",
      "source": [
        "import torch"
      ],
      "metadata": {
        "id": "b23Air7UZU2k"
      },
      "execution_count": null,
      "outputs": []
    },
    {
      "cell_type": "code",
      "source": [
        "X = torch.arange(8).reshape((2, 4))\n",
        "X"
      ],
      "metadata": {
        "colab": {
          "base_uri": "https://localhost:8080/"
        },
        "id": "O_ELwOTQZVr-",
        "outputId": "e46d5a6b-f39d-44c6-ff55-3ab0f3538678"
      },
      "execution_count": null,
      "outputs": [
        {
          "output_type": "execute_result",
          "data": {
            "text/plain": [
              "tensor([[0, 1, 2, 3],\n",
              "        [4, 5, 6, 7]])"
            ]
          },
          "metadata": {},
          "execution_count": 3
        }
      ]
    },
    {
      "cell_type": "code",
      "source": [
        "Y = torch.tensor([[1, 2, 3, 4], [1, 2, 3, 4]])\n",
        "Y"
      ],
      "metadata": {
        "colab": {
          "base_uri": "https://localhost:8080/"
        },
        "id": "WZ7wGjixZe8m",
        "outputId": "ec4a088d-b762-4d71-f035-76c778949e09"
      },
      "execution_count": null,
      "outputs": [
        {
          "output_type": "execute_result",
          "data": {
            "text/plain": [
              "tensor([[1, 2, 3, 4],\n",
              "        [1, 2, 3, 4]])"
            ]
          },
          "metadata": {},
          "execution_count": 5
        }
      ]
    },
    {
      "cell_type": "code",
      "source": [
        "before = id(Y)\n",
        "Y = Y + X\n",
        "id(Y) == before"
      ],
      "metadata": {
        "colab": {
          "base_uri": "https://localhost:8080/"
        },
        "id": "ZmpHOU_QZrPa",
        "outputId": "9f79b517-5406-4c54-ab8f-fc43eea6f28c"
      },
      "execution_count": null,
      "outputs": [
        {
          "output_type": "execute_result",
          "data": {
            "text/plain": [
              "False"
            ]
          },
          "metadata": {},
          "execution_count": 6
        }
      ]
    },
    {
      "cell_type": "code",
      "source": [
        "Z = torch.zeros_like(Y)\n",
        "print('id(Z):', id(Z), '.')\n",
        "Z[:] = X + Y\n",
        "print('id(Z):', id(Z), '.')"
      ],
      "metadata": {
        "colab": {
          "base_uri": "https://localhost:8080/"
        },
        "id": "SWNpbqTRZwF2",
        "outputId": "47788470-bbe7-4af6-d447-8634be9d2e6e"
      },
      "execution_count": null,
      "outputs": [
        {
          "output_type": "stream",
          "name": "stdout",
          "text": [
            "id(Z): 137280009467872 .\n",
            "id(Z): 137280009467872 .\n"
          ]
        }
      ]
    },
    {
      "cell_type": "code",
      "source": [
        "before = id(X)\n",
        "X += Y\n",
        "id(X) == before"
      ],
      "metadata": {
        "id": "gX4b_z7EZ8cj",
        "outputId": "4106fe2c-391a-422e-da1c-aa8be9d03d42",
        "colab": {
          "base_uri": "https://localhost:8080/"
        }
      },
      "execution_count": null,
      "outputs": [
        {
          "output_type": "execute_result",
          "data": {
            "text/plain": [
              "True"
            ]
          },
          "metadata": {},
          "execution_count": 8
        }
      ]
    },
    {
      "cell_type": "markdown",
      "source": [
        "#### 2.1.6. Conversion to Other Python Objects."
      ],
      "metadata": {
        "id": "k7YHMckdlCXJ"
      }
    },
    {
      "cell_type": "code",
      "source": [
        "import torch"
      ],
      "metadata": {
        "id": "nzTFheG7lFsD"
      },
      "execution_count": 1,
      "outputs": []
    },
    {
      "cell_type": "code",
      "source": [
        "X = torch.arange(8).reshape((2, 4))\n",
        "Y = torch.tensor([[1, 2, 3, 4], [1, 2, 3, 4]])"
      ],
      "metadata": {
        "id": "tyU4aBBolJyg"
      },
      "execution_count": 2,
      "outputs": []
    },
    {
      "cell_type": "code",
      "source": [
        "id(X)"
      ],
      "metadata": {
        "colab": {
          "base_uri": "https://localhost:8080/"
        },
        "id": "LFz6uTWIlb73",
        "outputId": "e429c02d-9457-4f9c-a61d-ded8026fa563"
      },
      "execution_count": 7,
      "outputs": [
        {
          "output_type": "execute_result",
          "data": {
            "text/plain": [
              "134169185480320"
            ]
          },
          "metadata": {},
          "execution_count": 7
        }
      ]
    },
    {
      "cell_type": "code",
      "source": [
        "A = X.numpy()\n",
        "A"
      ],
      "metadata": {
        "colab": {
          "base_uri": "https://localhost:8080/"
        },
        "id": "rLC1tImblQPO",
        "outputId": "c16f01b5-fe53-48b9-ec5b-1de23813824e"
      },
      "execution_count": 3,
      "outputs": [
        {
          "output_type": "execute_result",
          "data": {
            "text/plain": [
              "array([[0, 1, 2, 3],\n",
              "       [4, 5, 6, 7]])"
            ]
          },
          "metadata": {},
          "execution_count": 3
        }
      ]
    },
    {
      "cell_type": "code",
      "source": [
        "B = torch.from_numpy(A)\n",
        "B"
      ],
      "metadata": {
        "colab": {
          "base_uri": "https://localhost:8080/"
        },
        "id": "Ujd0lK-TlSMw",
        "outputId": "9724373c-4bba-4af5-9272-fb1d09789fd7"
      },
      "execution_count": 4,
      "outputs": [
        {
          "output_type": "execute_result",
          "data": {
            "text/plain": [
              "tensor([[0, 1, 2, 3],\n",
              "        [4, 5, 6, 7]])"
            ]
          },
          "metadata": {},
          "execution_count": 4
        }
      ]
    },
    {
      "cell_type": "code",
      "source": [
        "type(A), type(B)"
      ],
      "metadata": {
        "colab": {
          "base_uri": "https://localhost:8080/"
        },
        "id": "y3b2uJI3lVUz",
        "outputId": "d7c3761b-aedd-4142-c3e8-5cb02238b497"
      },
      "execution_count": 5,
      "outputs": [
        {
          "output_type": "execute_result",
          "data": {
            "text/plain": [
              "(numpy.ndarray, torch.Tensor)"
            ]
          },
          "metadata": {},
          "execution_count": 5
        }
      ]
    },
    {
      "cell_type": "code",
      "source": [
        "id(A), id(B)"
      ],
      "metadata": {
        "colab": {
          "base_uri": "https://localhost:8080/"
        },
        "id": "sEvgcI-olW98",
        "outputId": "7238cfcd-3ab4-44ba-d294-4b1597513145"
      },
      "execution_count": 6,
      "outputs": [
        {
          "output_type": "execute_result",
          "data": {
            "text/plain": [
              "(134169174390992, 134172772481472)"
            ]
          },
          "metadata": {},
          "execution_count": 6
        }
      ]
    },
    {
      "cell_type": "code",
      "source": [
        "A[0] = 2"
      ],
      "metadata": {
        "id": "wHYwtx_Wlz5g"
      },
      "execution_count": 8,
      "outputs": []
    },
    {
      "cell_type": "code",
      "source": [
        "X"
      ],
      "metadata": {
        "colab": {
          "base_uri": "https://localhost:8080/"
        },
        "id": "lt22kETnl4yT",
        "outputId": "587fefe3-35ef-4486-f062-c3c6a504e407"
      },
      "execution_count": 9,
      "outputs": [
        {
          "output_type": "execute_result",
          "data": {
            "text/plain": [
              "tensor([[2, 2, 2, 2],\n",
              "        [4, 5, 6, 7]])"
            ]
          },
          "metadata": {},
          "execution_count": 9
        }
      ]
    },
    {
      "cell_type": "code",
      "source": [
        "B[0] = 4"
      ],
      "metadata": {
        "id": "T-jQCk8El7GE"
      },
      "execution_count": 10,
      "outputs": []
    },
    {
      "cell_type": "code",
      "source": [
        "X"
      ],
      "metadata": {
        "colab": {
          "base_uri": "https://localhost:8080/"
        },
        "id": "jOmxReabl_1B",
        "outputId": "7f611839-adeb-4813-d7ac-b2601319782e"
      },
      "execution_count": 11,
      "outputs": [
        {
          "output_type": "execute_result",
          "data": {
            "text/plain": [
              "tensor([[4, 4, 4, 4],\n",
              "        [4, 5, 6, 7]])"
            ]
          },
          "metadata": {},
          "execution_count": 11
        }
      ]
    },
    {
      "cell_type": "code",
      "source": [
        "a = torch.tensor([3.5])\n",
        "a, a.item(), float(a), int(a)"
      ],
      "metadata": {
        "colab": {
          "base_uri": "https://localhost:8080/"
        },
        "id": "Q2euJgp9mDMf",
        "outputId": "24918d6e-a72a-4bee-ba69-e2ae9dc74e50"
      },
      "execution_count": 13,
      "outputs": [
        {
          "output_type": "execute_result",
          "data": {
            "text/plain": [
              "(tensor([3.5000]), 3.5, 3.5, 3)"
            ]
          },
          "metadata": {},
          "execution_count": 13
        }
      ]
    },
    {
      "cell_type": "markdown",
      "source": [
        "#### 2.1.7. Summary\n",
        "\n",
        "The tensor class is the main interface for storing and manipulating data in deep learning libraries."
      ],
      "metadata": {
        "id": "QtW0aj0AmMHL"
      }
    },
    {
      "cell_type": "markdown",
      "source": [
        "#### 2.1.8. Exercises"
      ],
      "metadata": {
        "id": "95HHZsykmUaL"
      }
    },
    {
      "cell_type": "markdown",
      "source": [
        "Exercise 1."
      ],
      "metadata": {
        "id": "YMkJCCqnmdA3"
      }
    },
    {
      "cell_type": "code",
      "source": [
        "X, Y"
      ],
      "metadata": {
        "colab": {
          "base_uri": "https://localhost:8080/"
        },
        "id": "Sfy79jMPmg4F",
        "outputId": "98825644-a88c-46d7-cbd8-524f32477645"
      },
      "execution_count": 16,
      "outputs": [
        {
          "output_type": "execute_result",
          "data": {
            "text/plain": [
              "(tensor([[4, 4, 4, 4],\n",
              "         [4, 5, 6, 7]]),\n",
              " tensor([[1, 2, 3, 4],\n",
              "         [1, 2, 3, 4]]))"
            ]
          },
          "metadata": {},
          "execution_count": 16
        }
      ]
    },
    {
      "cell_type": "code",
      "source": [
        "X == Y"
      ],
      "metadata": {
        "colab": {
          "base_uri": "https://localhost:8080/"
        },
        "id": "_LxeBMYNmWVn",
        "outputId": "0ef68302-e365-4804-9575-c55dc910dfb6"
      },
      "execution_count": 14,
      "outputs": [
        {
          "output_type": "execute_result",
          "data": {
            "text/plain": [
              "tensor([[False, False, False,  True],\n",
              "        [False, False, False, False]])"
            ]
          },
          "metadata": {},
          "execution_count": 14
        }
      ]
    },
    {
      "cell_type": "code",
      "source": [
        "X < Y"
      ],
      "metadata": {
        "colab": {
          "base_uri": "https://localhost:8080/"
        },
        "id": "YOc_xoqEmZxf",
        "outputId": "1da67a87-a3b2-4bc6-85cf-e88a6f2908ac"
      },
      "execution_count": 15,
      "outputs": [
        {
          "output_type": "execute_result",
          "data": {
            "text/plain": [
              "tensor([[False, False, False, False],\n",
              "        [False, False, False, False]])"
            ]
          },
          "metadata": {},
          "execution_count": 15
        }
      ]
    },
    {
      "cell_type": "code",
      "source": [
        "X > Y"
      ],
      "metadata": {
        "colab": {
          "base_uri": "https://localhost:8080/"
        },
        "id": "SXeICikEmjl3",
        "outputId": "f0225c67-81be-48b1-b0b2-574aa434be81"
      },
      "execution_count": 17,
      "outputs": [
        {
          "output_type": "execute_result",
          "data": {
            "text/plain": [
              "tensor([[ True,  True,  True, False],\n",
              "        [ True,  True,  True,  True]])"
            ]
          },
          "metadata": {},
          "execution_count": 17
        }
      ]
    },
    {
      "cell_type": "markdown",
      "source": [
        "Exercise 2."
      ],
      "metadata": {
        "id": "lgLqwxcPmnEl"
      }
    },
    {
      "cell_type": "code",
      "source": [
        "a = torch.arange(3).reshape((3, 1))\n",
        "a"
      ],
      "metadata": {
        "colab": {
          "base_uri": "https://localhost:8080/"
        },
        "id": "7QJ0Przcmraj",
        "outputId": "953710d7-e8c9-48bf-c251-ec53a19ad1ce"
      },
      "execution_count": 18,
      "outputs": [
        {
          "output_type": "execute_result",
          "data": {
            "text/plain": [
              "tensor([[0],\n",
              "        [1],\n",
              "        [2]])"
            ]
          },
          "metadata": {},
          "execution_count": 18
        }
      ]
    },
    {
      "cell_type": "code",
      "source": [
        "b = torch.arange(2).reshape((1, 2))\n",
        "b"
      ],
      "metadata": {
        "colab": {
          "base_uri": "https://localhost:8080/"
        },
        "id": "UPmLPHrwm2ZJ",
        "outputId": "b5d71051-d4e9-44cb-bc4b-844d027df9a2"
      },
      "execution_count": 19,
      "outputs": [
        {
          "output_type": "execute_result",
          "data": {
            "text/plain": [
              "tensor([[0, 1]])"
            ]
          },
          "metadata": {},
          "execution_count": 19
        }
      ]
    },
    {
      "cell_type": "code",
      "source": [
        "A = torch.randn((3, 2, 4))\n",
        "B = torch.randn((1, 2, 4))\n",
        "A, B"
      ],
      "metadata": {
        "colab": {
          "base_uri": "https://localhost:8080/"
        },
        "id": "5Xg6PgZpm5oh",
        "outputId": "a9f5d927-0e72-4659-c351-4dc4ac862cc3"
      },
      "execution_count": 21,
      "outputs": [
        {
          "output_type": "execute_result",
          "data": {
            "text/plain": [
              "(tensor([[[ 0.1128, -0.1564, -0.8157,  1.2869],\n",
              "          [ 1.7797,  1.7673, -0.5868,  1.4034]],\n",
              " \n",
              "         [[-0.4879,  0.1716,  1.6061, -0.1826],\n",
              "          [ 0.1593,  1.0698,  0.3733, -0.6682]],\n",
              " \n",
              "         [[-0.0642, -0.9393,  0.9247, -0.9367],\n",
              "          [-0.6497, -0.5526,  0.2812, -0.9520]]]),\n",
              " tensor([[[ 1.8362,  1.3436, -1.8646,  1.2161],\n",
              "          [ 0.6807,  0.3039,  0.3715, -1.1228]]]))"
            ]
          },
          "metadata": {},
          "execution_count": 21
        }
      ]
    },
    {
      "cell_type": "code",
      "source": [
        "A.shape, B.shape"
      ],
      "metadata": {
        "colab": {
          "base_uri": "https://localhost:8080/"
        },
        "id": "SbmXE_6AoVxJ",
        "outputId": "1500e55d-eafb-46bf-a891-c880789ff854"
      },
      "execution_count": 23,
      "outputs": [
        {
          "output_type": "execute_result",
          "data": {
            "text/plain": [
              "(torch.Size([3, 2, 4]), torch.Size([1, 2, 4]))"
            ]
          },
          "metadata": {},
          "execution_count": 23
        }
      ]
    },
    {
      "cell_type": "code",
      "source": [
        "A + B"
      ],
      "metadata": {
        "colab": {
          "base_uri": "https://localhost:8080/"
        },
        "id": "GqgedKWpoT1r",
        "outputId": "8e236011-33e6-4cd2-9fbb-f8f937869a46"
      },
      "execution_count": 22,
      "outputs": [
        {
          "output_type": "execute_result",
          "data": {
            "text/plain": [
              "tensor([[[ 1.9490,  1.1872, -2.6803,  2.5029],\n",
              "         [ 2.4604,  2.0713, -0.2153,  0.2805]],\n",
              "\n",
              "        [[ 1.3483,  1.5152, -0.2586,  1.0334],\n",
              "         [ 0.8400,  1.3738,  0.7448, -1.7911]],\n",
              "\n",
              "        [[ 1.7720,  0.4043, -0.9399,  0.2794],\n",
              "         [ 0.0310, -0.2487,  0.6527, -2.0749]]])"
            ]
          },
          "metadata": {},
          "execution_count": 22
        }
      ]
    },
    {
      "cell_type": "code",
      "source": [
        "(A + B).shape"
      ],
      "metadata": {
        "colab": {
          "base_uri": "https://localhost:8080/"
        },
        "id": "V4CLeq5JoXvg",
        "outputId": "bf188b9c-912c-4556-c14f-7a5969d748a4"
      },
      "execution_count": 24,
      "outputs": [
        {
          "output_type": "execute_result",
          "data": {
            "text/plain": [
              "torch.Size([3, 2, 4])"
            ]
          },
          "metadata": {},
          "execution_count": 24
        }
      ]
    },
    {
      "cell_type": "markdown",
      "source": [
        "The result is the same as expected."
      ],
      "metadata": {
        "id": "WyhRH7rco4qw"
      }
    }
  ]
}