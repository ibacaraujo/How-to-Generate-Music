{
  "nbformat": 4,
  "nbformat_minor": 0,
  "metadata": {
    "colab": {
      "provenance": [],
      "mount_file_id": "1fw_1s02H57hH6b6j-vhde5yL_YvMLICZ",
      "authorship_tag": "ABX9TyOCtrshHVgoSJvFzwR+iIA3",
      "include_colab_link": true
    },
    "kernelspec": {
      "name": "python3",
      "display_name": "Python 3"
    },
    "language_info": {
      "name": "python"
    }
  },
  "cells": [
    {
      "cell_type": "markdown",
      "metadata": {
        "id": "view-in-github",
        "colab_type": "text"
      },
      "source": [
        "<a href=\"https://colab.research.google.com/github/ibacaraujo/How-to-Generate-Music/blob/master/d2l_chapter_02_preliminaries.ipynb\" target=\"_parent\"><img src=\"https://colab.research.google.com/assets/colab-badge.svg\" alt=\"Open In Colab\"/></a>"
      ]
    },
    {
      "cell_type": "code",
      "execution_count": null,
      "metadata": {
        "id": "ihVJ-t5q1T_s"
      },
      "outputs": [],
      "source": [
        "import torch"
      ]
    },
    {
      "cell_type": "code",
      "source": [
        "x = torch.arange(8, dtype=torch.float32)\n",
        "x"
      ],
      "metadata": {
        "colab": {
          "base_uri": "https://localhost:8080/"
        },
        "id": "RY4nDulf2IZ8",
        "outputId": "5f6be365-22e6-4027-9239-c2f997e15f62"
      },
      "execution_count": null,
      "outputs": [
        {
          "output_type": "execute_result",
          "data": {
            "text/plain": [
              "tensor([0., 1., 2., 3., 4., 5., 6., 7.])"
            ]
          },
          "metadata": {},
          "execution_count": 2
        }
      ]
    },
    {
      "cell_type": "code",
      "source": [
        "x.numel()"
      ],
      "metadata": {
        "colab": {
          "base_uri": "https://localhost:8080/"
        },
        "id": "qrONP7Zy2TFI",
        "outputId": "93e1dc10-e10f-43d9-a658-4e4af19d5abe"
      },
      "execution_count": null,
      "outputs": [
        {
          "output_type": "execute_result",
          "data": {
            "text/plain": [
              "8"
            ]
          },
          "metadata": {},
          "execution_count": 3
        }
      ]
    },
    {
      "cell_type": "code",
      "source": [
        "x.shape"
      ],
      "metadata": {
        "colab": {
          "base_uri": "https://localhost:8080/"
        },
        "id": "354WyArP2aw6",
        "outputId": "98c6d0a0-f304-4a12-f880-228ef8a1a8f1"
      },
      "execution_count": null,
      "outputs": [
        {
          "output_type": "execute_result",
          "data": {
            "text/plain": [
              "torch.Size([8])"
            ]
          },
          "metadata": {},
          "execution_count": 4
        }
      ]
    },
    {
      "cell_type": "code",
      "source": [
        "X = x.reshape(2, 4)\n",
        "X"
      ],
      "metadata": {
        "colab": {
          "base_uri": "https://localhost:8080/"
        },
        "id": "Nu_pp1TA2o-W",
        "outputId": "4cf535e1-2762-4757-cb51-3d0f41f291b1"
      },
      "execution_count": null,
      "outputs": [
        {
          "output_type": "execute_result",
          "data": {
            "text/plain": [
              "tensor([[0., 1., 2., 3.],\n",
              "        [4., 5., 6., 7.]])"
            ]
          },
          "metadata": {},
          "execution_count": 5
        }
      ]
    },
    {
      "cell_type": "code",
      "source": [
        "x.reshape(-1, 4)"
      ],
      "metadata": {
        "colab": {
          "base_uri": "https://localhost:8080/"
        },
        "id": "9YcJIzGS33ZA",
        "outputId": "9196cf08-1fbf-4330-a746-1495266829a6"
      },
      "execution_count": null,
      "outputs": [
        {
          "output_type": "execute_result",
          "data": {
            "text/plain": [
              "tensor([[0., 1., 2., 3.],\n",
              "        [4., 5., 6., 7.]])"
            ]
          },
          "metadata": {},
          "execution_count": 6
        }
      ]
    },
    {
      "cell_type": "code",
      "source": [
        "x.reshape(2, -1)"
      ],
      "metadata": {
        "colab": {
          "base_uri": "https://localhost:8080/"
        },
        "id": "ZJcRh7rL35Cn",
        "outputId": "78dda991-8913-4cc4-f9b8-196b1388dd62"
      },
      "execution_count": null,
      "outputs": [
        {
          "output_type": "execute_result",
          "data": {
            "text/plain": [
              "tensor([[0., 1., 2., 3.],\n",
              "        [4., 5., 6., 7.]])"
            ]
          },
          "metadata": {},
          "execution_count": 7
        }
      ]
    },
    {
      "cell_type": "code",
      "source": [
        "torch.zeros((2, 3, 4))"
      ],
      "metadata": {
        "colab": {
          "base_uri": "https://localhost:8080/"
        },
        "id": "hlhmof0-4AXb",
        "outputId": "f73120bd-9eee-4d24-8d97-a347ab872f74"
      },
      "execution_count": null,
      "outputs": [
        {
          "output_type": "execute_result",
          "data": {
            "text/plain": [
              "tensor([[[0., 0., 0., 0.],\n",
              "         [0., 0., 0., 0.],\n",
              "         [0., 0., 0., 0.]],\n",
              "\n",
              "        [[0., 0., 0., 0.],\n",
              "         [0., 0., 0., 0.],\n",
              "         [0., 0., 0., 0.]]])"
            ]
          },
          "metadata": {},
          "execution_count": 8
        }
      ]
    },
    {
      "cell_type": "code",
      "source": [
        "torch.ones((2, 3, 4))"
      ],
      "metadata": {
        "colab": {
          "base_uri": "https://localhost:8080/"
        },
        "id": "fPsUBy9J4GV9",
        "outputId": "8ee418c9-6539-4063-f5f0-72be2baee278"
      },
      "execution_count": null,
      "outputs": [
        {
          "output_type": "execute_result",
          "data": {
            "text/plain": [
              "tensor([[[1., 1., 1., 1.],\n",
              "         [1., 1., 1., 1.],\n",
              "         [1., 1., 1., 1.]],\n",
              "\n",
              "        [[1., 1., 1., 1.],\n",
              "         [1., 1., 1., 1.],\n",
              "         [1., 1., 1., 1.]]])"
            ]
          },
          "metadata": {},
          "execution_count": 9
        }
      ]
    },
    {
      "cell_type": "code",
      "source": [
        "torch.randn(2, 4)"
      ],
      "metadata": {
        "colab": {
          "base_uri": "https://localhost:8080/"
        },
        "id": "PPWQEecZ4QZW",
        "outputId": "dbb0a610-6be3-4622-e91a-d05aa7078947"
      },
      "execution_count": null,
      "outputs": [
        {
          "output_type": "execute_result",
          "data": {
            "text/plain": [
              "tensor([[-1.4958,  1.8775,  0.3137, -1.0386],\n",
              "        [-0.4152,  0.0564,  2.1963, -1.1991]])"
            ]
          },
          "metadata": {},
          "execution_count": 10
        }
      ]
    },
    {
      "cell_type": "code",
      "source": [
        "torch.tensor([[2, 1, 4, 3], [1, 2, 3, 4]])"
      ],
      "metadata": {
        "colab": {
          "base_uri": "https://localhost:8080/"
        },
        "id": "DtpqPYAd4ekt",
        "outputId": "3f15202b-5cc4-405a-b5e4-4ffd99441a5a"
      },
      "execution_count": null,
      "outputs": [
        {
          "output_type": "execute_result",
          "data": {
            "text/plain": [
              "tensor([[2, 1, 4, 3],\n",
              "        [1, 2, 3, 4]])"
            ]
          },
          "metadata": {},
          "execution_count": 11
        }
      ]
    },
    {
      "cell_type": "markdown",
      "source": [
        "#### Question.\n",
        "\n",
        "Explain the axis.\n",
        "\n",
        "Here, we construct a matrix with a list of lists, where the outermost list corresponds to axis 0, and the inner list corresponds to axis 1.\n",
        "\n",
        "torch.tensor([[2, 1, 4, 3], [1, 2, 3, 4]]).\n",
        "\n",
        "#### Response.\n",
        "\n",
        "This tensor represents a 2-dimensional matrix. In the context of this matrix, \"axis 0\" and \"axis 1\" refer to the dimensions along which various operations can be performed.\n",
        "\n",
        "Axis 0 (Row Axis): This is the \"outermost\" list. In your example, axis 0 has two elements: [2, 1, 4, 3] and [1, 2, 3, 4]. These are the rows of your matrix. If you perform an operation along axis 0, it will process the data row-wise. For instance, if you sum along axis 0 in this tensor, it will sum the corresponding elements of the rows, resulting in a single row.\n",
        "\n",
        "Axis 1 (Column Axis): This is the \"inner list\". In your example, axis 1 corresponds to the columns of the matrix. The first column is [2, 1], the second is [1, 2], and so on. Performing an operation along axis 1 means it will process the data column-wise. For example, summing along axis 1 will sum up the elements in each row, resulting in a single column."
      ],
      "metadata": {
        "id": "heugsDTA5nTx"
      }
    },
    {
      "cell_type": "markdown",
      "source": [
        "#### Question.\n",
        "\n",
        "Entendi a explicação, mas como se relaciona com axis 0 sendo o outermost e o axis 1 sendo o innermost?\n",
        "\n",
        "#### Response.\n",
        "\n",
        "Quando falamos de \"outermost\" (mais externo) e \"innermost\" (mais interno) em relação aos eixos de uma matriz, estamos nos referindo à maneira como a matriz é visualizada e como suas dimensões são acessadas em linguagens de programação.\n",
        "\n",
        "Axis 0 (Outermost): Este é o primeiro nível de uma matriz. Em uma matriz bidimensional, o axis 0 representa as linhas. Quando você itera sobre o axis 0, está passando pelas linhas da matriz. No seu exemplo, torch.tensor([[2, 1, 4, 3], [1, 2, 3, 4]]), o axis 0 tem dois elementos: [2, 1, 4, 3] e [1, 2, 3, 4]. Estes são considerados os elementos mais externos porque são o primeiro nível de agrupamento de dados na matriz.\n",
        "\n",
        "Axis 1 (Innermost): Este é o segundo nível de uma matriz bidimensional. O axis 1 representa as colunas. Ao iterar sobre o axis 1, você está percorrendo os elementos dentro de cada linha. No mesmo exemplo, dentro da primeira linha [2, 1, 4, 3], o axis 1 permite acessar os valores 2, 1, 4 e 3 individualmente. Eles são considerados mais internos porque estão dentro do agrupamento fornecido pelo axis 0.\n",
        "\n",
        "Em resumo, o \"mais externo\" (axis 0) se refere ao nível superior de agrupamento na matriz (linhas), enquanto o \"mais interno\" (axis 1) se refere ao nível inferior de agrupamento dentro de cada linha (colunas). Isso se torna ainda mais complexo em matrizes com mais dimensões, onde cada dimensão adicional representa um novo nível de agrupamento interno."
      ],
      "metadata": {
        "id": "RGXplLSF5YMG"
      }
    },
    {
      "cell_type": "code",
      "source": [
        "X[-1], X[1:3]"
      ],
      "metadata": {
        "colab": {
          "base_uri": "https://localhost:8080/"
        },
        "id": "7CKjSvBY8pOL",
        "outputId": "ec0861d0-609d-431c-b93e-a8ac1b5fe03b"
      },
      "execution_count": null,
      "outputs": [
        {
          "output_type": "execute_result",
          "data": {
            "text/plain": [
              "(tensor([4., 5., 6., 7.]), tensor([[4., 5., 6., 7.]]))"
            ]
          },
          "metadata": {},
          "execution_count": 14
        }
      ]
    },
    {
      "cell_type": "code",
      "source": [
        "X[1, 2] = 17\n",
        "X"
      ],
      "metadata": {
        "colab": {
          "base_uri": "https://localhost:8080/"
        },
        "id": "XiKA1C2K83H0",
        "outputId": "d5045b4e-846a-4011-daf1-72b91d2e0129"
      },
      "execution_count": null,
      "outputs": [
        {
          "output_type": "execute_result",
          "data": {
            "text/plain": [
              "tensor([[ 0.,  1.,  2.,  3.],\n",
              "        [ 4.,  5., 17.,  7.]])"
            ]
          },
          "metadata": {},
          "execution_count": 16
        }
      ]
    },
    {
      "cell_type": "code",
      "source": [
        "X[:2, :] = 11\n",
        "X"
      ],
      "metadata": {
        "colab": {
          "base_uri": "https://localhost:8080/"
        },
        "id": "6zzeemau8-Qz",
        "outputId": "519b0a14-555b-4b5c-ab30-fc158f2aac39"
      },
      "execution_count": null,
      "outputs": [
        {
          "output_type": "execute_result",
          "data": {
            "text/plain": [
              "tensor([[11., 11., 11., 11.],\n",
              "        [11., 11., 11., 11.]])"
            ]
          },
          "metadata": {},
          "execution_count": 18
        }
      ]
    },
    {
      "cell_type": "markdown",
      "source": [
        "### 2.1.3 Operations."
      ],
      "metadata": {
        "id": "oKH3xAnCI54w"
      }
    },
    {
      "cell_type": "code",
      "source": [
        "import torch"
      ],
      "metadata": {
        "id": "A25N-y3wI853"
      },
      "execution_count": null,
      "outputs": []
    },
    {
      "cell_type": "code",
      "source": [
        "x = torch.arange(11)\n",
        "x"
      ],
      "metadata": {
        "colab": {
          "base_uri": "https://localhost:8080/"
        },
        "id": "nbWumLk6JALY",
        "outputId": "1ae544ce-94dc-4b88-e743-ee47f16007a5"
      },
      "execution_count": null,
      "outputs": [
        {
          "output_type": "execute_result",
          "data": {
            "text/plain": [
              "tensor([ 0,  1,  2,  3,  4,  5,  6,  7,  8,  9, 10])"
            ]
          },
          "metadata": {},
          "execution_count": 2
        }
      ]
    },
    {
      "cell_type": "code",
      "source": [
        "torch.exp(x)"
      ],
      "metadata": {
        "colab": {
          "base_uri": "https://localhost:8080/"
        },
        "id": "jbQHTlsFJCRs",
        "outputId": "ae91c5ed-d400-4348-c9df-9345199490f8"
      },
      "execution_count": null,
      "outputs": [
        {
          "output_type": "execute_result",
          "data": {
            "text/plain": [
              "tensor([1.0000e+00, 2.7183e+00, 7.3891e+00, 2.0086e+01, 5.4598e+01, 1.4841e+02,\n",
              "        4.0343e+02, 1.0966e+03, 2.9810e+03, 8.1031e+03, 2.2026e+04])"
            ]
          },
          "metadata": {},
          "execution_count": 3
        }
      ]
    },
    {
      "cell_type": "markdown",
      "source": [
        "Scalar function is lifted to an elementwise vector operation."
      ],
      "metadata": {
        "id": "iDSfzQ-WJXbq"
      }
    },
    {
      "cell_type": "code",
      "source": [
        "x = torch.tensor([1.0, 2, 4, 8])\n",
        "y = torch.tensor([2, 2, 2, 2])\n",
        "x + y, x - y, x * y, x / y, x ** y"
      ],
      "metadata": {
        "colab": {
          "base_uri": "https://localhost:8080/"
        },
        "id": "a9Z-TB3oJc4A",
        "outputId": "8d2de332-236d-482a-9e90-818f745eee3b"
      },
      "execution_count": null,
      "outputs": [
        {
          "output_type": "execute_result",
          "data": {
            "text/plain": [
              "(tensor([ 3.,  4.,  6., 10.]),\n",
              " tensor([-1.,  0.,  2.,  6.]),\n",
              " tensor([ 2.,  4.,  8., 16.]),\n",
              " tensor([0.5000, 1.0000, 2.0000, 4.0000]),\n",
              " tensor([ 1.,  4., 16., 64.]))"
            ]
          },
          "metadata": {},
          "execution_count": 5
        }
      ]
    },
    {
      "cell_type": "markdown",
      "source": [
        "Besides elementwise computations, we can also consider linear algebraic operations like dot products and matrix multiplications."
      ],
      "metadata": {
        "id": "7vq5EoTxJtQQ"
      }
    },
    {
      "cell_type": "markdown",
      "source": [
        "Concatenate multiple tensors."
      ],
      "metadata": {
        "id": "l_DPe_ZAJ2eC"
      }
    },
    {
      "cell_type": "code",
      "source": [
        "X = torch.arange(16, dtype=torch.float32).reshape((4,4))\n",
        "Y = torch.tensor([[2.0, 1, 4, 3], [1, 2, 3, 4], [4, 3, 2, 1], [1, 1, 1, 1]])\n",
        "X, Y, torch.cat((X, Y), dim=0), torch.cat((X, Y), dim=1)"
      ],
      "metadata": {
        "colab": {
          "base_uri": "https://localhost:8080/"
        },
        "id": "DGDcMilaJzxl",
        "outputId": "cb232766-a284-4c5f-fd25-8c655579c519"
      },
      "execution_count": null,
      "outputs": [
        {
          "output_type": "execute_result",
          "data": {
            "text/plain": [
              "(tensor([[ 0.,  1.,  2.,  3.],\n",
              "         [ 4.,  5.,  6.,  7.],\n",
              "         [ 8.,  9., 10., 11.],\n",
              "         [12., 13., 14., 15.]]),\n",
              " tensor([[2., 1., 4., 3.],\n",
              "         [1., 2., 3., 4.],\n",
              "         [4., 3., 2., 1.],\n",
              "         [1., 1., 1., 1.]]),\n",
              " tensor([[ 0.,  1.,  2.,  3.],\n",
              "         [ 4.,  5.,  6.,  7.],\n",
              "         [ 8.,  9., 10., 11.],\n",
              "         [12., 13., 14., 15.],\n",
              "         [ 2.,  1.,  4.,  3.],\n",
              "         [ 1.,  2.,  3.,  4.],\n",
              "         [ 4.,  3.,  2.,  1.],\n",
              "         [ 1.,  1.,  1.,  1.]]),\n",
              " tensor([[ 0.,  1.,  2.,  3.,  2.,  1.,  4.,  3.],\n",
              "         [ 4.,  5.,  6.,  7.,  1.,  2.,  3.,  4.],\n",
              "         [ 8.,  9., 10., 11.,  4.,  3.,  2.,  1.],\n",
              "         [12., 13., 14., 15.,  1.,  1.,  1.,  1.]]))"
            ]
          },
          "metadata": {},
          "execution_count": 9
        }
      ]
    },
    {
      "cell_type": "code",
      "source": [
        "X == Y"
      ],
      "metadata": {
        "colab": {
          "base_uri": "https://localhost:8080/"
        },
        "id": "Gw4ITM5qKxLQ",
        "outputId": "cd6d875a-e0f9-46d7-d727-0da778d5009f"
      },
      "execution_count": null,
      "outputs": [
        {
          "output_type": "execute_result",
          "data": {
            "text/plain": [
              "tensor([[False,  True, False,  True],\n",
              "        [False, False, False, False],\n",
              "        [False, False, False, False],\n",
              "        [False, False, False, False]])"
            ]
          },
          "metadata": {},
          "execution_count": 10
        }
      ]
    },
    {
      "cell_type": "code",
      "source": [
        "X.sum()"
      ],
      "metadata": {
        "id": "gkQflvXjK0LZ"
      },
      "execution_count": null,
      "outputs": []
    },
    {
      "cell_type": "markdown",
      "source": [
        "#### 2.1.4. Broadcasting."
      ],
      "metadata": {
        "id": "yNajgYdbtO5L"
      }
    },
    {
      "cell_type": "code",
      "source": [
        "import torch"
      ],
      "metadata": {
        "id": "004IxXtRtXdC"
      },
      "execution_count": null,
      "outputs": []
    },
    {
      "cell_type": "code",
      "source": [
        "a = torch.arange(3).reshape((3, 1))\n",
        "a"
      ],
      "metadata": {
        "colab": {
          "base_uri": "https://localhost:8080/"
        },
        "id": "c-pRwKzmtS2G",
        "outputId": "47aa3a84-5a9c-4567-9f91-879debde1f09"
      },
      "execution_count": null,
      "outputs": [
        {
          "output_type": "execute_result",
          "data": {
            "text/plain": [
              "tensor([[0],\n",
              "        [1],\n",
              "        [2]])"
            ]
          },
          "metadata": {},
          "execution_count": 4
        }
      ]
    },
    {
      "cell_type": "code",
      "source": [
        "b = torch.arange(2).reshape((1, 2))\n",
        "b"
      ],
      "metadata": {
        "colab": {
          "base_uri": "https://localhost:8080/"
        },
        "id": "zzuNAMZ0tdea",
        "outputId": "39bb43a7-4664-4c66-fcf9-f8da7075f31b"
      },
      "execution_count": null,
      "outputs": [
        {
          "output_type": "execute_result",
          "data": {
            "text/plain": [
              "tensor([[0, 1]])"
            ]
          },
          "metadata": {},
          "execution_count": 6
        }
      ]
    },
    {
      "cell_type": "code",
      "source": [
        "a + b"
      ],
      "metadata": {
        "id": "iWMIPBZdtyf1",
        "outputId": "0cc287f9-237f-4c9d-eb86-ce29fe25e6a2",
        "colab": {
          "base_uri": "https://localhost:8080/"
        }
      },
      "execution_count": null,
      "outputs": [
        {
          "output_type": "execute_result",
          "data": {
            "text/plain": [
              "tensor([[0, 1],\n",
              "        [1, 2],\n",
              "        [2, 3]])"
            ]
          },
          "metadata": {},
          "execution_count": 7
        }
      ]
    },
    {
      "cell_type": "markdown",
      "source": [
        "#### 2.1.5. Saving Memory"
      ],
      "metadata": {
        "id": "N3i3cCi6ZMKK"
      }
    },
    {
      "cell_type": "code",
      "source": [
        "import torch"
      ],
      "metadata": {
        "id": "b23Air7UZU2k"
      },
      "execution_count": null,
      "outputs": []
    },
    {
      "cell_type": "code",
      "source": [
        "X = torch.arange(8).reshape((2, 4))\n",
        "X"
      ],
      "metadata": {
        "colab": {
          "base_uri": "https://localhost:8080/"
        },
        "id": "O_ELwOTQZVr-",
        "outputId": "e46d5a6b-f39d-44c6-ff55-3ab0f3538678"
      },
      "execution_count": null,
      "outputs": [
        {
          "output_type": "execute_result",
          "data": {
            "text/plain": [
              "tensor([[0, 1, 2, 3],\n",
              "        [4, 5, 6, 7]])"
            ]
          },
          "metadata": {},
          "execution_count": 3
        }
      ]
    },
    {
      "cell_type": "code",
      "source": [
        "Y = torch.tensor([[1, 2, 3, 4], [1, 2, 3, 4]])\n",
        "Y"
      ],
      "metadata": {
        "colab": {
          "base_uri": "https://localhost:8080/"
        },
        "id": "WZ7wGjixZe8m",
        "outputId": "ec4a088d-b762-4d71-f035-76c778949e09"
      },
      "execution_count": null,
      "outputs": [
        {
          "output_type": "execute_result",
          "data": {
            "text/plain": [
              "tensor([[1, 2, 3, 4],\n",
              "        [1, 2, 3, 4]])"
            ]
          },
          "metadata": {},
          "execution_count": 5
        }
      ]
    },
    {
      "cell_type": "code",
      "source": [
        "before = id(Y)\n",
        "Y = Y + X\n",
        "id(Y) == before"
      ],
      "metadata": {
        "colab": {
          "base_uri": "https://localhost:8080/"
        },
        "id": "ZmpHOU_QZrPa",
        "outputId": "9f79b517-5406-4c54-ab8f-fc43eea6f28c"
      },
      "execution_count": null,
      "outputs": [
        {
          "output_type": "execute_result",
          "data": {
            "text/plain": [
              "False"
            ]
          },
          "metadata": {},
          "execution_count": 6
        }
      ]
    },
    {
      "cell_type": "code",
      "source": [
        "Z = torch.zeros_like(Y)\n",
        "print('id(Z):', id(Z), '.')\n",
        "Z[:] = X + Y\n",
        "print('id(Z):', id(Z), '.')"
      ],
      "metadata": {
        "colab": {
          "base_uri": "https://localhost:8080/"
        },
        "id": "SWNpbqTRZwF2",
        "outputId": "47788470-bbe7-4af6-d447-8634be9d2e6e"
      },
      "execution_count": null,
      "outputs": [
        {
          "output_type": "stream",
          "name": "stdout",
          "text": [
            "id(Z): 137280009467872 .\n",
            "id(Z): 137280009467872 .\n"
          ]
        }
      ]
    },
    {
      "cell_type": "code",
      "source": [
        "before = id(X)\n",
        "X += Y\n",
        "id(X) == before"
      ],
      "metadata": {
        "id": "gX4b_z7EZ8cj",
        "outputId": "4106fe2c-391a-422e-da1c-aa8be9d03d42",
        "colab": {
          "base_uri": "https://localhost:8080/"
        }
      },
      "execution_count": null,
      "outputs": [
        {
          "output_type": "execute_result",
          "data": {
            "text/plain": [
              "True"
            ]
          },
          "metadata": {},
          "execution_count": 8
        }
      ]
    },
    {
      "cell_type": "markdown",
      "source": [
        "#### 2.1.6. Conversion to Other Python Objects."
      ],
      "metadata": {
        "id": "k7YHMckdlCXJ"
      }
    },
    {
      "cell_type": "code",
      "source": [
        "import torch"
      ],
      "metadata": {
        "id": "nzTFheG7lFsD"
      },
      "execution_count": null,
      "outputs": []
    },
    {
      "cell_type": "code",
      "source": [
        "X = torch.arange(8).reshape((2, 4))\n",
        "Y = torch.tensor([[1, 2, 3, 4], [1, 2, 3, 4]])"
      ],
      "metadata": {
        "id": "tyU4aBBolJyg"
      },
      "execution_count": null,
      "outputs": []
    },
    {
      "cell_type": "code",
      "source": [
        "id(X)"
      ],
      "metadata": {
        "colab": {
          "base_uri": "https://localhost:8080/"
        },
        "id": "LFz6uTWIlb73",
        "outputId": "e429c02d-9457-4f9c-a61d-ded8026fa563"
      },
      "execution_count": null,
      "outputs": [
        {
          "output_type": "execute_result",
          "data": {
            "text/plain": [
              "134169185480320"
            ]
          },
          "metadata": {},
          "execution_count": 7
        }
      ]
    },
    {
      "cell_type": "code",
      "source": [
        "A = X.numpy()\n",
        "A"
      ],
      "metadata": {
        "colab": {
          "base_uri": "https://localhost:8080/"
        },
        "id": "rLC1tImblQPO",
        "outputId": "c16f01b5-fe53-48b9-ec5b-1de23813824e"
      },
      "execution_count": null,
      "outputs": [
        {
          "output_type": "execute_result",
          "data": {
            "text/plain": [
              "array([[0, 1, 2, 3],\n",
              "       [4, 5, 6, 7]])"
            ]
          },
          "metadata": {},
          "execution_count": 3
        }
      ]
    },
    {
      "cell_type": "code",
      "source": [
        "B = torch.from_numpy(A)\n",
        "B"
      ],
      "metadata": {
        "colab": {
          "base_uri": "https://localhost:8080/"
        },
        "id": "Ujd0lK-TlSMw",
        "outputId": "9724373c-4bba-4af5-9272-fb1d09789fd7"
      },
      "execution_count": null,
      "outputs": [
        {
          "output_type": "execute_result",
          "data": {
            "text/plain": [
              "tensor([[0, 1, 2, 3],\n",
              "        [4, 5, 6, 7]])"
            ]
          },
          "metadata": {},
          "execution_count": 4
        }
      ]
    },
    {
      "cell_type": "code",
      "source": [
        "type(A), type(B)"
      ],
      "metadata": {
        "colab": {
          "base_uri": "https://localhost:8080/"
        },
        "id": "y3b2uJI3lVUz",
        "outputId": "d7c3761b-aedd-4142-c3e8-5cb02238b497"
      },
      "execution_count": null,
      "outputs": [
        {
          "output_type": "execute_result",
          "data": {
            "text/plain": [
              "(numpy.ndarray, torch.Tensor)"
            ]
          },
          "metadata": {},
          "execution_count": 5
        }
      ]
    },
    {
      "cell_type": "code",
      "source": [
        "id(A), id(B)"
      ],
      "metadata": {
        "colab": {
          "base_uri": "https://localhost:8080/"
        },
        "id": "sEvgcI-olW98",
        "outputId": "7238cfcd-3ab4-44ba-d294-4b1597513145"
      },
      "execution_count": null,
      "outputs": [
        {
          "output_type": "execute_result",
          "data": {
            "text/plain": [
              "(134169174390992, 134172772481472)"
            ]
          },
          "metadata": {},
          "execution_count": 6
        }
      ]
    },
    {
      "cell_type": "code",
      "source": [
        "A[0] = 2"
      ],
      "metadata": {
        "id": "wHYwtx_Wlz5g"
      },
      "execution_count": null,
      "outputs": []
    },
    {
      "cell_type": "code",
      "source": [
        "X"
      ],
      "metadata": {
        "colab": {
          "base_uri": "https://localhost:8080/"
        },
        "id": "lt22kETnl4yT",
        "outputId": "587fefe3-35ef-4486-f062-c3c6a504e407"
      },
      "execution_count": null,
      "outputs": [
        {
          "output_type": "execute_result",
          "data": {
            "text/plain": [
              "tensor([[2, 2, 2, 2],\n",
              "        [4, 5, 6, 7]])"
            ]
          },
          "metadata": {},
          "execution_count": 9
        }
      ]
    },
    {
      "cell_type": "code",
      "source": [
        "B[0] = 4"
      ],
      "metadata": {
        "id": "T-jQCk8El7GE"
      },
      "execution_count": null,
      "outputs": []
    },
    {
      "cell_type": "code",
      "source": [
        "X"
      ],
      "metadata": {
        "colab": {
          "base_uri": "https://localhost:8080/"
        },
        "id": "jOmxReabl_1B",
        "outputId": "7f611839-adeb-4813-d7ac-b2601319782e"
      },
      "execution_count": null,
      "outputs": [
        {
          "output_type": "execute_result",
          "data": {
            "text/plain": [
              "tensor([[4, 4, 4, 4],\n",
              "        [4, 5, 6, 7]])"
            ]
          },
          "metadata": {},
          "execution_count": 11
        }
      ]
    },
    {
      "cell_type": "code",
      "source": [
        "a = torch.tensor([3.5])\n",
        "a, a.item(), float(a), int(a)"
      ],
      "metadata": {
        "colab": {
          "base_uri": "https://localhost:8080/"
        },
        "id": "Q2euJgp9mDMf",
        "outputId": "24918d6e-a72a-4bee-ba69-e2ae9dc74e50"
      },
      "execution_count": null,
      "outputs": [
        {
          "output_type": "execute_result",
          "data": {
            "text/plain": [
              "(tensor([3.5000]), 3.5, 3.5, 3)"
            ]
          },
          "metadata": {},
          "execution_count": 13
        }
      ]
    },
    {
      "cell_type": "markdown",
      "source": [
        "#### 2.1.7. Summary\n",
        "\n",
        "The tensor class is the main interface for storing and manipulating data in deep learning libraries."
      ],
      "metadata": {
        "id": "QtW0aj0AmMHL"
      }
    },
    {
      "cell_type": "markdown",
      "source": [
        "#### 2.1.8. Exercises"
      ],
      "metadata": {
        "id": "95HHZsykmUaL"
      }
    },
    {
      "cell_type": "markdown",
      "source": [
        "Exercise 1."
      ],
      "metadata": {
        "id": "YMkJCCqnmdA3"
      }
    },
    {
      "cell_type": "code",
      "source": [
        "X, Y"
      ],
      "metadata": {
        "colab": {
          "base_uri": "https://localhost:8080/"
        },
        "id": "Sfy79jMPmg4F",
        "outputId": "98825644-a88c-46d7-cbd8-524f32477645"
      },
      "execution_count": null,
      "outputs": [
        {
          "output_type": "execute_result",
          "data": {
            "text/plain": [
              "(tensor([[4, 4, 4, 4],\n",
              "         [4, 5, 6, 7]]),\n",
              " tensor([[1, 2, 3, 4],\n",
              "         [1, 2, 3, 4]]))"
            ]
          },
          "metadata": {},
          "execution_count": 16
        }
      ]
    },
    {
      "cell_type": "code",
      "source": [
        "X == Y"
      ],
      "metadata": {
        "colab": {
          "base_uri": "https://localhost:8080/"
        },
        "id": "_LxeBMYNmWVn",
        "outputId": "0ef68302-e365-4804-9575-c55dc910dfb6"
      },
      "execution_count": null,
      "outputs": [
        {
          "output_type": "execute_result",
          "data": {
            "text/plain": [
              "tensor([[False, False, False,  True],\n",
              "        [False, False, False, False]])"
            ]
          },
          "metadata": {},
          "execution_count": 14
        }
      ]
    },
    {
      "cell_type": "code",
      "source": [
        "X < Y"
      ],
      "metadata": {
        "colab": {
          "base_uri": "https://localhost:8080/"
        },
        "id": "YOc_xoqEmZxf",
        "outputId": "1da67a87-a3b2-4bc6-85cf-e88a6f2908ac"
      },
      "execution_count": null,
      "outputs": [
        {
          "output_type": "execute_result",
          "data": {
            "text/plain": [
              "tensor([[False, False, False, False],\n",
              "        [False, False, False, False]])"
            ]
          },
          "metadata": {},
          "execution_count": 15
        }
      ]
    },
    {
      "cell_type": "code",
      "source": [
        "X > Y"
      ],
      "metadata": {
        "colab": {
          "base_uri": "https://localhost:8080/"
        },
        "id": "SXeICikEmjl3",
        "outputId": "f0225c67-81be-48b1-b0b2-574aa434be81"
      },
      "execution_count": null,
      "outputs": [
        {
          "output_type": "execute_result",
          "data": {
            "text/plain": [
              "tensor([[ True,  True,  True, False],\n",
              "        [ True,  True,  True,  True]])"
            ]
          },
          "metadata": {},
          "execution_count": 17
        }
      ]
    },
    {
      "cell_type": "markdown",
      "source": [
        "Exercise 2."
      ],
      "metadata": {
        "id": "lgLqwxcPmnEl"
      }
    },
    {
      "cell_type": "code",
      "source": [
        "a = torch.arange(3).reshape((3, 1))\n",
        "a"
      ],
      "metadata": {
        "colab": {
          "base_uri": "https://localhost:8080/"
        },
        "id": "7QJ0Przcmraj",
        "outputId": "953710d7-e8c9-48bf-c251-ec53a19ad1ce"
      },
      "execution_count": null,
      "outputs": [
        {
          "output_type": "execute_result",
          "data": {
            "text/plain": [
              "tensor([[0],\n",
              "        [1],\n",
              "        [2]])"
            ]
          },
          "metadata": {},
          "execution_count": 18
        }
      ]
    },
    {
      "cell_type": "code",
      "source": [
        "b = torch.arange(2).reshape((1, 2))\n",
        "b"
      ],
      "metadata": {
        "colab": {
          "base_uri": "https://localhost:8080/"
        },
        "id": "UPmLPHrwm2ZJ",
        "outputId": "b5d71051-d4e9-44cb-bc4b-844d027df9a2"
      },
      "execution_count": null,
      "outputs": [
        {
          "output_type": "execute_result",
          "data": {
            "text/plain": [
              "tensor([[0, 1]])"
            ]
          },
          "metadata": {},
          "execution_count": 19
        }
      ]
    },
    {
      "cell_type": "code",
      "source": [
        "A = torch.randn((3, 2, 4))\n",
        "B = torch.randn((1, 2, 4))\n",
        "A, B"
      ],
      "metadata": {
        "colab": {
          "base_uri": "https://localhost:8080/"
        },
        "id": "5Xg6PgZpm5oh",
        "outputId": "a9f5d927-0e72-4659-c351-4dc4ac862cc3"
      },
      "execution_count": null,
      "outputs": [
        {
          "output_type": "execute_result",
          "data": {
            "text/plain": [
              "(tensor([[[ 0.1128, -0.1564, -0.8157,  1.2869],\n",
              "          [ 1.7797,  1.7673, -0.5868,  1.4034]],\n",
              " \n",
              "         [[-0.4879,  0.1716,  1.6061, -0.1826],\n",
              "          [ 0.1593,  1.0698,  0.3733, -0.6682]],\n",
              " \n",
              "         [[-0.0642, -0.9393,  0.9247, -0.9367],\n",
              "          [-0.6497, -0.5526,  0.2812, -0.9520]]]),\n",
              " tensor([[[ 1.8362,  1.3436, -1.8646,  1.2161],\n",
              "          [ 0.6807,  0.3039,  0.3715, -1.1228]]]))"
            ]
          },
          "metadata": {},
          "execution_count": 21
        }
      ]
    },
    {
      "cell_type": "code",
      "source": [
        "A.shape, B.shape"
      ],
      "metadata": {
        "colab": {
          "base_uri": "https://localhost:8080/"
        },
        "id": "SbmXE_6AoVxJ",
        "outputId": "1500e55d-eafb-46bf-a891-c880789ff854"
      },
      "execution_count": null,
      "outputs": [
        {
          "output_type": "execute_result",
          "data": {
            "text/plain": [
              "(torch.Size([3, 2, 4]), torch.Size([1, 2, 4]))"
            ]
          },
          "metadata": {},
          "execution_count": 23
        }
      ]
    },
    {
      "cell_type": "code",
      "source": [
        "A + B"
      ],
      "metadata": {
        "colab": {
          "base_uri": "https://localhost:8080/"
        },
        "id": "GqgedKWpoT1r",
        "outputId": "8e236011-33e6-4cd2-9fbb-f8f937869a46"
      },
      "execution_count": null,
      "outputs": [
        {
          "output_type": "execute_result",
          "data": {
            "text/plain": [
              "tensor([[[ 1.9490,  1.1872, -2.6803,  2.5029],\n",
              "         [ 2.4604,  2.0713, -0.2153,  0.2805]],\n",
              "\n",
              "        [[ 1.3483,  1.5152, -0.2586,  1.0334],\n",
              "         [ 0.8400,  1.3738,  0.7448, -1.7911]],\n",
              "\n",
              "        [[ 1.7720,  0.4043, -0.9399,  0.2794],\n",
              "         [ 0.0310, -0.2487,  0.6527, -2.0749]]])"
            ]
          },
          "metadata": {},
          "execution_count": 22
        }
      ]
    },
    {
      "cell_type": "code",
      "source": [
        "(A + B).shape"
      ],
      "metadata": {
        "colab": {
          "base_uri": "https://localhost:8080/"
        },
        "id": "V4CLeq5JoXvg",
        "outputId": "bf188b9c-912c-4556-c14f-7a5969d748a4"
      },
      "execution_count": null,
      "outputs": [
        {
          "output_type": "execute_result",
          "data": {
            "text/plain": [
              "torch.Size([3, 2, 4])"
            ]
          },
          "metadata": {},
          "execution_count": 24
        }
      ]
    },
    {
      "cell_type": "markdown",
      "source": [
        "The result is the same as expected."
      ],
      "metadata": {
        "id": "WyhRH7rco4qw"
      }
    },
    {
      "cell_type": "markdown",
      "source": [
        "## 2.2. Data Preprocessing."
      ],
      "metadata": {
        "id": "eR2p1e9MyJ6P"
      }
    },
    {
      "cell_type": "markdown",
      "source": [
        "#### 2.2.1. Reading the Dataset."
      ],
      "metadata": {
        "id": "z-k2bzN_yMas"
      }
    },
    {
      "cell_type": "code",
      "source": [
        "import os\n",
        "\n",
        "os.makedirs(os.path.join('..', 'data'), exist_ok=True)\n",
        "data_file = os.path.join('..', 'data', 'house_tiny.csv')\n",
        "with open(data_file, 'w') as f:\n",
        "  f.write('''NumRooms,RoofType,Price\n",
        "  NA,NA,127500\n",
        "  2,NA,106000\n",
        "  4,Slate,178100\n",
        "  NA,NA,140000''')"
      ],
      "metadata": {
        "id": "RrXFWJoYyVK-"
      },
      "execution_count": null,
      "outputs": []
    },
    {
      "cell_type": "code",
      "source": [
        "import pandas as pd\n",
        "\n",
        "data = pd.read_csv(data_file)\n",
        "print(data)"
      ],
      "metadata": {
        "colab": {
          "base_uri": "https://localhost:8080/"
        },
        "id": "wB5GGIXCzCCp",
        "outputId": "203af670-fd00-4201-a572-9dc5258ffa0a"
      },
      "execution_count": null,
      "outputs": [
        {
          "output_type": "stream",
          "name": "stdout",
          "text": [
            "  NumRooms RoofType   Price\n",
            "0       NA      NaN  127500\n",
            "1        2      NaN  106000\n",
            "2        4    Slate  178100\n",
            "3       NA      NaN  140000\n"
          ]
        }
      ]
    },
    {
      "cell_type": "markdown",
      "source": [
        "#### 2.2.2. Data Preparation."
      ],
      "metadata": {
        "id": "u6lAvpCDzYdi"
      }
    },
    {
      "cell_type": "code",
      "source": [
        "inputs, targets = data.iloc[:, 0:2], data.iloc[:, 2]\n",
        "inputs = pd.get_dummies(inputs, dummy_na=True)\n",
        "print(inputs)"
      ],
      "metadata": {
        "colab": {
          "base_uri": "https://localhost:8080/"
        },
        "id": "KBuT7i6YzbvO",
        "outputId": "a8f29970-56b3-4fe8-b929-dbd07b607ec2"
      },
      "execution_count": null,
      "outputs": [
        {
          "output_type": "stream",
          "name": "stdout",
          "text": [
            "   NumRooms_  2  NumRooms_  4  NumRooms_  NA  NumRooms_nan  RoofType_Slate  \\\n",
            "0             0             0              1             0               0   \n",
            "1             1             0              0             0               0   \n",
            "2             0             1              0             0               1   \n",
            "3             0             0              1             0               0   \n",
            "\n",
            "   RoofType_nan  \n",
            "0             1  \n",
            "1             1  \n",
            "2             0  \n",
            "3             1  \n"
          ]
        }
      ]
    },
    {
      "cell_type": "code",
      "source": [
        "inputs, targets = data.iloc[:, 0:2], data.iloc[:, 2]\n",
        "\n",
        "num_data = inputs[['NumRooms']]\n",
        "cat_data = inputs[['RoofType']]\n",
        "cat_data_dummies = pd.get_dummies(cat_data, dummy_na=True)\n",
        "inputs = pd.concat([num_data, cat_data_dummies], axis=1)\n",
        "\n",
        "print(inputs)"
      ],
      "metadata": {
        "colab": {
          "base_uri": "https://localhost:8080/"
        },
        "id": "3BO4baHj0Lth",
        "outputId": "c7f77da8-2819-440b-9e57-68c179a2b806"
      },
      "execution_count": null,
      "outputs": [
        {
          "output_type": "stream",
          "name": "stdout",
          "text": [
            "  NumRooms  RoofType_Slate  RoofType_nan\n",
            "0       NA               0             1\n",
            "1        2               0             1\n",
            "2        4               1             0\n",
            "3       NA               0             1\n"
          ]
        }
      ]
    },
    {
      "cell_type": "code",
      "source": [
        "inputs = inputs.fillna(inputs.mean())\n",
        "print(inputs)"
      ],
      "metadata": {
        "colab": {
          "base_uri": "https://localhost:8080/"
        },
        "id": "21rGwsPD0WF8",
        "outputId": "2772e473-3945-43f3-8199-c41958f85742"
      },
      "execution_count": null,
      "outputs": [
        {
          "output_type": "stream",
          "name": "stdout",
          "text": [
            "  NumRooms  RoofType_Slate  RoofType_nan\n",
            "0       NA               0             1\n",
            "1        2               0             1\n",
            "2        4               1             0\n",
            "3       NA               0             1\n"
          ]
        },
        {
          "output_type": "stream",
          "name": "stderr",
          "text": [
            "<ipython-input-8-066396d91054>:1: FutureWarning: The default value of numeric_only in DataFrame.mean is deprecated. In a future version, it will default to False. In addition, specifying 'numeric_only=None' is deprecated. Select only valid columns or specify the value of numeric_only to silence this warning.\n",
            "  inputs = inputs.fillna(inputs.mean())\n"
          ]
        }
      ]
    },
    {
      "cell_type": "code",
      "source": [
        "inputs['NumRooms'] = pd.to_numeric(inputs['NumRooms'], errors='coerce')\n",
        "num_rooms_mean = inputs['NumRooms'].mean()\n",
        "inputs['NumRooms'] = inputs['NumRooms'].fillna(num_rooms_mean)\n",
        "print(inputs)"
      ],
      "metadata": {
        "colab": {
          "base_uri": "https://localhost:8080/"
        },
        "id": "ztD9d5Er0p4b",
        "outputId": "4b5928eb-5957-4dff-b595-e1ee8440cff4"
      },
      "execution_count": null,
      "outputs": [
        {
          "output_type": "stream",
          "name": "stdout",
          "text": [
            "   NumRooms  RoofType_Slate  RoofType_nan\n",
            "0       3.0               0             1\n",
            "1       2.0               0             1\n",
            "2       4.0               1             0\n",
            "3       3.0               0             1\n"
          ]
        }
      ]
    },
    {
      "cell_type": "markdown",
      "source": [
        "#### 2.2.3. Conversion to the Tensor Format."
      ],
      "metadata": {
        "id": "Q-yUFjYf1Rqf"
      }
    },
    {
      "cell_type": "code",
      "source": [
        "import torch\n",
        "\n",
        "X = torch.tensor(inputs.to_numpy(dtype=float))\n",
        "y = torch.tensor(targets.to_numpy(dtype=float))\n",
        "X, y"
      ],
      "metadata": {
        "colab": {
          "base_uri": "https://localhost:8080/"
        },
        "id": "GXLPNb2Q1Tdg",
        "outputId": "4f61e2b9-b753-40f1-daee-45104f04aaef"
      },
      "execution_count": null,
      "outputs": [
        {
          "output_type": "execute_result",
          "data": {
            "text/plain": [
              "(tensor([[3., 0., 1.],\n",
              "         [2., 0., 1.],\n",
              "         [4., 1., 0.],\n",
              "         [3., 0., 1.]], dtype=torch.float64),\n",
              " tensor([127500., 106000., 178100., 140000.], dtype=torch.float64))"
            ]
          },
          "metadata": {},
          "execution_count": 14
        }
      ]
    },
    {
      "cell_type": "markdown",
      "source": [
        "#### 2.2.4. Discussion."
      ],
      "metadata": {
        "id": "wPIDcq6v163n"
      }
    },
    {
      "cell_type": "markdown",
      "source": [
        "This crash course kept things simple."
      ],
      "metadata": {
        "id": "bpX83aRH19T4"
      }
    },
    {
      "cell_type": "markdown",
      "source": [
        "#### 2.2.5. Exercises"
      ],
      "metadata": {
        "id": "8hNsQreg673T"
      }
    },
    {
      "cell_type": "markdown",
      "source": [
        "Exercise 1."
      ],
      "metadata": {
        "id": "d-sNdMAu698K"
      }
    },
    {
      "cell_type": "code",
      "source": [
        "import pandas as pd\n",
        "\n",
        "url = 'https://archive.ics.uci.edu/ml/machine-learning-databases/abalone/abalone.data'\n",
        "\n",
        "column_names = ['Sex', 'Length', 'Diameter', 'Height',\n",
        "                'Whole weight', 'Shucked weight', 'Viscera weight', 'Shell weight', 'Rings']\n",
        "\n",
        "abalone_df = pd.read_csv(url, names=column_names)"
      ],
      "metadata": {
        "id": "ElFrritN69GE"
      },
      "execution_count": null,
      "outputs": []
    },
    {
      "cell_type": "code",
      "source": [
        "abalone_df.head()"
      ],
      "metadata": {
        "colab": {
          "base_uri": "https://localhost:8080/",
          "height": 206
        },
        "id": "UAngwi2W7sXX",
        "outputId": "f88331be-4e64-4da9-aa3d-73406aab6f38"
      },
      "execution_count": null,
      "outputs": [
        {
          "output_type": "execute_result",
          "data": {
            "text/plain": [
              "  Sex  Length  Diameter  Height  Whole weight  Shucked weight  Viscera weight  \\\n",
              "0   M   0.455     0.365   0.095        0.5140          0.2245          0.1010   \n",
              "1   M   0.350     0.265   0.090        0.2255          0.0995          0.0485   \n",
              "2   F   0.530     0.420   0.135        0.6770          0.2565          0.1415   \n",
              "3   M   0.440     0.365   0.125        0.5160          0.2155          0.1140   \n",
              "4   I   0.330     0.255   0.080        0.2050          0.0895          0.0395   \n",
              "\n",
              "   Shell weight  Rings  \n",
              "0         0.150     15  \n",
              "1         0.070      7  \n",
              "2         0.210      9  \n",
              "3         0.155     10  \n",
              "4         0.055      7  "
            ],
            "text/html": [
              "\n",
              "  <div id=\"df-a60a0b22-86e0-4ec8-9d04-0bfcb4c03a0b\" class=\"colab-df-container\">\n",
              "    <div>\n",
              "<style scoped>\n",
              "    .dataframe tbody tr th:only-of-type {\n",
              "        vertical-align: middle;\n",
              "    }\n",
              "\n",
              "    .dataframe tbody tr th {\n",
              "        vertical-align: top;\n",
              "    }\n",
              "\n",
              "    .dataframe thead th {\n",
              "        text-align: right;\n",
              "    }\n",
              "</style>\n",
              "<table border=\"1\" class=\"dataframe\">\n",
              "  <thead>\n",
              "    <tr style=\"text-align: right;\">\n",
              "      <th></th>\n",
              "      <th>Sex</th>\n",
              "      <th>Length</th>\n",
              "      <th>Diameter</th>\n",
              "      <th>Height</th>\n",
              "      <th>Whole weight</th>\n",
              "      <th>Shucked weight</th>\n",
              "      <th>Viscera weight</th>\n",
              "      <th>Shell weight</th>\n",
              "      <th>Rings</th>\n",
              "    </tr>\n",
              "  </thead>\n",
              "  <tbody>\n",
              "    <tr>\n",
              "      <th>0</th>\n",
              "      <td>M</td>\n",
              "      <td>0.455</td>\n",
              "      <td>0.365</td>\n",
              "      <td>0.095</td>\n",
              "      <td>0.5140</td>\n",
              "      <td>0.2245</td>\n",
              "      <td>0.1010</td>\n",
              "      <td>0.150</td>\n",
              "      <td>15</td>\n",
              "    </tr>\n",
              "    <tr>\n",
              "      <th>1</th>\n",
              "      <td>M</td>\n",
              "      <td>0.350</td>\n",
              "      <td>0.265</td>\n",
              "      <td>0.090</td>\n",
              "      <td>0.2255</td>\n",
              "      <td>0.0995</td>\n",
              "      <td>0.0485</td>\n",
              "      <td>0.070</td>\n",
              "      <td>7</td>\n",
              "    </tr>\n",
              "    <tr>\n",
              "      <th>2</th>\n",
              "      <td>F</td>\n",
              "      <td>0.530</td>\n",
              "      <td>0.420</td>\n",
              "      <td>0.135</td>\n",
              "      <td>0.6770</td>\n",
              "      <td>0.2565</td>\n",
              "      <td>0.1415</td>\n",
              "      <td>0.210</td>\n",
              "      <td>9</td>\n",
              "    </tr>\n",
              "    <tr>\n",
              "      <th>3</th>\n",
              "      <td>M</td>\n",
              "      <td>0.440</td>\n",
              "      <td>0.365</td>\n",
              "      <td>0.125</td>\n",
              "      <td>0.5160</td>\n",
              "      <td>0.2155</td>\n",
              "      <td>0.1140</td>\n",
              "      <td>0.155</td>\n",
              "      <td>10</td>\n",
              "    </tr>\n",
              "    <tr>\n",
              "      <th>4</th>\n",
              "      <td>I</td>\n",
              "      <td>0.330</td>\n",
              "      <td>0.255</td>\n",
              "      <td>0.080</td>\n",
              "      <td>0.2050</td>\n",
              "      <td>0.0895</td>\n",
              "      <td>0.0395</td>\n",
              "      <td>0.055</td>\n",
              "      <td>7</td>\n",
              "    </tr>\n",
              "  </tbody>\n",
              "</table>\n",
              "</div>\n",
              "    <div class=\"colab-df-buttons\">\n",
              "\n",
              "  <div class=\"colab-df-container\">\n",
              "    <button class=\"colab-df-convert\" onclick=\"convertToInteractive('df-a60a0b22-86e0-4ec8-9d04-0bfcb4c03a0b')\"\n",
              "            title=\"Convert this dataframe to an interactive table.\"\n",
              "            style=\"display:none;\">\n",
              "\n",
              "  <svg xmlns=\"http://www.w3.org/2000/svg\" height=\"24px\" viewBox=\"0 -960 960 960\">\n",
              "    <path d=\"M120-120v-720h720v720H120Zm60-500h600v-160H180v160Zm220 220h160v-160H400v160Zm0 220h160v-160H400v160ZM180-400h160v-160H180v160Zm440 0h160v-160H620v160ZM180-180h160v-160H180v160Zm440 0h160v-160H620v160Z\"/>\n",
              "  </svg>\n",
              "    </button>\n",
              "\n",
              "  <style>\n",
              "    .colab-df-container {\n",
              "      display:flex;\n",
              "      gap: 12px;\n",
              "    }\n",
              "\n",
              "    .colab-df-convert {\n",
              "      background-color: #E8F0FE;\n",
              "      border: none;\n",
              "      border-radius: 50%;\n",
              "      cursor: pointer;\n",
              "      display: none;\n",
              "      fill: #1967D2;\n",
              "      height: 32px;\n",
              "      padding: 0 0 0 0;\n",
              "      width: 32px;\n",
              "    }\n",
              "\n",
              "    .colab-df-convert:hover {\n",
              "      background-color: #E2EBFA;\n",
              "      box-shadow: 0px 1px 2px rgba(60, 64, 67, 0.3), 0px 1px 3px 1px rgba(60, 64, 67, 0.15);\n",
              "      fill: #174EA6;\n",
              "    }\n",
              "\n",
              "    .colab-df-buttons div {\n",
              "      margin-bottom: 4px;\n",
              "    }\n",
              "\n",
              "    [theme=dark] .colab-df-convert {\n",
              "      background-color: #3B4455;\n",
              "      fill: #D2E3FC;\n",
              "    }\n",
              "\n",
              "    [theme=dark] .colab-df-convert:hover {\n",
              "      background-color: #434B5C;\n",
              "      box-shadow: 0px 1px 3px 1px rgba(0, 0, 0, 0.15);\n",
              "      filter: drop-shadow(0px 1px 2px rgba(0, 0, 0, 0.3));\n",
              "      fill: #FFFFFF;\n",
              "    }\n",
              "  </style>\n",
              "\n",
              "    <script>\n",
              "      const buttonEl =\n",
              "        document.querySelector('#df-a60a0b22-86e0-4ec8-9d04-0bfcb4c03a0b button.colab-df-convert');\n",
              "      buttonEl.style.display =\n",
              "        google.colab.kernel.accessAllowed ? 'block' : 'none';\n",
              "\n",
              "      async function convertToInteractive(key) {\n",
              "        const element = document.querySelector('#df-a60a0b22-86e0-4ec8-9d04-0bfcb4c03a0b');\n",
              "        const dataTable =\n",
              "          await google.colab.kernel.invokeFunction('convertToInteractive',\n",
              "                                                    [key], {});\n",
              "        if (!dataTable) return;\n",
              "\n",
              "        const docLinkHtml = 'Like what you see? Visit the ' +\n",
              "          '<a target=\"_blank\" href=https://colab.research.google.com/notebooks/data_table.ipynb>data table notebook</a>'\n",
              "          + ' to learn more about interactive tables.';\n",
              "        element.innerHTML = '';\n",
              "        dataTable['output_type'] = 'display_data';\n",
              "        await google.colab.output.renderOutput(dataTable, element);\n",
              "        const docLink = document.createElement('div');\n",
              "        docLink.innerHTML = docLinkHtml;\n",
              "        element.appendChild(docLink);\n",
              "      }\n",
              "    </script>\n",
              "  </div>\n",
              "\n",
              "\n",
              "<div id=\"df-83a096a1-8e88-4345-8e1e-5f7dd16188d6\">\n",
              "  <button class=\"colab-df-quickchart\" onclick=\"quickchart('df-83a096a1-8e88-4345-8e1e-5f7dd16188d6')\"\n",
              "            title=\"Suggest charts\"\n",
              "            style=\"display:none;\">\n",
              "\n",
              "<svg xmlns=\"http://www.w3.org/2000/svg\" height=\"24px\"viewBox=\"0 0 24 24\"\n",
              "     width=\"24px\">\n",
              "    <g>\n",
              "        <path d=\"M19 3H5c-1.1 0-2 .9-2 2v14c0 1.1.9 2 2 2h14c1.1 0 2-.9 2-2V5c0-1.1-.9-2-2-2zM9 17H7v-7h2v7zm4 0h-2V7h2v10zm4 0h-2v-4h2v4z\"/>\n",
              "    </g>\n",
              "</svg>\n",
              "  </button>\n",
              "\n",
              "<style>\n",
              "  .colab-df-quickchart {\n",
              "      --bg-color: #E8F0FE;\n",
              "      --fill-color: #1967D2;\n",
              "      --hover-bg-color: #E2EBFA;\n",
              "      --hover-fill-color: #174EA6;\n",
              "      --disabled-fill-color: #AAA;\n",
              "      --disabled-bg-color: #DDD;\n",
              "  }\n",
              "\n",
              "  [theme=dark] .colab-df-quickchart {\n",
              "      --bg-color: #3B4455;\n",
              "      --fill-color: #D2E3FC;\n",
              "      --hover-bg-color: #434B5C;\n",
              "      --hover-fill-color: #FFFFFF;\n",
              "      --disabled-bg-color: #3B4455;\n",
              "      --disabled-fill-color: #666;\n",
              "  }\n",
              "\n",
              "  .colab-df-quickchart {\n",
              "    background-color: var(--bg-color);\n",
              "    border: none;\n",
              "    border-radius: 50%;\n",
              "    cursor: pointer;\n",
              "    display: none;\n",
              "    fill: var(--fill-color);\n",
              "    height: 32px;\n",
              "    padding: 0;\n",
              "    width: 32px;\n",
              "  }\n",
              "\n",
              "  .colab-df-quickchart:hover {\n",
              "    background-color: var(--hover-bg-color);\n",
              "    box-shadow: 0 1px 2px rgba(60, 64, 67, 0.3), 0 1px 3px 1px rgba(60, 64, 67, 0.15);\n",
              "    fill: var(--button-hover-fill-color);\n",
              "  }\n",
              "\n",
              "  .colab-df-quickchart-complete:disabled,\n",
              "  .colab-df-quickchart-complete:disabled:hover {\n",
              "    background-color: var(--disabled-bg-color);\n",
              "    fill: var(--disabled-fill-color);\n",
              "    box-shadow: none;\n",
              "  }\n",
              "\n",
              "  .colab-df-spinner {\n",
              "    border: 2px solid var(--fill-color);\n",
              "    border-color: transparent;\n",
              "    border-bottom-color: var(--fill-color);\n",
              "    animation:\n",
              "      spin 1s steps(1) infinite;\n",
              "  }\n",
              "\n",
              "  @keyframes spin {\n",
              "    0% {\n",
              "      border-color: transparent;\n",
              "      border-bottom-color: var(--fill-color);\n",
              "      border-left-color: var(--fill-color);\n",
              "    }\n",
              "    20% {\n",
              "      border-color: transparent;\n",
              "      border-left-color: var(--fill-color);\n",
              "      border-top-color: var(--fill-color);\n",
              "    }\n",
              "    30% {\n",
              "      border-color: transparent;\n",
              "      border-left-color: var(--fill-color);\n",
              "      border-top-color: var(--fill-color);\n",
              "      border-right-color: var(--fill-color);\n",
              "    }\n",
              "    40% {\n",
              "      border-color: transparent;\n",
              "      border-right-color: var(--fill-color);\n",
              "      border-top-color: var(--fill-color);\n",
              "    }\n",
              "    60% {\n",
              "      border-color: transparent;\n",
              "      border-right-color: var(--fill-color);\n",
              "    }\n",
              "    80% {\n",
              "      border-color: transparent;\n",
              "      border-right-color: var(--fill-color);\n",
              "      border-bottom-color: var(--fill-color);\n",
              "    }\n",
              "    90% {\n",
              "      border-color: transparent;\n",
              "      border-bottom-color: var(--fill-color);\n",
              "    }\n",
              "  }\n",
              "</style>\n",
              "\n",
              "  <script>\n",
              "    async function quickchart(key) {\n",
              "      const quickchartButtonEl =\n",
              "        document.querySelector('#' + key + ' button');\n",
              "      quickchartButtonEl.disabled = true;  // To prevent multiple clicks.\n",
              "      quickchartButtonEl.classList.add('colab-df-spinner');\n",
              "      try {\n",
              "        const charts = await google.colab.kernel.invokeFunction(\n",
              "            'suggestCharts', [key], {});\n",
              "      } catch (error) {\n",
              "        console.error('Error during call to suggestCharts:', error);\n",
              "      }\n",
              "      quickchartButtonEl.classList.remove('colab-df-spinner');\n",
              "      quickchartButtonEl.classList.add('colab-df-quickchart-complete');\n",
              "    }\n",
              "    (() => {\n",
              "      let quickchartButtonEl =\n",
              "        document.querySelector('#df-83a096a1-8e88-4345-8e1e-5f7dd16188d6 button');\n",
              "      quickchartButtonEl.style.display =\n",
              "        google.colab.kernel.accessAllowed ? 'block' : 'none';\n",
              "    })();\n",
              "  </script>\n",
              "</div>\n",
              "    </div>\n",
              "  </div>\n"
            ]
          },
          "metadata": {},
          "execution_count": 3
        }
      ]
    },
    {
      "cell_type": "code",
      "source": [
        "abalone_df.shape"
      ],
      "metadata": {
        "colab": {
          "base_uri": "https://localhost:8080/"
        },
        "id": "RInsMI-47w-J",
        "outputId": "4dbae2c0-3b6f-4905-bdc6-4dd0ec38736e"
      },
      "execution_count": null,
      "outputs": [
        {
          "output_type": "execute_result",
          "data": {
            "text/plain": [
              "(4177, 9)"
            ]
          },
          "metadata": {},
          "execution_count": 4
        }
      ]
    },
    {
      "cell_type": "code",
      "source": [
        "abalone_df.info()"
      ],
      "metadata": {
        "colab": {
          "base_uri": "https://localhost:8080/"
        },
        "id": "RCmf3PHe7yZD",
        "outputId": "4f636677-b4c8-4ef3-c96e-acf1749e6e7b"
      },
      "execution_count": null,
      "outputs": [
        {
          "output_type": "stream",
          "name": "stdout",
          "text": [
            "<class 'pandas.core.frame.DataFrame'>\n",
            "RangeIndex: 4177 entries, 0 to 4176\n",
            "Data columns (total 9 columns):\n",
            " #   Column          Non-Null Count  Dtype  \n",
            "---  ------          --------------  -----  \n",
            " 0   Sex             4177 non-null   object \n",
            " 1   Length          4177 non-null   float64\n",
            " 2   Diameter        4177 non-null   float64\n",
            " 3   Height          4177 non-null   float64\n",
            " 4   Whole weight    4177 non-null   float64\n",
            " 5   Shucked weight  4177 non-null   float64\n",
            " 6   Viscera weight  4177 non-null   float64\n",
            " 7   Shell weight    4177 non-null   float64\n",
            " 8   Rings           4177 non-null   int64  \n",
            "dtypes: float64(7), int64(1), object(1)\n",
            "memory usage: 293.8+ KB\n"
          ]
        }
      ]
    },
    {
      "cell_type": "markdown",
      "source": [
        "There is no missing values.\n",
        "\n",
        "8/9 is numerical, 1/9 is categorical. There is no text column."
      ],
      "metadata": {
        "id": "ZlgqIQAf70jy"
      }
    },
    {
      "cell_type": "code",
      "source": [
        "missing_values = abalone_df.isnull().sum().sum()\n",
        "\n",
        "data_types = abalone_df.dtypes\n",
        "\n",
        "num_numerical = (data_types != 'object').sum()\n",
        "num_categorical = (data_types == 'object').sum()\n",
        "\n",
        "print(f\"Missing values: {missing_values}.\")\n",
        "print(f\"Numerical columns: {num_numerical}.\")\n",
        "print(f\"Categorical columns: {num_categorical}.\")"
      ],
      "metadata": {
        "colab": {
          "base_uri": "https://localhost:8080/"
        },
        "id": "l2zjsSqL8Rha",
        "outputId": "99b6f9ae-e4cf-4a9c-ce19-9b01599e2ff6"
      },
      "execution_count": null,
      "outputs": [
        {
          "output_type": "stream",
          "name": "stdout",
          "text": [
            "Missing values: 0.\n",
            "Numerical columns: 8.\n",
            "Categorical columns: 1.\n"
          ]
        }
      ]
    },
    {
      "cell_type": "markdown",
      "source": [
        "Exercise 2."
      ],
      "metadata": {
        "id": "2HdlaWTH8hTH"
      }
    },
    {
      "cell_type": "code",
      "source": [
        "abalone_df.loc[0, 'Diameter']"
      ],
      "metadata": {
        "colab": {
          "base_uri": "https://localhost:8080/"
        },
        "id": "uIFZIWmz8iVB",
        "outputId": "1719b4b6-0e02-45e3-c487-6f9ed832038f"
      },
      "execution_count": null,
      "outputs": [
        {
          "output_type": "execute_result",
          "data": {
            "text/plain": [
              "0.365"
            ]
          },
          "metadata": {},
          "execution_count": 10
        }
      ]
    },
    {
      "cell_type": "markdown",
      "source": [
        "Exercise 3."
      ],
      "metadata": {
        "id": "36FKphzB9EUB"
      }
    },
    {
      "cell_type": "markdown",
      "source": [
        "In the context of machine learning and data science, \"big\" datasets are those that are large enough to pose challenges in terms of storage, processing, and analysis using standard hardware and software tools. These datasets can range from gigabytes (GB) to terabytes (TB) or even petabytes (PB) in size. Here are some examples of such big datasets:\n",
        "\n",
        "ImageNet: A well-known dataset in the field of computer vision. It contains over 14 million annotated images and is often used in object recognition and classification tasks.\n",
        "\n",
        "Common Crawl: A massive collection of web pages, Common Crawl's dataset is used for natural language processing and web research. It spans over 25 petabytes of data and is continually updated.\n",
        "\n",
        "YouTube-8M: A large-scale labeled video dataset that consists of millions of YouTube video IDs, with high-quality machine-generated annotations from a diverse vocabulary of 3,800+ visual entities.\n",
        "\n",
        "OpenStreetMap (OSM): This is a collaborative project to create a free editable map of the world. The dataset includes detailed geographic data which is quite large and complex.\n",
        "\n",
        "GDELT (Global Database of Events, Language, and Tone): This is a database of socio-political events with over a quarter-billion event records in over 300 categories.\n",
        "\n",
        "Amazon product reviews: This dataset contains product reviews and metadata from Amazon, including 142.8 million reviews spanning May 1996 - July 2014.\n",
        "\n",
        "Human Genome Project: This dataset includes the complete set of nucleotide sequences for humans. The human genome has about 3 billion base pairs, and analyzing this data for genetic research involves large-scale computational resources.\n",
        "\n",
        "Twitter data: Enormous amounts of data are generated daily on Twitter, with hundreds of millions of tweets posted each day.\n",
        "\n",
        "Wikipedia Dump: The full Wikipedia dump is a massive resource for natural language processing, especially in tasks like text summarization, topic modeling, etc.\n",
        "\n",
        "Berkeley's DeepDrive (BDD100K): A diverse driving video database with 100,000 videos, which can be used for a variety of tasks like autonomous driving research.\n",
        "\n",
        "These datasets are often used in big data analytics, deep learning, and large-scale machine learning projects, requiring significant computational resources to process and analyze effectively. Handling such datasets typically involves distributed computing frameworks, advanced database management systems, and specialized hardware like high-memory servers and GPUs."
      ],
      "metadata": {
        "id": "nxsL7DkI9sn3"
      }
    },
    {
      "cell_type": "markdown",
      "source": [
        "Exercise 4."
      ],
      "metadata": {
        "id": "25VfUbbR-Cy2"
      }
    },
    {
      "cell_type": "markdown",
      "source": [
        "This question pertains to handling datasets with a high number of categorical variables, especially when these categories have a large number of unique labels. This is a common challenge in data preprocessing for machine learning and data analysis. Let's break down the question and address each part:\n",
        "\n",
        "Dealing with a Large Number of Categories\n",
        "High Cardinality: When a categorical variable has a very large number of categories (high cardinality), it can be problematic for machine learning models. It can lead to issues like overfitting, increased computational complexity, and memory consumption.\n",
        "\n",
        "Feature Engineering Techniques:\n",
        "\n",
        "Encoding: For moderate cardinality, one-hot encoding is common. However, for high cardinality, this leads to a very sparse and high-dimensional feature space. Alternatives like mean encoding or target encoding can be more effective.\n",
        "Dimensionality Reduction: Techniques like PCA (Principal Component Analysis) or t-SNE (t-Distributed Stochastic Neighbor Embedding) can reduce the dimensionality of the encoded features.\n",
        "Clustering: Similar categories can be grouped together using clustering techniques, reducing the number of categories.\n",
        "Feature Hashing: Also known as the hashing trick, this method can be used to convert high cardinality features into a lower-dimensional space.\n",
        "Dealing with Unique Category Labels\n",
        "Unique Labels: If every instance in a dataset has a unique category label, these labels are more akin to identifiers than informative features (e.g., customer IDs, transaction IDs).\n",
        "\n",
        "Handling Unique Labels:\n",
        "\n",
        "Exclusion: Often, such unique identifiers don't provide useful information for model training and are excluded from the feature set.\n",
        "Feature Engineering: In some cases, these unique labels can be transformed to extract useful information. For example, customer IDs might be used to generate features like 'customer tenure' or 'number of transactions'.\n",
        "Decision Making\n",
        "Inclusion vs. Exclusion: The decision to include or exclude high-cardinality features depends on:\n",
        "\n",
        "Relevance to the Task: If the feature is important for prediction, finding ways to include it is essential.\n",
        "Quality of Information: If the categories provide valuable, differentiating information, they should be included.\n",
        "Model Complexity and Performance: Including a high number of categories increases model complexity. Test the model's performance with and without these features to make an informed decision.\n",
        "Experimentation: Often, the best approach is determined empirically. Try different methods of handling these features and compare the performance of your models.\n",
        "\n",
        "In summary, dealing with a large number of categories requires thoughtful feature engineering and often a bit of experimentation to find the most effective approach. The goal is to capture the essential information provided by these features without overwhelming the model or introducing noise."
      ],
      "metadata": {
        "id": "XuupqRTz-EiG"
      }
    },
    {
      "cell_type": "markdown",
      "source": [
        "Exercise 5."
      ],
      "metadata": {
        "id": "u3ySTcm9-IM0"
      }
    },
    {
      "cell_type": "code",
      "source": [
        "!pip install polars"
      ],
      "metadata": {
        "colab": {
          "base_uri": "https://localhost:8080/"
        },
        "id": "fNCwyqA8-JZV",
        "outputId": "fe681923-172c-4cb0-8ac3-0b39b67fa65b"
      },
      "execution_count": null,
      "outputs": [
        {
          "output_type": "stream",
          "name": "stdout",
          "text": [
            "Requirement already satisfied: polars in /usr/local/lib/python3.10/dist-packages (0.17.3)\n",
            "Requirement already satisfied: typing_extensions>=4.0.1 in /usr/local/lib/python3.10/dist-packages (from polars) (4.5.0)\n"
          ]
        }
      ]
    },
    {
      "cell_type": "code",
      "source": [
        "import polars as pl\n",
        "\n",
        "url = 'https://archive.ics.uci.edu/ml/machine-learning-databases/abalone/abalone.data'\n",
        "\n",
        "abalone_df = pl.read_csv(url, has_header=False)\n",
        "\n",
        "column_names = ['Sex', 'Length', 'Diameter', 'Height',\n",
        "                'Whole weight', 'Shucked weight', 'Viscera weight', 'Shell weight', 'Rings']\n",
        "\n",
        "abalone_df.columns = column_names\n",
        "\n",
        "print(abalone_df.head())"
      ],
      "metadata": {
        "colab": {
          "base_uri": "https://localhost:8080/"
        },
        "id": "jpOs_17T-vr_",
        "outputId": "aca83fad-a3f7-4e1c-edea-f65a6bc5076a"
      },
      "execution_count": null,
      "outputs": [
        {
          "output_type": "stream",
          "name": "stdout",
          "text": [
            "shape: (5, 9)\n",
            "┌─────┬────────┬──────────┬────────┬───┬────────────────┬────────────────┬──────────────┬───────┐\n",
            "│ Sex ┆ Length ┆ Diameter ┆ Height ┆ … ┆ Shucked weight ┆ Viscera weight ┆ Shell weight ┆ Rings │\n",
            "│ --- ┆ ---    ┆ ---      ┆ ---    ┆   ┆ ---            ┆ ---            ┆ ---          ┆ ---   │\n",
            "│ str ┆ f64    ┆ f64      ┆ f64    ┆   ┆ f64            ┆ f64            ┆ f64          ┆ i64   │\n",
            "╞═════╪════════╪══════════╪════════╪═══╪════════════════╪════════════════╪══════════════╪═══════╡\n",
            "│ M   ┆ 0.455  ┆ 0.365    ┆ 0.095  ┆ … ┆ 0.2245         ┆ 0.101          ┆ 0.15         ┆ 15    │\n",
            "│ M   ┆ 0.35   ┆ 0.265    ┆ 0.09   ┆ … ┆ 0.0995         ┆ 0.0485         ┆ 0.07         ┆ 7     │\n",
            "│ F   ┆ 0.53   ┆ 0.42     ┆ 0.135  ┆ … ┆ 0.2565         ┆ 0.1415         ┆ 0.21         ┆ 9     │\n",
            "│ M   ┆ 0.44   ┆ 0.365    ┆ 0.125  ┆ … ┆ 0.2155         ┆ 0.114          ┆ 0.155        ┆ 10    │\n",
            "│ I   ┆ 0.33   ┆ 0.255    ┆ 0.08   ┆ … ┆ 0.0895         ┆ 0.0395         ┆ 0.055        ┆ 7     │\n",
            "└─────┴────────┴──────────┴────────┴───┴────────────────┴────────────────┴──────────────┴───────┘\n"
          ]
        }
      ]
    },
    {
      "cell_type": "code",
      "source": [
        "abalone_df.head()"
      ],
      "metadata": {
        "colab": {
          "base_uri": "https://localhost:8080/",
          "height": 255
        },
        "id": "Bo_WXOau_CEN",
        "outputId": "92f9ca5a-91cb-41c6-e1e0-5ab629fb5baa"
      },
      "execution_count": null,
      "outputs": [
        {
          "output_type": "execute_result",
          "data": {
            "text/plain": [
              "shape: (5, 9)\n",
              "┌─────┬────────┬──────────┬────────┬───┬────────────────┬────────────────┬──────────────┬───────┐\n",
              "│ Sex ┆ Length ┆ Diameter ┆ Height ┆ … ┆ Shucked weight ┆ Viscera weight ┆ Shell weight ┆ Rings │\n",
              "│ --- ┆ ---    ┆ ---      ┆ ---    ┆   ┆ ---            ┆ ---            ┆ ---          ┆ ---   │\n",
              "│ str ┆ f64    ┆ f64      ┆ f64    ┆   ┆ f64            ┆ f64            ┆ f64          ┆ i64   │\n",
              "╞═════╪════════╪══════════╪════════╪═══╪════════════════╪════════════════╪══════════════╪═══════╡\n",
              "│ M   ┆ 0.455  ┆ 0.365    ┆ 0.095  ┆ … ┆ 0.2245         ┆ 0.101          ┆ 0.15         ┆ 15    │\n",
              "│ M   ┆ 0.35   ┆ 0.265    ┆ 0.09   ┆ … ┆ 0.0995         ┆ 0.0485         ┆ 0.07         ┆ 7     │\n",
              "│ F   ┆ 0.53   ┆ 0.42     ┆ 0.135  ┆ … ┆ 0.2565         ┆ 0.1415         ┆ 0.21         ┆ 9     │\n",
              "│ M   ┆ 0.44   ┆ 0.365    ┆ 0.125  ┆ … ┆ 0.2155         ┆ 0.114          ┆ 0.155        ┆ 10    │\n",
              "│ I   ┆ 0.33   ┆ 0.255    ┆ 0.08   ┆ … ┆ 0.0895         ┆ 0.0395         ┆ 0.055        ┆ 7     │\n",
              "└─────┴────────┴──────────┴────────┴───┴────────────────┴────────────────┴──────────────┴───────┘"
            ],
            "text/html": [
              "<div><style>\n",
              ".dataframe > thead > tr > th,\n",
              ".dataframe > tbody > tr > td {\n",
              "  text-align: right;\n",
              "}\n",
              "</style>\n",
              "<small>shape: (5, 9)</small><table border=\"1\" class=\"dataframe\"><thead><tr><th>Sex</th><th>Length</th><th>Diameter</th><th>Height</th><th>Whole weight</th><th>Shucked weight</th><th>Viscera weight</th><th>Shell weight</th><th>Rings</th></tr><tr><td>str</td><td>f64</td><td>f64</td><td>f64</td><td>f64</td><td>f64</td><td>f64</td><td>f64</td><td>i64</td></tr></thead><tbody><tr><td>&quot;M&quot;</td><td>0.455</td><td>0.365</td><td>0.095</td><td>0.514</td><td>0.2245</td><td>0.101</td><td>0.15</td><td>15</td></tr><tr><td>&quot;M&quot;</td><td>0.35</td><td>0.265</td><td>0.09</td><td>0.2255</td><td>0.0995</td><td>0.0485</td><td>0.07</td><td>7</td></tr><tr><td>&quot;F&quot;</td><td>0.53</td><td>0.42</td><td>0.135</td><td>0.677</td><td>0.2565</td><td>0.1415</td><td>0.21</td><td>9</td></tr><tr><td>&quot;M&quot;</td><td>0.44</td><td>0.365</td><td>0.125</td><td>0.516</td><td>0.2155</td><td>0.114</td><td>0.155</td><td>10</td></tr><tr><td>&quot;I&quot;</td><td>0.33</td><td>0.255</td><td>0.08</td><td>0.205</td><td>0.0895</td><td>0.0395</td><td>0.055</td><td>7</td></tr></tbody></table></div>"
            ]
          },
          "metadata": {},
          "execution_count": 16
        }
      ]
    },
    {
      "cell_type": "code",
      "source": [
        "import pandas as pd\n",
        "import polars as pl\n",
        "import time\n",
        "\n",
        "url = 'https://archive.ics.uci.edu/ml/machine-learning-databases/abalone/abalone.data'\n",
        "\n",
        "column_names = ['Sex', 'Length', 'Diameter', 'Height',\n",
        "                'Whole weight', 'Shucked weight', 'Viscera weight', 'Shell weight', 'Rings']\n",
        "\n",
        "# Measure time for Pandas\n",
        "start_time = time.time()\n",
        "abalone_df_pandas = pd.read_csv(url, names=column_names)\n",
        "pandas_time = time.time() - start_time\n",
        "\n",
        "# Measure time for Polars\n",
        "start_time = time.time()\n",
        "abalone_df_polars = pl.read_csv(url, has_header=False)\n",
        "abalone_df_polars.columns = column_names\n",
        "polars_time = time.time() - start_time\n",
        "\n",
        "print(f\"Time taken by Pandas: {pandas_time} seconds.\")\n",
        "print(f\"Time taken by Polars: {polars_time} seconds.\")"
      ],
      "metadata": {
        "colab": {
          "base_uri": "https://localhost:8080/"
        },
        "id": "9gafnmO__PBJ",
        "outputId": "f8c0400d-46ec-42cc-ca9a-9e06468d368b"
      },
      "execution_count": null,
      "outputs": [
        {
          "output_type": "stream",
          "name": "stdout",
          "text": [
            "Time taken by Pandas: 0.188307523727417 seconds.\n",
            "Time taken by Polars: 0.19348359107971191 seconds.\n"
          ]
        }
      ]
    },
    {
      "cell_type": "markdown",
      "source": [
        "## 2.3. Linear Algebra"
      ],
      "metadata": {
        "id": "f4inxiIc_klU"
      }
    },
    {
      "cell_type": "code",
      "source": [
        "import torch"
      ],
      "metadata": {
        "id": "odKDUyyW_nBe"
      },
      "execution_count": null,
      "outputs": []
    },
    {
      "cell_type": "code",
      "source": [
        "x = torch.tensor(3.0)\n",
        "y = torch.tensor(2.0)\n",
        "\n",
        "x + y, x * y, x / y, x**y"
      ],
      "metadata": {
        "colab": {
          "base_uri": "https://localhost:8080/"
        },
        "id": "w2kQ9ayd_pr8",
        "outputId": "66392edc-9760-4d7c-8c51-562ef4add6d4"
      },
      "execution_count": null,
      "outputs": [
        {
          "output_type": "execute_result",
          "data": {
            "text/plain": [
              "(tensor(5.), tensor(6.), tensor(1.5000), tensor(9.))"
            ]
          },
          "metadata": {},
          "execution_count": 19
        }
      ]
    },
    {
      "cell_type": "code",
      "source": [
        "x = torch.arange(3)\n",
        "x"
      ],
      "metadata": {
        "colab": {
          "base_uri": "https://localhost:8080/"
        },
        "id": "caWDnwMr_x2j",
        "outputId": "2b9a441b-c20f-4629-ff7d-bf96367e091a"
      },
      "execution_count": null,
      "outputs": [
        {
          "output_type": "execute_result",
          "data": {
            "text/plain": [
              "tensor([0, 1, 2])"
            ]
          },
          "metadata": {},
          "execution_count": 21
        }
      ]
    },
    {
      "cell_type": "code",
      "source": [
        "x[2]"
      ],
      "metadata": {
        "colab": {
          "base_uri": "https://localhost:8080/"
        },
        "id": "AL5L3T9E_17E",
        "outputId": "d18e93ad-9ae1-4328-a2a0-02844c509340"
      },
      "execution_count": null,
      "outputs": [
        {
          "output_type": "execute_result",
          "data": {
            "text/plain": [
              "tensor(2)"
            ]
          },
          "metadata": {},
          "execution_count": 22
        }
      ]
    },
    {
      "cell_type": "code",
      "source": [
        "len(x)"
      ],
      "metadata": {
        "colab": {
          "base_uri": "https://localhost:8080/"
        },
        "id": "Wtp6O3SW_5W-",
        "outputId": "3091a789-6387-4d40-f445-8f2ab4d74895"
      },
      "execution_count": null,
      "outputs": [
        {
          "output_type": "execute_result",
          "data": {
            "text/plain": [
              "3"
            ]
          },
          "metadata": {},
          "execution_count": 23
        }
      ]
    },
    {
      "cell_type": "code",
      "source": [
        "x.shape"
      ],
      "metadata": {
        "colab": {
          "base_uri": "https://localhost:8080/"
        },
        "id": "iXPh4z7M_6PM",
        "outputId": "b6420735-9ac7-4294-ba93-b5fc6c18fdc0"
      },
      "execution_count": null,
      "outputs": [
        {
          "output_type": "execute_result",
          "data": {
            "text/plain": [
              "torch.Size([3])"
            ]
          },
          "metadata": {},
          "execution_count": 24
        }
      ]
    },
    {
      "cell_type": "code",
      "source": [
        "A = torch.arange(6).reshape(3, 2)\n",
        "A"
      ],
      "metadata": {
        "colab": {
          "base_uri": "https://localhost:8080/"
        },
        "id": "fpCf42RvAGHt",
        "outputId": "a01e688d-53ad-48fb-d363-b874e44004dc"
      },
      "execution_count": null,
      "outputs": [
        {
          "output_type": "execute_result",
          "data": {
            "text/plain": [
              "tensor([[0, 1],\n",
              "        [2, 3],\n",
              "        [4, 5]])"
            ]
          },
          "metadata": {},
          "execution_count": 25
        }
      ]
    },
    {
      "cell_type": "code",
      "source": [
        "A.T"
      ],
      "metadata": {
        "colab": {
          "base_uri": "https://localhost:8080/"
        },
        "id": "YDdNb3f0AJC7",
        "outputId": "7043011b-d520-4cb1-f296-0d7eb639c536"
      },
      "execution_count": null,
      "outputs": [
        {
          "output_type": "execute_result",
          "data": {
            "text/plain": [
              "tensor([[0, 2, 4],\n",
              "        [1, 3, 5]])"
            ]
          },
          "metadata": {},
          "execution_count": 26
        }
      ]
    },
    {
      "cell_type": "code",
      "source": [
        "A = torch.tensor([[1, 2, 3], [2, 0, 4], [3, 4, 5]])\n",
        "A == A.T"
      ],
      "metadata": {
        "colab": {
          "base_uri": "https://localhost:8080/"
        },
        "id": "hZiY4XtgALbr",
        "outputId": "3e239b29-0834-47dd-b514-7420b29f8966"
      },
      "execution_count": null,
      "outputs": [
        {
          "output_type": "execute_result",
          "data": {
            "text/plain": [
              "tensor([[True, True, True],\n",
              "        [True, True, True],\n",
              "        [True, True, True]])"
            ]
          },
          "metadata": {},
          "execution_count": 27
        }
      ]
    },
    {
      "cell_type": "code",
      "source": [
        "torch.arange(24).reshape(2, 3, 4)"
      ],
      "metadata": {
        "colab": {
          "base_uri": "https://localhost:8080/"
        },
        "id": "uFi0djCvAVFl",
        "outputId": "b9caabfa-fa0f-4c69-f3e4-7d2f72be2a35"
      },
      "execution_count": null,
      "outputs": [
        {
          "output_type": "execute_result",
          "data": {
            "text/plain": [
              "tensor([[[ 0,  1,  2,  3],\n",
              "         [ 4,  5,  6,  7],\n",
              "         [ 8,  9, 10, 11]],\n",
              "\n",
              "        [[12, 13, 14, 15],\n",
              "         [16, 17, 18, 19],\n",
              "         [20, 21, 22, 23]]])"
            ]
          },
          "metadata": {},
          "execution_count": 28
        }
      ]
    },
    {
      "cell_type": "code",
      "source": [
        "A = torch.arange(6, dtype=torch.float32).reshape(2, 3)\n",
        "B = A.clone()\n",
        "A, A + B"
      ],
      "metadata": {
        "colab": {
          "base_uri": "https://localhost:8080/"
        },
        "id": "KEBRYc_WAbA8",
        "outputId": "1b353ce6-f7e3-4e43-99b5-682cfe4ad7ea"
      },
      "execution_count": null,
      "outputs": [
        {
          "output_type": "execute_result",
          "data": {
            "text/plain": [
              "(tensor([[0., 1., 2.],\n",
              "         [3., 4., 5.]]),\n",
              " tensor([[ 0.,  2.,  4.],\n",
              "         [ 6.,  8., 10.]]))"
            ]
          },
          "metadata": {},
          "execution_count": 29
        }
      ]
    },
    {
      "cell_type": "code",
      "source": [
        "A * B # Hadamard product, the elementwise product between two matrices."
      ],
      "metadata": {
        "colab": {
          "base_uri": "https://localhost:8080/"
        },
        "id": "xABDoL1zAhP9",
        "outputId": "6150d1a8-0a34-4cf1-e198-21d81a5a22ab"
      },
      "execution_count": null,
      "outputs": [
        {
          "output_type": "execute_result",
          "data": {
            "text/plain": [
              "tensor([[ 0.,  1.,  4.],\n",
              "        [ 9., 16., 25.]])"
            ]
          },
          "metadata": {},
          "execution_count": 30
        }
      ]
    },
    {
      "cell_type": "code",
      "source": [
        "a = 2\n",
        "X = torch.arange(24).reshape(2, 3, 4)\n",
        "a + X, (a * X).shape"
      ],
      "metadata": {
        "colab": {
          "base_uri": "https://localhost:8080/"
        },
        "id": "kVoDYYTDAmk2",
        "outputId": "76d9e1f6-eee0-4ce5-96db-38d431b229cf"
      },
      "execution_count": null,
      "outputs": [
        {
          "output_type": "execute_result",
          "data": {
            "text/plain": [
              "(tensor([[[ 2,  3,  4,  5],\n",
              "          [ 6,  7,  8,  9],\n",
              "          [10, 11, 12, 13]],\n",
              " \n",
              "         [[14, 15, 16, 17],\n",
              "          [18, 19, 20, 21],\n",
              "          [22, 23, 24, 25]]]),\n",
              " torch.Size([2, 3, 4]))"
            ]
          },
          "metadata": {},
          "execution_count": 31
        }
      ]
    },
    {
      "cell_type": "code",
      "source": [
        "x = torch.arange(3, dtype=torch.float32)\n",
        "x, x.sum()"
      ],
      "metadata": {
        "colab": {
          "base_uri": "https://localhost:8080/"
        },
        "id": "Op2tDVxvAwGt",
        "outputId": "6830b49a-3b59-40f5-f10f-dd8a3f2412f9"
      },
      "execution_count": null,
      "outputs": [
        {
          "output_type": "execute_result",
          "data": {
            "text/plain": [
              "(tensor([0., 1., 2.]), tensor(3.))"
            ]
          },
          "metadata": {},
          "execution_count": 32
        }
      ]
    },
    {
      "cell_type": "code",
      "source": [
        "A.shape, A.sum()"
      ],
      "metadata": {
        "colab": {
          "base_uri": "https://localhost:8080/"
        },
        "id": "1X5xWb0HAzNn",
        "outputId": "5bfa13ca-5766-4b1b-972a-f21e46710cdd"
      },
      "execution_count": null,
      "outputs": [
        {
          "output_type": "execute_result",
          "data": {
            "text/plain": [
              "(torch.Size([2, 3]), tensor(15.))"
            ]
          },
          "metadata": {},
          "execution_count": 33
        }
      ]
    },
    {
      "cell_type": "code",
      "source": [
        "A"
      ],
      "metadata": {
        "colab": {
          "base_uri": "https://localhost:8080/"
        },
        "id": "F9JznPXtCyuO",
        "outputId": "c1898b6b-1c6b-4b69-c1e3-78f19a7f3306"
      },
      "execution_count": null,
      "outputs": [
        {
          "output_type": "execute_result",
          "data": {
            "text/plain": [
              "tensor([[0., 1., 2.],\n",
              "        [3., 4., 5.]])"
            ]
          },
          "metadata": {},
          "execution_count": 35
        }
      ]
    },
    {
      "cell_type": "code",
      "source": [
        "A.sum(axis=0)"
      ],
      "metadata": {
        "colab": {
          "base_uri": "https://localhost:8080/"
        },
        "id": "HF9Q4PwkCweK",
        "outputId": "df7ccaa9-67f3-401e-f539-26bac90fbbb9"
      },
      "execution_count": null,
      "outputs": [
        {
          "output_type": "execute_result",
          "data": {
            "text/plain": [
              "tensor([3., 5., 7.])"
            ]
          },
          "metadata": {},
          "execution_count": 34
        }
      ]
    },
    {
      "cell_type": "code",
      "source": [
        "A.sum(axis=0).shape"
      ],
      "metadata": {
        "colab": {
          "base_uri": "https://localhost:8080/"
        },
        "id": "PdGJh3u6C305",
        "outputId": "6491a33d-168d-4a84-b506-1e9b03c5e64a"
      },
      "execution_count": null,
      "outputs": [
        {
          "output_type": "execute_result",
          "data": {
            "text/plain": [
              "torch.Size([3])"
            ]
          },
          "metadata": {},
          "execution_count": 36
        }
      ]
    },
    {
      "cell_type": "code",
      "source": [
        "A.sum(axis=1).shape"
      ],
      "metadata": {
        "colab": {
          "base_uri": "https://localhost:8080/"
        },
        "id": "cQWsryTwC7pe",
        "outputId": "26df21f5-c3e3-4ab3-a9e8-d7a36581370e"
      },
      "execution_count": null,
      "outputs": [
        {
          "output_type": "execute_result",
          "data": {
            "text/plain": [
              "torch.Size([2])"
            ]
          },
          "metadata": {},
          "execution_count": 38
        }
      ]
    },
    {
      "cell_type": "code",
      "source": [
        "A.sum(axis=[0, 1]) == A.sum()"
      ],
      "metadata": {
        "colab": {
          "base_uri": "https://localhost:8080/"
        },
        "id": "WPwGlH_jDD5j",
        "outputId": "80539b8b-8788-4684-d3fa-9ed36d94967c"
      },
      "execution_count": null,
      "outputs": [
        {
          "output_type": "execute_result",
          "data": {
            "text/plain": [
              "tensor(True)"
            ]
          },
          "metadata": {},
          "execution_count": 39
        }
      ]
    },
    {
      "cell_type": "code",
      "source": [
        "A.mean(), A.sum() / A.numel()"
      ],
      "metadata": {
        "colab": {
          "base_uri": "https://localhost:8080/"
        },
        "id": "yiL3UcTKDI2q",
        "outputId": "0baf07bc-8f22-42da-93ba-59db6dfec20e"
      },
      "execution_count": null,
      "outputs": [
        {
          "output_type": "execute_result",
          "data": {
            "text/plain": [
              "(tensor(2.5000), tensor(2.5000))"
            ]
          },
          "metadata": {},
          "execution_count": 40
        }
      ]
    },
    {
      "cell_type": "code",
      "source": [
        "A.numel()"
      ],
      "metadata": {
        "colab": {
          "base_uri": "https://localhost:8080/"
        },
        "id": "dM6w4xBuDcbH",
        "outputId": "47daa7eb-56c4-4fa5-abc9-8f6cf47ebbbe"
      },
      "execution_count": null,
      "outputs": [
        {
          "output_type": "execute_result",
          "data": {
            "text/plain": [
              "6"
            ]
          },
          "metadata": {},
          "execution_count": 44
        }
      ]
    },
    {
      "cell_type": "code",
      "source": [
        "A.mean(axis=0), A.sum(axis=0) / A.shape[0]"
      ],
      "metadata": {
        "colab": {
          "base_uri": "https://localhost:8080/"
        },
        "id": "Qcxyn8I6DO9S",
        "outputId": "e89eecf8-5e32-4cb1-d3dd-45962d7272cd"
      },
      "execution_count": null,
      "outputs": [
        {
          "output_type": "execute_result",
          "data": {
            "text/plain": [
              "(tensor([1.5000, 2.5000, 3.5000]), tensor([1.5000, 2.5000, 3.5000]))"
            ]
          },
          "metadata": {},
          "execution_count": 41
        }
      ]
    },
    {
      "cell_type": "code",
      "source": [
        "A"
      ],
      "metadata": {
        "colab": {
          "base_uri": "https://localhost:8080/"
        },
        "id": "7aU8n0MyDWEu",
        "outputId": "4b0d5f8b-0b10-4406-8ff9-5e805cb07196"
      },
      "execution_count": null,
      "outputs": [
        {
          "output_type": "execute_result",
          "data": {
            "text/plain": [
              "tensor([[0., 1., 2.],\n",
              "        [3., 4., 5.]])"
            ]
          },
          "metadata": {},
          "execution_count": 42
        }
      ]
    },
    {
      "cell_type": "code",
      "source": [
        "A.sum(axis=0)"
      ],
      "metadata": {
        "colab": {
          "base_uri": "https://localhost:8080/"
        },
        "id": "sz0YpsW8DgeD",
        "outputId": "195515bc-32d0-4736-b4ae-4cb8dbf1d88f"
      },
      "execution_count": null,
      "outputs": [
        {
          "output_type": "execute_result",
          "data": {
            "text/plain": [
              "tensor([3., 5., 7.])"
            ]
          },
          "metadata": {},
          "execution_count": 45
        }
      ]
    },
    {
      "cell_type": "code",
      "source": [
        "A.shape[0]"
      ],
      "metadata": {
        "colab": {
          "base_uri": "https://localhost:8080/"
        },
        "id": "1z96IDBiDaCd",
        "outputId": "7d9deacd-a1c1-45d5-a5a1-a4a5543d1936"
      },
      "execution_count": null,
      "outputs": [
        {
          "output_type": "execute_result",
          "data": {
            "text/plain": [
              "2"
            ]
          },
          "metadata": {},
          "execution_count": 43
        }
      ]
    },
    {
      "cell_type": "code",
      "source": [
        "sum_A = A.sum(axis=1, keepdims=True)"
      ],
      "metadata": {
        "id": "WLnWekOuEHC5"
      },
      "execution_count": null,
      "outputs": []
    },
    {
      "cell_type": "code",
      "source": [
        "A.shape"
      ],
      "metadata": {
        "colab": {
          "base_uri": "https://localhost:8080/"
        },
        "id": "wZJ8Xop6EWZR",
        "outputId": "cf8582eb-6878-4bc4-b709-5591dfd4e128"
      },
      "execution_count": null,
      "outputs": [
        {
          "output_type": "execute_result",
          "data": {
            "text/plain": [
              "torch.Size([2, 3])"
            ]
          },
          "metadata": {},
          "execution_count": 52
        }
      ]
    },
    {
      "cell_type": "code",
      "source": [
        "A.sum(axis=1).shape, A.sum(axis=1, keepdims=True).shape"
      ],
      "metadata": {
        "colab": {
          "base_uri": "https://localhost:8080/"
        },
        "id": "QsmcnQuXEMdH",
        "outputId": "f457ea0b-38e0-4d65-ca99-935f66b06231"
      },
      "execution_count": null,
      "outputs": [
        {
          "output_type": "execute_result",
          "data": {
            "text/plain": [
              "(torch.Size([2]), torch.Size([2, 1]))"
            ]
          },
          "metadata": {},
          "execution_count": 51
        }
      ]
    },
    {
      "cell_type": "code",
      "source": [
        "A / sum_A"
      ],
      "metadata": {
        "colab": {
          "base_uri": "https://localhost:8080/"
        },
        "id": "YY_nhjB4EkqG",
        "outputId": "03876873-4925-480c-bee7-d7f2c6083f9b"
      },
      "execution_count": null,
      "outputs": [
        {
          "output_type": "execute_result",
          "data": {
            "text/plain": [
              "tensor([[0.0000, 0.3333, 0.6667],\n",
              "        [0.2500, 0.3333, 0.4167]])"
            ]
          },
          "metadata": {},
          "execution_count": 54
        }
      ]
    },
    {
      "cell_type": "code",
      "source": [
        "A"
      ],
      "metadata": {
        "colab": {
          "base_uri": "https://localhost:8080/"
        },
        "id": "Uyzx6RV_EsUY",
        "outputId": "9060778e-f11a-4df6-ba9f-a22f879795bb"
      },
      "execution_count": null,
      "outputs": [
        {
          "output_type": "execute_result",
          "data": {
            "text/plain": [
              "tensor([[0., 1., 2.],\n",
              "        [3., 4., 5.]])"
            ]
          },
          "metadata": {},
          "execution_count": 57
        }
      ]
    },
    {
      "cell_type": "code",
      "source": [
        "A.cumsum(axis=0)"
      ],
      "metadata": {
        "colab": {
          "base_uri": "https://localhost:8080/"
        },
        "id": "GTdWhxGlEowd",
        "outputId": "47bc8c43-93d2-43d9-ac37-eff2b795a6ca"
      },
      "execution_count": null,
      "outputs": [
        {
          "output_type": "execute_result",
          "data": {
            "text/plain": [
              "tensor([[0., 1., 2.],\n",
              "        [3., 5., 7.]])"
            ]
          },
          "metadata": {},
          "execution_count": 56
        }
      ]
    },
    {
      "cell_type": "markdown",
      "source": [
        "#### 2.3.8. Dot Product."
      ],
      "metadata": {
        "id": "uT9zCMF8FtAn"
      }
    },
    {
      "cell_type": "code",
      "source": [
        "x"
      ],
      "metadata": {
        "colab": {
          "base_uri": "https://localhost:8080/"
        },
        "id": "yw--m07rFvpX",
        "outputId": "2bab3ddb-d716-4ab9-fac8-22cbba833f7d"
      },
      "execution_count": null,
      "outputs": [
        {
          "output_type": "execute_result",
          "data": {
            "text/plain": [
              "tensor([0., 1., 2.])"
            ]
          },
          "metadata": {},
          "execution_count": 58
        }
      ]
    },
    {
      "cell_type": "code",
      "source": [
        "y = torch.ones(3, dtype = torch.float)\n",
        "y"
      ],
      "metadata": {
        "colab": {
          "base_uri": "https://localhost:8080/"
        },
        "id": "s6DbIZxNFwvJ",
        "outputId": "b93c3c8d-dc83-4f11-f15a-c17e07da17c9"
      },
      "execution_count": null,
      "outputs": [
        {
          "output_type": "execute_result",
          "data": {
            "text/plain": [
              "tensor([1., 1., 1.])"
            ]
          },
          "metadata": {},
          "execution_count": 59
        }
      ]
    },
    {
      "cell_type": "code",
      "source": [
        "torch.dot(x, y)"
      ],
      "metadata": {
        "colab": {
          "base_uri": "https://localhost:8080/"
        },
        "id": "wwq9LC8pF0_o",
        "outputId": "93e47462-213f-415e-c4eb-405480927640"
      },
      "execution_count": null,
      "outputs": [
        {
          "output_type": "execute_result",
          "data": {
            "text/plain": [
              "tensor(3.)"
            ]
          },
          "metadata": {},
          "execution_count": 60
        }
      ]
    },
    {
      "cell_type": "code",
      "source": [
        "x * y"
      ],
      "metadata": {
        "colab": {
          "base_uri": "https://localhost:8080/"
        },
        "id": "Bdpnw4NgGA6y",
        "outputId": "72ef6a18-ba6c-4caf-c9b2-b8c4f9da1b07"
      },
      "execution_count": null,
      "outputs": [
        {
          "output_type": "execute_result",
          "data": {
            "text/plain": [
              "tensor([0., 1., 2.])"
            ]
          },
          "metadata": {},
          "execution_count": 62
        }
      ]
    },
    {
      "cell_type": "code",
      "source": [
        "torch.sum(x * y)"
      ],
      "metadata": {
        "colab": {
          "base_uri": "https://localhost:8080/"
        },
        "id": "ku2LqTw4F9tg",
        "outputId": "8986e64e-affe-4752-dd9b-5015235693d7"
      },
      "execution_count": null,
      "outputs": [
        {
          "output_type": "execute_result",
          "data": {
            "text/plain": [
              "tensor(3.)"
            ]
          },
          "metadata": {},
          "execution_count": 61
        }
      ]
    },
    {
      "cell_type": "markdown",
      "source": [
        "#### 2.3.9. Matrix-Vector Products."
      ],
      "metadata": {
        "id": "vL9u94oMGW_d"
      }
    },
    {
      "cell_type": "markdown",
      "source": [
        "![Matrix-Vector Products](https://drive.google.com/uc?export=view&id=1v4DeYSlZnvmI_Ctr2GcAJxc_pLIkwSEY)"
      ],
      "metadata": {
        "id": "GWHNGmJUI4nN"
      }
    },
    {
      "cell_type": "code",
      "source": [
        "A.shape, x.shape"
      ],
      "metadata": {
        "colab": {
          "base_uri": "https://localhost:8080/"
        },
        "id": "J980XXL8Lu1D",
        "outputId": "838a7b39-0b58-4b59-edef-af712e6e5b73"
      },
      "execution_count": null,
      "outputs": [
        {
          "output_type": "execute_result",
          "data": {
            "text/plain": [
              "(torch.Size([2, 3]), torch.Size([3]))"
            ]
          },
          "metadata": {},
          "execution_count": 64
        }
      ]
    },
    {
      "cell_type": "code",
      "source": [
        "torch.mv(A, x)"
      ],
      "metadata": {
        "colab": {
          "base_uri": "https://localhost:8080/"
        },
        "id": "7UdWfyyZLwSO",
        "outputId": "8d586027-95aa-4cd4-e58b-eb27b27e5436"
      },
      "execution_count": null,
      "outputs": [
        {
          "output_type": "execute_result",
          "data": {
            "text/plain": [
              "tensor([ 5., 14.])"
            ]
          },
          "metadata": {},
          "execution_count": 65
        }
      ]
    },
    {
      "cell_type": "code",
      "source": [
        "A@x"
      ],
      "metadata": {
        "colab": {
          "base_uri": "https://localhost:8080/"
        },
        "id": "Z3D2AFORLyjx",
        "outputId": "6bc9cef3-520b-42fb-b810-9732c17ca6b2"
      },
      "execution_count": null,
      "outputs": [
        {
          "output_type": "execute_result",
          "data": {
            "text/plain": [
              "tensor([ 5., 14.])"
            ]
          },
          "metadata": {},
          "execution_count": 66
        }
      ]
    },
    {
      "cell_type": "code",
      "source": [
        "import numpy as np\n",
        "np.array([2, 2]) @ np.array([2, 2])"
      ],
      "metadata": {
        "colab": {
          "base_uri": "https://localhost:8080/"
        },
        "id": "F0lEhzVVL2RB",
        "outputId": "2410cef9-7407-436d-932a-cdd0da127c77"
      },
      "execution_count": null,
      "outputs": [
        {
          "output_type": "execute_result",
          "data": {
            "text/plain": [
              "8"
            ]
          },
          "metadata": {},
          "execution_count": 67
        }
      ]
    },
    {
      "cell_type": "markdown",
      "source": [
        "#### 2.3.10. Matrix-Matrix Multiplication."
      ],
      "metadata": {
        "id": "HZOmyJuqMBfI"
      }
    },
    {
      "cell_type": "code",
      "source": [
        "A = torch.tensor([[7, 7, 7], [7, 7, 7]], dtype=torch.float32)"
      ],
      "metadata": {
        "id": "5XstGOJKMDed"
      },
      "execution_count": null,
      "outputs": []
    },
    {
      "cell_type": "code",
      "source": [
        "B = torch.ones(3, 4)\n",
        "B"
      ],
      "metadata": {
        "colab": {
          "base_uri": "https://localhost:8080/"
        },
        "id": "QlJsSx80MWtM",
        "outputId": "22842bf1-08b2-4d44-929f-ced48116c11b"
      },
      "execution_count": null,
      "outputs": [
        {
          "output_type": "execute_result",
          "data": {
            "text/plain": [
              "tensor([[1., 1., 1., 1.],\n",
              "        [1., 1., 1., 1.],\n",
              "        [1., 1., 1., 1.]])"
            ]
          },
          "metadata": {},
          "execution_count": 88
        }
      ]
    },
    {
      "cell_type": "code",
      "source": [
        "torch.mm(A, B)"
      ],
      "metadata": {
        "colab": {
          "base_uri": "https://localhost:8080/"
        },
        "id": "gD8dzKJ9Maa2",
        "outputId": "f88e0fb5-871f-4d13-a143-da79f637a3a5"
      },
      "execution_count": null,
      "outputs": [
        {
          "output_type": "execute_result",
          "data": {
            "text/plain": [
              "tensor([[21., 21., 21., 21.],\n",
              "        [21., 21., 21., 21.]])"
            ]
          },
          "metadata": {},
          "execution_count": 90
        }
      ]
    },
    {
      "cell_type": "code",
      "source": [
        "A@B"
      ],
      "metadata": {
        "colab": {
          "base_uri": "https://localhost:8080/"
        },
        "id": "xUqfp5HYMda_",
        "outputId": "f724b20a-ba0f-48d1-95fd-c197505268c7"
      },
      "execution_count": null,
      "outputs": [
        {
          "output_type": "execute_result",
          "data": {
            "text/plain": [
              "tensor([[21., 21., 21., 21.],\n",
              "        [21., 21., 21., 21.]])"
            ]
          },
          "metadata": {},
          "execution_count": 94
        }
      ]
    },
    {
      "cell_type": "markdown",
      "source": [
        "![Matrix-Matrix Multiplication](https://drive.google.com/uc?export=view&id=1HKyqJGNu992xS2EUFh8NCglXBwyNPz7Y)"
      ],
      "metadata": {
        "id": "Vfge_CTDO3de"
      }
    },
    {
      "cell_type": "markdown",
      "source": [
        "#### 2.3.11. Norms"
      ],
      "metadata": {
        "id": "jLsuYwYyPgY_"
      }
    },
    {
      "cell_type": "code",
      "source": [
        "u = torch.tensor([3.0, -4.0])\n",
        "torch.norm(u) # l2 norm."
      ],
      "metadata": {
        "colab": {
          "base_uri": "https://localhost:8080/"
        },
        "id": "FnnDmzCPPiOx",
        "outputId": "bb01e7ab-a67f-4981-c5e6-114d13bf4d58"
      },
      "execution_count": null,
      "outputs": [
        {
          "output_type": "execute_result",
          "data": {
            "text/plain": [
              "tensor(5.)"
            ]
          },
          "metadata": {},
          "execution_count": 95
        }
      ]
    },
    {
      "cell_type": "code",
      "source": [
        "torch.abs(u).sum() # l1 norm."
      ],
      "metadata": {
        "colab": {
          "base_uri": "https://localhost:8080/"
        },
        "id": "hMFnFxoIPsYe",
        "outputId": "cc6fd3af-7224-4068-d33b-66e37a906565"
      },
      "execution_count": null,
      "outputs": [
        {
          "output_type": "execute_result",
          "data": {
            "text/plain": [
              "tensor(7.)"
            ]
          },
          "metadata": {},
          "execution_count": 96
        }
      ]
    },
    {
      "cell_type": "code",
      "source": [
        "torch.norm(torch.ones((4, 9))) # Frobenius norm."
      ],
      "metadata": {
        "colab": {
          "base_uri": "https://localhost:8080/"
        },
        "id": "E--t5xDeP8o_",
        "outputId": "c9a675cc-f3a4-4590-8930-cf64d04e9f00"
      },
      "execution_count": null,
      "outputs": [
        {
          "output_type": "execute_result",
          "data": {
            "text/plain": [
              "tensor(6.)"
            ]
          },
          "metadata": {},
          "execution_count": 97
        }
      ]
    },
    {
      "cell_type": "markdown",
      "source": [
        "![Matrix-Matrix Multiplication](https://drive.google.com/uc?export=view&id=1fhf6jpveRVvFO6NZ70-LEt_bDekOZoPG)"
      ],
      "metadata": {
        "id": "v_wkvwweQjdI"
      }
    },
    {
      "cell_type": "markdown",
      "source": [
        "#### 2.3.13. Exercises."
      ],
      "metadata": {
        "id": "KTWbMIxYRC0H"
      }
    },
    {
      "cell_type": "markdown",
      "source": [
        "Exercise 1."
      ],
      "metadata": {
        "id": "BwNtnag5REep"
      }
    },
    {
      "cell_type": "markdown",
      "source": [
        "To prove that the transpose of the transpose of a matrix $A$ is the matrix itself, $(A^T)^T = A$, let's start by understanding what a transpose is and then apply this operation twice to see the result.\n",
        "\n",
        "### Definition of Transpose\n",
        "The transpose of a matrix $A$, denoted as $A^T$, is a new matrix whose rows are the columns of $A$ and whose columns are the rows of $A$. Formally, if $A$ is an $m \\times n$ matrix, then $A^T$ is an $n \\times m$ matrix where each element $a_{ij}^T$ of $A^T$ is the element $a_{ji}$ of $A$.\n",
        "\n",
        "### Applying Transpose Twice\n",
        "1. **First Transpose $A^T$**:\n",
        "   - Let $A$ be an $m \\times n$ matrix. When we take the transpose of $A$, we get $A^T$, which is an $n \\times m$ matrix. In $A^T$, the element originally at position $(i, j)$ in $A$ is now at position $(j, i)$.\n",
        "\n",
        "2. **Second Transpose $(A^T)^T$**:\n",
        "   - Now, let's transpose $A^T$. The matrix $(A^T)^T$ will revert to an $m \\times n$ matrix, which is the original size of $A$. The element that was at position $(j, i)$ in $A^T$ (and originally at $(i, j)$ in $A$) will now move back to position $(i, j)$.\n",
        "\n",
        "### Conclusion\n",
        "By applying the transpose operation twice, we effectively return each element to its original position. Therefore, for any matrix $A$, it holds that $(A^T)^T = A$. This proves that the transpose of the transpose of a matrix is the matrix itself.\n"
      ],
      "metadata": {
        "id": "_1NviNQ-RuBa"
      }
    },
    {
      "cell_type": "markdown",
      "source": [
        "Exercise 2."
      ],
      "metadata": {
        "id": "2AbkycL8TkUx"
      }
    },
    {
      "cell_type": "markdown",
      "source": [
        "### Proof that Sum and Transposition Commute\n",
        "\n",
        "Given two matrices \\( A \\) and \\( B \\), we want to show that:\n",
        "\n",
        "$$ (A^T + B^T) = (A + B)^T $$\n",
        "\n",
        "#### Proof:\n",
        "\n",
        "1. **Transpose of a Sum**:\n",
        "   - The transpose of a sum of two matrices is equal to the sum of their transposes. Mathematically, this is expressed as:\n",
        "     $$ (A + B)^T = A^T + B^T $$\n",
        "\n",
        "2. **Breaking Down the Left Side**:\n",
        "   - Consider the left side of the equation $(A^T + B^T)$:\n",
        "     - Here, $A^T$ is the transpose of matrix $A$, and $B^T$ is the transpose of matrix $B$.\n",
        "     - The sum $A^T + B^T$ is simply the matrix obtained by adding the corresponding elements of $A^T$ and $B^T$.\n",
        "\n",
        "3. **Breaking Down the Right Side**:\n",
        "   - Now, consider the right side of the equation $(A + B)^T$:\n",
        "     - First, $A + B$ is the matrix obtained by adding the corresponding elements of $A$ and $B$.\n",
        "     - Then, taking the transpose of this sum, $(A + B)^T$, means transposing the matrix obtained after adding $A$ and $B$.\n",
        "\n",
        "4. **Equality**:\n",
        "   - Since transposing a matrix involves flipping its elements across the diagonal, and since matrix addition is element-wise, it doesn't matter whether we add first and then transpose or transpose first and then add.\n",
        "   - Therefore, $(A^T + B^T)$ and $(A + B)^T$ are indeed the same.\n",
        "\n",
        "#### Conclusion\n",
        "\n",
        "Thus, we have shown that for any two matrices $A$ and $B$, the sum and transposition commute:\n",
        "\n",
        "$$ (A^T + B^T) = (A + B)^T.$$\n"
      ],
      "metadata": {
        "id": "pSnGZsyZTlYP"
      }
    },
    {
      "cell_type": "markdown",
      "source": [
        "Exercise 3."
      ],
      "metadata": {
        "id": "PgdsnaJHV6dx"
      }
    },
    {
      "cell_type": "markdown",
      "source": [
        "### Proof: $A + A^T$ is Symmetric\n",
        "\n",
        "Given any square matrix $A$, we aim to show that $A + A^T$ is always symmetric. A matrix is symmetric if it is equal to its transpose, i.e., $M = M^T$.\n",
        "\n",
        "#### Proof:\n",
        "\n",
        "1. **Symmetric Matrix Definition**:\n",
        "   - A matrix $M$ is symmetric if $M = M^T$. We need to show $A + A^T = (A + A^T)^T$ for the matrix $A + A^T$ to be symmetric.\n",
        "\n",
        "2. **Using Transpose Properties**:\n",
        "   - From the properties of transposition, we know that the transpose of a sum is the sum of the transposes. That is, for any two matrices $P$ and $Q$, $(P + Q)^T = P^T + Q^T$.\n",
        "\n",
        "3. **Applying the Property**:\n",
        "   - Apply the property to $A + A^T: (A + A^T)^T = A^T + (A^T)^T$.\n",
        "\n",
        "4. **Transpose of a Transpose**:\n",
        "   - From the previous exercise, we know that the transpose of the transpose of a matrix is the matrix itself, i.e., $(P^T)^T = P$.\n",
        "   - Apply this to $A^T: A^T + (A^T)^T = A^T + A$.\n",
        "\n",
        "5. **Conclusion**:\n",
        "   - Since $A^T + A = A + A^T$, it follows that $(A + A^T)^T = A + A^T$.\n",
        "   - Therefore, $A + A^T$ is symmetric.\n",
        "\n",
        "#### Final Result\n",
        "\n",
        "Thus, we have shown that for any square matrix $A$, the matrix $A + A^T$ is always symmetric:\n",
        "\n",
        "$$(A + A^T) = (A + A^T)^T.$$\n"
      ],
      "metadata": {
        "id": "w9DAo4T9V7y9"
      }
    },
    {
      "cell_type": "markdown",
      "source": [
        "Exercise 4."
      ],
      "metadata": {
        "id": "J16Nuc6HWyHa"
      }
    },
    {
      "cell_type": "markdown",
      "source": [
        "The len(X) is 2."
      ],
      "metadata": {
        "id": "abzsDaQdW0d_"
      }
    },
    {
      "cell_type": "code",
      "source": [
        "X = torch.arange(24).reshape(2, 3, 4)\n",
        "len(X)"
      ],
      "metadata": {
        "colab": {
          "base_uri": "https://localhost:8080/"
        },
        "id": "apmBS4aPW47Z",
        "outputId": "71f8058b-4605-4ceb-df0d-d0892aa633f3"
      },
      "execution_count": null,
      "outputs": [
        {
          "output_type": "execute_result",
          "data": {
            "text/plain": [
              "2"
            ]
          },
          "metadata": {},
          "execution_count": 98
        }
      ]
    },
    {
      "cell_type": "code",
      "source": [
        "X.shape"
      ],
      "metadata": {
        "colab": {
          "base_uri": "https://localhost:8080/"
        },
        "id": "MVzrdRHEXKRC",
        "outputId": "7100305e-928e-4e97-a53d-2126af9a5d5e"
      },
      "execution_count": null,
      "outputs": [
        {
          "output_type": "execute_result",
          "data": {
            "text/plain": [
              "torch.Size([2, 3, 4])"
            ]
          },
          "metadata": {},
          "execution_count": 99
        }
      ]
    },
    {
      "cell_type": "markdown",
      "source": [
        "Exercise 5."
      ],
      "metadata": {
        "id": "64tTmUqJXa7P"
      }
    },
    {
      "cell_type": "markdown",
      "source": [
        "Yes, it is always corresponds to the length of a certain axis of X. This length is the outermost dimension."
      ],
      "metadata": {
        "id": "Btndu3_GXfNk"
      }
    },
    {
      "cell_type": "markdown",
      "source": [
        "Exercise 6."
      ],
      "metadata": {
        "id": "mue7lo9VXmhd"
      }
    },
    {
      "cell_type": "code",
      "source": [
        "A = torch.arange(6, dtype=torch.float32).reshape(2, 3)\n",
        "A"
      ],
      "metadata": {
        "colab": {
          "base_uri": "https://localhost:8080/"
        },
        "id": "FndTTZN5XtQk",
        "outputId": "c3d67648-ced2-42e6-8077-4b72a4730cb0"
      },
      "execution_count": null,
      "outputs": [
        {
          "output_type": "execute_result",
          "data": {
            "text/plain": [
              "tensor([[0., 1., 2.],\n",
              "        [3., 4., 5.]])"
            ]
          },
          "metadata": {},
          "execution_count": 100
        }
      ]
    },
    {
      "cell_type": "markdown",
      "source": [
        "The expression\n",
        "\n",
        "```\n",
        "A / A.sum(axis=1)\n",
        "```\n",
        "\n",
        "does not works because of the mismatch between the dimensions.\n"
      ],
      "metadata": {
        "id": "ubZKJBNzX32t"
      }
    },
    {
      "cell_type": "markdown",
      "source": [
        "Exercise 7."
      ],
      "metadata": {
        "id": "reUfjB5PYLJR"
      }
    },
    {
      "cell_type": "markdown",
      "source": [
        "The distance between two points in Manhattan is typically calculated based on the number of streets and avenues you need to traverse, without the option to travel diagonally, adhering to the 'Manhattan distance' concept."
      ],
      "metadata": {
        "id": "ta6-t2yRYz_q"
      }
    },
    {
      "cell_type": "markdown",
      "source": [
        "Exercise 8."
      ],
      "metadata": {
        "id": "QuH88tLkY4QK"
      }
    },
    {
      "cell_type": "code",
      "source": [
        "X = torch.ones((3, 2, 4))\n",
        "X"
      ],
      "metadata": {
        "colab": {
          "base_uri": "https://localhost:8080/"
        },
        "id": "Gop19DztY5LB",
        "outputId": "cea04737-8736-4e3a-9778-68fbf3105f5e"
      },
      "execution_count": null,
      "outputs": [
        {
          "output_type": "execute_result",
          "data": {
            "text/plain": [
              "tensor([[[1., 1., 1., 1.],\n",
              "         [1., 1., 1., 1.]],\n",
              "\n",
              "        [[1., 1., 1., 1.],\n",
              "         [1., 1., 1., 1.]],\n",
              "\n",
              "        [[1., 1., 1., 1.],\n",
              "         [1., 1., 1., 1.]]])"
            ]
          },
          "metadata": {},
          "execution_count": 103
        }
      ]
    },
    {
      "cell_type": "code",
      "source": [
        "X.sum(axis=0)"
      ],
      "metadata": {
        "colab": {
          "base_uri": "https://localhost:8080/"
        },
        "id": "c4S3SsfIY_Pt",
        "outputId": "2e48dbc3-79d5-4038-db12-4a9aeca8981b"
      },
      "execution_count": null,
      "outputs": [
        {
          "output_type": "execute_result",
          "data": {
            "text/plain": [
              "tensor([[3., 3., 3., 3.],\n",
              "        [3., 3., 3., 3.]])"
            ]
          },
          "metadata": {},
          "execution_count": 104
        }
      ]
    },
    {
      "cell_type": "code",
      "source": [
        "X.sum(axis=1)"
      ],
      "metadata": {
        "colab": {
          "base_uri": "https://localhost:8080/"
        },
        "id": "POUxCsRRZBMA",
        "outputId": "46d3ec7c-a541-4813-d53d-091302447ad0"
      },
      "execution_count": null,
      "outputs": [
        {
          "output_type": "execute_result",
          "data": {
            "text/plain": [
              "tensor([[2., 2., 2., 2.],\n",
              "        [2., 2., 2., 2.],\n",
              "        [2., 2., 2., 2.]])"
            ]
          },
          "metadata": {},
          "execution_count": 105
        }
      ]
    },
    {
      "cell_type": "code",
      "source": [
        "X.sum(axis=2)"
      ],
      "metadata": {
        "colab": {
          "base_uri": "https://localhost:8080/"
        },
        "id": "xGLAZASyZFNZ",
        "outputId": "6ee44535-391c-4cfc-a377-71dc26f5e0d7"
      },
      "execution_count": null,
      "outputs": [
        {
          "output_type": "execute_result",
          "data": {
            "text/plain": [
              "tensor([[4., 4.],\n",
              "        [4., 4.],\n",
              "        [4., 4.]])"
            ]
          },
          "metadata": {},
          "execution_count": 106
        }
      ]
    },
    {
      "cell_type": "markdown",
      "source": [
        "Exercise 9."
      ],
      "metadata": {
        "id": "LNKXO2pnZQJB"
      }
    },
    {
      "cell_type": "code",
      "source": [
        "import numpy as np\n",
        "X = torch.ones((3, 2, 4))\n",
        "np.linalg.norm(X)"
      ],
      "metadata": {
        "colab": {
          "base_uri": "https://localhost:8080/"
        },
        "id": "4LcfAfHSZQyM",
        "outputId": "e64e1606-2018-44ee-b717-295c9fe2b57f"
      },
      "execution_count": null,
      "outputs": [
        {
          "output_type": "execute_result",
          "data": {
            "text/plain": [
              "4.8989797"
            ]
          },
          "metadata": {},
          "execution_count": 109
        }
      ]
    },
    {
      "cell_type": "markdown",
      "source": [
        "For tensors with three or more axes, linalg.norm without specifying any additional parameters computes the Frobenius norm, which is a generalization of the Euclidean norm for matrices."
      ],
      "metadata": {
        "id": "FTDkWBJwZtv_"
      }
    },
    {
      "cell_type": "markdown",
      "source": [
        "Exercise 10."
      ],
      "metadata": {
        "id": "O8ZGtjmKZukE"
      }
    },
    {
      "cell_type": "markdown",
      "source": [
        "When computing the product $ABC$, the order of matrix multiplication does affect both memory footprint and speed, and there is a difference between $(AB)C$ and $A(BC)$. This difference is primarily due to the number of intermediate results that need to be stored and the order of computation.\n",
        "\n",
        "### Memory Footprint\n",
        "\n",
        "- In the case of $(AB)C$, you first compute the product of $A$ and $B$ ($(AB)$), which results in a temporary matrix with dimensions $210 \\times 25$. This intermediate result must be stored in memory.\n",
        "- Then, you compute the product of $(AB)$ and $C$, which results in the final output matrix $ABC$, with dimensions $210 \\times 214$. This final result must also be stored.\n",
        "- So, in total, you need to store two intermediate matrices in memory: $(AB)$ and $ABC$.\n",
        "\n",
        "OR\n",
        "\n",
        "- In the case of $A(BC)$, you first compute the product of $B$ and $C$ ($(BC)$), resulting in a temporary matrix with dimensions $216 \\times 214$. This intermediate result is stored.\n",
        "- Then, you compute the product of $A$ and $(BC)$, which results in the final output matrix $ABC$, with dimensions $210 \\times 214$. This final result must also be stored.\n",
        "- Here, you need to store only one intermediate matrix in memory: $(BC)$.\n",
        "\n",
        "Therefore, the memory footprint is smaller when computing $A(BC)$ compared to $(AB)C$.\n",
        "\n",
        "### Speed\n",
        "\n",
        "- The speed of matrix multiplication can also be affected. In general, the order of multiplication may impact the efficiency of matrix multiplication algorithms.\n",
        "- Some matrix multiplication algorithms are optimized for specific matrix shapes and sizes. Depending on the library or hardware being used, one order of multiplication may be faster than the other.\n",
        "\n",
        "In summary, when computing the product $ABC$, it is more memory-efficient to compute $A(BC)$ because it requires storing fewer intermediate results. The speed difference may vary depending on the specific matrix sizes and the optimization of matrix multiplication algorithms in use. It's advisable to consider memory constraints and performance characteristics when choosing the order of matrix multiplication in practice.\n"
      ],
      "metadata": {
        "id": "f0QiRMmAZ4ld"
      }
    },
    {
      "cell_type": "markdown",
      "source": [
        "Exercise 11."
      ],
      "metadata": {
        "id": "E67FEY1_aYF0"
      }
    },
    {
      "cell_type": "markdown",
      "source": [
        "When considering the multiplication of matrices $A$, $B$, and $C$, there can be differences in speed depending on whether you compute $AB$ or $AC^\\top$. The speed difference primarily arises from the shape of the matrices and the memory layout.\n",
        "\n",
        "There may not be a significant speed difference between computing $AB$ and $AC^\\top$ in terms of matrix multiplication, but memory optimization can be achieved by sharing memory when initializing $C$ as the transpose of $B$ ($C = B^\\top$)."
      ],
      "metadata": {
        "id": "EjT7azoAaYzZ"
      }
    },
    {
      "cell_type": "markdown",
      "source": [
        "## 2.4. Calculus"
      ],
      "metadata": {
        "id": "xe9wMVBf1FXq"
      }
    },
    {
      "cell_type": "code",
      "source": [
        "!pip install d2l"
      ],
      "metadata": {
        "colab": {
          "base_uri": "https://localhost:8080/",
          "height": 1000
        },
        "id": "2yBgXZvI1iYK",
        "outputId": "e76f33d5-6142-44be-d2c4-ef134051aa90"
      },
      "execution_count": null,
      "outputs": [
        {
          "output_type": "stream",
          "name": "stdout",
          "text": [
            "Collecting d2l\n",
            "  Downloading d2l-1.0.3-py3-none-any.whl (111 kB)\n",
            "\u001b[2K     \u001b[90m━━━━━━━━━━━━━━━━━━━━━━━━━━━━━━━━━━━━━━━━\u001b[0m \u001b[32m111.7/111.7 kB\u001b[0m \u001b[31m1.3 MB/s\u001b[0m eta \u001b[36m0:00:00\u001b[0m\n",
            "\u001b[?25hCollecting jupyter==1.0.0 (from d2l)\n",
            "  Downloading jupyter-1.0.0-py2.py3-none-any.whl (2.7 kB)\n",
            "Requirement already satisfied: numpy==1.23.5 in /usr/local/lib/python3.10/dist-packages (from d2l) (1.23.5)\n",
            "Collecting matplotlib==3.7.2 (from d2l)\n",
            "  Downloading matplotlib-3.7.2-cp310-cp310-manylinux_2_17_x86_64.manylinux2014_x86_64.whl (11.6 MB)\n",
            "\u001b[2K     \u001b[90m━━━━━━━━━━━━━━━━━━━━━━━━━━━━━━━━━━━━━━━━\u001b[0m \u001b[32m11.6/11.6 MB\u001b[0m \u001b[31m27.2 MB/s\u001b[0m eta \u001b[36m0:00:00\u001b[0m\n",
            "\u001b[?25hRequirement already satisfied: matplotlib-inline==0.1.6 in /usr/local/lib/python3.10/dist-packages (from d2l) (0.1.6)\n",
            "Requirement already satisfied: requests==2.31.0 in /usr/local/lib/python3.10/dist-packages (from d2l) (2.31.0)\n",
            "Collecting pandas==2.0.3 (from d2l)\n",
            "  Downloading pandas-2.0.3-cp310-cp310-manylinux_2_17_x86_64.manylinux2014_x86_64.whl (12.3 MB)\n",
            "\u001b[2K     \u001b[90m━━━━━━━━━━━━━━━━━━━━━━━━━━━━━━━━━━━━━━━━\u001b[0m \u001b[32m12.3/12.3 MB\u001b[0m \u001b[31m27.6 MB/s\u001b[0m eta \u001b[36m0:00:00\u001b[0m\n",
            "\u001b[?25hCollecting scipy==1.10.1 (from d2l)\n",
            "  Downloading scipy-1.10.1-cp310-cp310-manylinux_2_17_x86_64.manylinux2014_x86_64.whl (34.4 MB)\n",
            "\u001b[2K     \u001b[90m━━━━━━━━━━━━━━━━━━━━━━━━━━━━━━━━━━━━━━━━\u001b[0m \u001b[32m34.4/34.4 MB\u001b[0m \u001b[31m11.3 MB/s\u001b[0m eta \u001b[36m0:00:00\u001b[0m\n",
            "\u001b[?25hRequirement already satisfied: notebook in /usr/local/lib/python3.10/dist-packages (from jupyter==1.0.0->d2l) (6.5.5)\n",
            "Collecting qtconsole (from jupyter==1.0.0->d2l)\n",
            "  Downloading qtconsole-5.5.1-py3-none-any.whl (123 kB)\n",
            "\u001b[2K     \u001b[90m━━━━━━━━━━━━━━━━━━━━━━━━━━━━━━━━━━━━━━━━\u001b[0m \u001b[32m123.4/123.4 kB\u001b[0m \u001b[31m12.3 MB/s\u001b[0m eta \u001b[36m0:00:00\u001b[0m\n",
            "\u001b[?25hRequirement already satisfied: jupyter-console in /usr/local/lib/python3.10/dist-packages (from jupyter==1.0.0->d2l) (6.1.0)\n",
            "Requirement already satisfied: nbconvert in /usr/local/lib/python3.10/dist-packages (from jupyter==1.0.0->d2l) (6.5.4)\n",
            "Requirement already satisfied: ipykernel in /usr/local/lib/python3.10/dist-packages (from jupyter==1.0.0->d2l) (5.5.6)\n",
            "Requirement already satisfied: ipywidgets in /usr/local/lib/python3.10/dist-packages (from jupyter==1.0.0->d2l) (7.7.1)\n",
            "Requirement already satisfied: contourpy>=1.0.1 in /usr/local/lib/python3.10/dist-packages (from matplotlib==3.7.2->d2l) (1.2.0)\n",
            "Requirement already satisfied: cycler>=0.10 in /usr/local/lib/python3.10/dist-packages (from matplotlib==3.7.2->d2l) (0.12.1)\n",
            "Requirement already satisfied: fonttools>=4.22.0 in /usr/local/lib/python3.10/dist-packages (from matplotlib==3.7.2->d2l) (4.45.1)\n",
            "Requirement already satisfied: kiwisolver>=1.0.1 in /usr/local/lib/python3.10/dist-packages (from matplotlib==3.7.2->d2l) (1.4.5)\n",
            "Requirement already satisfied: packaging>=20.0 in /usr/local/lib/python3.10/dist-packages (from matplotlib==3.7.2->d2l) (23.2)\n",
            "Requirement already satisfied: pillow>=6.2.0 in /usr/local/lib/python3.10/dist-packages (from matplotlib==3.7.2->d2l) (9.4.0)\n",
            "Collecting pyparsing<3.1,>=2.3.1 (from matplotlib==3.7.2->d2l)\n",
            "  Downloading pyparsing-3.0.9-py3-none-any.whl (98 kB)\n",
            "\u001b[2K     \u001b[90m━━━━━━━━━━━━━━━━━━━━━━━━━━━━━━━━━━━━━━━━\u001b[0m \u001b[32m98.3/98.3 kB\u001b[0m \u001b[31m9.9 MB/s\u001b[0m eta \u001b[36m0:00:00\u001b[0m\n",
            "\u001b[?25hRequirement already satisfied: python-dateutil>=2.7 in /usr/local/lib/python3.10/dist-packages (from matplotlib==3.7.2->d2l) (2.8.2)\n",
            "Requirement already satisfied: traitlets in /usr/local/lib/python3.10/dist-packages (from matplotlib-inline==0.1.6->d2l) (5.7.1)\n",
            "Requirement already satisfied: pytz>=2020.1 in /usr/local/lib/python3.10/dist-packages (from pandas==2.0.3->d2l) (2023.3.post1)\n",
            "Collecting tzdata>=2022.1 (from pandas==2.0.3->d2l)\n",
            "  Downloading tzdata-2023.3-py2.py3-none-any.whl (341 kB)\n",
            "\u001b[2K     \u001b[90m━━━━━━━━━━━━━━━━━━━━━━━━━━━━━━━━━━━━━━━━\u001b[0m \u001b[32m341.8/341.8 kB\u001b[0m \u001b[31m12.4 MB/s\u001b[0m eta \u001b[36m0:00:00\u001b[0m\n",
            "\u001b[?25hRequirement already satisfied: charset-normalizer<4,>=2 in /usr/local/lib/python3.10/dist-packages (from requests==2.31.0->d2l) (3.3.2)\n",
            "Requirement already satisfied: idna<4,>=2.5 in /usr/local/lib/python3.10/dist-packages (from requests==2.31.0->d2l) (3.6)\n",
            "Requirement already satisfied: urllib3<3,>=1.21.1 in /usr/local/lib/python3.10/dist-packages (from requests==2.31.0->d2l) (2.0.7)\n",
            "Requirement already satisfied: certifi>=2017.4.17 in /usr/local/lib/python3.10/dist-packages (from requests==2.31.0->d2l) (2023.11.17)\n",
            "Requirement already satisfied: six>=1.5 in /usr/local/lib/python3.10/dist-packages (from python-dateutil>=2.7->matplotlib==3.7.2->d2l) (1.16.0)\n",
            "Requirement already satisfied: ipython-genutils in /usr/local/lib/python3.10/dist-packages (from ipykernel->jupyter==1.0.0->d2l) (0.2.0)\n",
            "Requirement already satisfied: ipython>=5.0.0 in /usr/local/lib/python3.10/dist-packages (from ipykernel->jupyter==1.0.0->d2l) (7.34.0)\n",
            "Requirement already satisfied: jupyter-client in /usr/local/lib/python3.10/dist-packages (from ipykernel->jupyter==1.0.0->d2l) (6.1.12)\n",
            "Requirement already satisfied: tornado>=4.2 in /usr/local/lib/python3.10/dist-packages (from ipykernel->jupyter==1.0.0->d2l) (6.3.2)\n",
            "Requirement already satisfied: widgetsnbextension~=3.6.0 in /usr/local/lib/python3.10/dist-packages (from ipywidgets->jupyter==1.0.0->d2l) (3.6.6)\n",
            "Requirement already satisfied: jupyterlab-widgets>=1.0.0 in /usr/local/lib/python3.10/dist-packages (from ipywidgets->jupyter==1.0.0->d2l) (3.0.9)\n",
            "Requirement already satisfied: prompt-toolkit!=3.0.0,!=3.0.1,<3.1.0,>=2.0.0 in /usr/local/lib/python3.10/dist-packages (from jupyter-console->jupyter==1.0.0->d2l) (3.0.41)\n",
            "Requirement already satisfied: pygments in /usr/local/lib/python3.10/dist-packages (from jupyter-console->jupyter==1.0.0->d2l) (2.16.1)\n",
            "Requirement already satisfied: lxml in /usr/local/lib/python3.10/dist-packages (from nbconvert->jupyter==1.0.0->d2l) (4.9.3)\n",
            "Requirement already satisfied: beautifulsoup4 in /usr/local/lib/python3.10/dist-packages (from nbconvert->jupyter==1.0.0->d2l) (4.11.2)\n",
            "Requirement already satisfied: bleach in /usr/local/lib/python3.10/dist-packages (from nbconvert->jupyter==1.0.0->d2l) (6.1.0)\n",
            "Requirement already satisfied: defusedxml in /usr/local/lib/python3.10/dist-packages (from nbconvert->jupyter==1.0.0->d2l) (0.7.1)\n",
            "Requirement already satisfied: entrypoints>=0.2.2 in /usr/local/lib/python3.10/dist-packages (from nbconvert->jupyter==1.0.0->d2l) (0.4)\n",
            "Requirement already satisfied: jinja2>=3.0 in /usr/local/lib/python3.10/dist-packages (from nbconvert->jupyter==1.0.0->d2l) (3.1.2)\n",
            "Requirement already satisfied: jupyter-core>=4.7 in /usr/local/lib/python3.10/dist-packages (from nbconvert->jupyter==1.0.0->d2l) (5.5.0)\n",
            "Requirement already satisfied: jupyterlab-pygments in /usr/local/lib/python3.10/dist-packages (from nbconvert->jupyter==1.0.0->d2l) (0.3.0)\n",
            "Requirement already satisfied: MarkupSafe>=2.0 in /usr/local/lib/python3.10/dist-packages (from nbconvert->jupyter==1.0.0->d2l) (2.1.3)\n",
            "Requirement already satisfied: mistune<2,>=0.8.1 in /usr/local/lib/python3.10/dist-packages (from nbconvert->jupyter==1.0.0->d2l) (0.8.4)\n",
            "Requirement already satisfied: nbclient>=0.5.0 in /usr/local/lib/python3.10/dist-packages (from nbconvert->jupyter==1.0.0->d2l) (0.9.0)\n",
            "Requirement already satisfied: nbformat>=5.1 in /usr/local/lib/python3.10/dist-packages (from nbconvert->jupyter==1.0.0->d2l) (5.9.2)\n",
            "Requirement already satisfied: pandocfilters>=1.4.1 in /usr/local/lib/python3.10/dist-packages (from nbconvert->jupyter==1.0.0->d2l) (1.5.0)\n",
            "Requirement already satisfied: tinycss2 in /usr/local/lib/python3.10/dist-packages (from nbconvert->jupyter==1.0.0->d2l) (1.2.1)\n",
            "Requirement already satisfied: pyzmq<25,>=17 in /usr/local/lib/python3.10/dist-packages (from notebook->jupyter==1.0.0->d2l) (23.2.1)\n",
            "Requirement already satisfied: argon2-cffi in /usr/local/lib/python3.10/dist-packages (from notebook->jupyter==1.0.0->d2l) (23.1.0)\n",
            "Requirement already satisfied: nest-asyncio>=1.5 in /usr/local/lib/python3.10/dist-packages (from notebook->jupyter==1.0.0->d2l) (1.5.8)\n",
            "Requirement already satisfied: Send2Trash>=1.8.0 in /usr/local/lib/python3.10/dist-packages (from notebook->jupyter==1.0.0->d2l) (1.8.2)\n",
            "Requirement already satisfied: terminado>=0.8.3 in /usr/local/lib/python3.10/dist-packages (from notebook->jupyter==1.0.0->d2l) (0.18.0)\n",
            "Requirement already satisfied: prometheus-client in /usr/local/lib/python3.10/dist-packages (from notebook->jupyter==1.0.0->d2l) (0.19.0)\n",
            "Requirement already satisfied: nbclassic>=0.4.7 in /usr/local/lib/python3.10/dist-packages (from notebook->jupyter==1.0.0->d2l) (1.0.0)\n",
            "Collecting qtpy>=2.4.0 (from qtconsole->jupyter==1.0.0->d2l)\n",
            "  Downloading QtPy-2.4.1-py3-none-any.whl (93 kB)\n",
            "\u001b[2K     \u001b[90m━━━━━━━━━━━━━━━━━━━━━━━━━━━━━━━━━━━━━━━━\u001b[0m \u001b[32m93.5/93.5 kB\u001b[0m \u001b[31m5.0 MB/s\u001b[0m eta \u001b[36m0:00:00\u001b[0m\n",
            "\u001b[?25hRequirement already satisfied: setuptools>=18.5 in /usr/local/lib/python3.10/dist-packages (from ipython>=5.0.0->ipykernel->jupyter==1.0.0->d2l) (67.7.2)\n",
            "Collecting jedi>=0.16 (from ipython>=5.0.0->ipykernel->jupyter==1.0.0->d2l)\n",
            "  Downloading jedi-0.19.1-py2.py3-none-any.whl (1.6 MB)\n",
            "\u001b[2K     \u001b[90m━━━━━━━━━━━━━━━━━━━━━━━━━━━━━━━━━━━━━━━━\u001b[0m \u001b[32m1.6/1.6 MB\u001b[0m \u001b[31m55.1 MB/s\u001b[0m eta \u001b[36m0:00:00\u001b[0m\n",
            "\u001b[?25hRequirement already satisfied: decorator in /usr/local/lib/python3.10/dist-packages (from ipython>=5.0.0->ipykernel->jupyter==1.0.0->d2l) (4.4.2)\n",
            "Requirement already satisfied: pickleshare in /usr/local/lib/python3.10/dist-packages (from ipython>=5.0.0->ipykernel->jupyter==1.0.0->d2l) (0.7.5)\n",
            "Requirement already satisfied: backcall in /usr/local/lib/python3.10/dist-packages (from ipython>=5.0.0->ipykernel->jupyter==1.0.0->d2l) (0.2.0)\n",
            "Requirement already satisfied: pexpect>4.3 in /usr/local/lib/python3.10/dist-packages (from ipython>=5.0.0->ipykernel->jupyter==1.0.0->d2l) (4.9.0)\n",
            "Requirement already satisfied: platformdirs>=2.5 in /usr/local/lib/python3.10/dist-packages (from jupyter-core>=4.7->nbconvert->jupyter==1.0.0->d2l) (4.0.0)\n",
            "Requirement already satisfied: jupyter-server>=1.8 in /usr/local/lib/python3.10/dist-packages (from nbclassic>=0.4.7->notebook->jupyter==1.0.0->d2l) (1.24.0)\n",
            "Requirement already satisfied: notebook-shim>=0.2.3 in /usr/local/lib/python3.10/dist-packages (from nbclassic>=0.4.7->notebook->jupyter==1.0.0->d2l) (0.2.3)\n",
            "Requirement already satisfied: fastjsonschema in /usr/local/lib/python3.10/dist-packages (from nbformat>=5.1->nbconvert->jupyter==1.0.0->d2l) (2.19.0)\n",
            "Requirement already satisfied: jsonschema>=2.6 in /usr/local/lib/python3.10/dist-packages (from nbformat>=5.1->nbconvert->jupyter==1.0.0->d2l) (4.19.2)\n",
            "Requirement already satisfied: wcwidth in /usr/local/lib/python3.10/dist-packages (from prompt-toolkit!=3.0.0,!=3.0.1,<3.1.0,>=2.0.0->jupyter-console->jupyter==1.0.0->d2l) (0.2.12)\n",
            "Requirement already satisfied: ptyprocess in /usr/local/lib/python3.10/dist-packages (from terminado>=0.8.3->notebook->jupyter==1.0.0->d2l) (0.7.0)\n",
            "Requirement already satisfied: argon2-cffi-bindings in /usr/local/lib/python3.10/dist-packages (from argon2-cffi->notebook->jupyter==1.0.0->d2l) (21.2.0)\n",
            "Requirement already satisfied: soupsieve>1.2 in /usr/local/lib/python3.10/dist-packages (from beautifulsoup4->nbconvert->jupyter==1.0.0->d2l) (2.5)\n",
            "Requirement already satisfied: webencodings in /usr/local/lib/python3.10/dist-packages (from bleach->nbconvert->jupyter==1.0.0->d2l) (0.5.1)\n",
            "Requirement already satisfied: parso<0.9.0,>=0.8.3 in /usr/local/lib/python3.10/dist-packages (from jedi>=0.16->ipython>=5.0.0->ipykernel->jupyter==1.0.0->d2l) (0.8.3)\n",
            "Requirement already satisfied: attrs>=22.2.0 in /usr/local/lib/python3.10/dist-packages (from jsonschema>=2.6->nbformat>=5.1->nbconvert->jupyter==1.0.0->d2l) (23.1.0)\n",
            "Requirement already satisfied: jsonschema-specifications>=2023.03.6 in /usr/local/lib/python3.10/dist-packages (from jsonschema>=2.6->nbformat>=5.1->nbconvert->jupyter==1.0.0->d2l) (2023.11.2)\n",
            "Requirement already satisfied: referencing>=0.28.4 in /usr/local/lib/python3.10/dist-packages (from jsonschema>=2.6->nbformat>=5.1->nbconvert->jupyter==1.0.0->d2l) (0.31.1)\n",
            "Requirement already satisfied: rpds-py>=0.7.1 in /usr/local/lib/python3.10/dist-packages (from jsonschema>=2.6->nbformat>=5.1->nbconvert->jupyter==1.0.0->d2l) (0.13.2)\n",
            "Requirement already satisfied: anyio<4,>=3.1.0 in /usr/local/lib/python3.10/dist-packages (from jupyter-server>=1.8->nbclassic>=0.4.7->notebook->jupyter==1.0.0->d2l) (3.7.1)\n",
            "Requirement already satisfied: websocket-client in /usr/local/lib/python3.10/dist-packages (from jupyter-server>=1.8->nbclassic>=0.4.7->notebook->jupyter==1.0.0->d2l) (1.6.4)\n",
            "Requirement already satisfied: cffi>=1.0.1 in /usr/local/lib/python3.10/dist-packages (from argon2-cffi-bindings->argon2-cffi->notebook->jupyter==1.0.0->d2l) (1.16.0)\n",
            "Requirement already satisfied: sniffio>=1.1 in /usr/local/lib/python3.10/dist-packages (from anyio<4,>=3.1.0->jupyter-server>=1.8->nbclassic>=0.4.7->notebook->jupyter==1.0.0->d2l) (1.3.0)\n",
            "Requirement already satisfied: exceptiongroup in /usr/local/lib/python3.10/dist-packages (from anyio<4,>=3.1.0->jupyter-server>=1.8->nbclassic>=0.4.7->notebook->jupyter==1.0.0->d2l) (1.2.0)\n",
            "Requirement already satisfied: pycparser in /usr/local/lib/python3.10/dist-packages (from cffi>=1.0.1->argon2-cffi-bindings->argon2-cffi->notebook->jupyter==1.0.0->d2l) (2.21)\n",
            "Installing collected packages: tzdata, scipy, qtpy, pyparsing, jedi, pandas, matplotlib, qtconsole, jupyter, d2l\n",
            "  Attempting uninstall: scipy\n",
            "    Found existing installation: scipy 1.11.4\n",
            "    Uninstalling scipy-1.11.4:\n",
            "      Successfully uninstalled scipy-1.11.4\n",
            "  Attempting uninstall: pyparsing\n",
            "    Found existing installation: pyparsing 3.1.1\n",
            "    Uninstalling pyparsing-3.1.1:\n",
            "      Successfully uninstalled pyparsing-3.1.1\n",
            "  Attempting uninstall: pandas\n",
            "    Found existing installation: pandas 1.5.3\n",
            "    Uninstalling pandas-1.5.3:\n",
            "      Successfully uninstalled pandas-1.5.3\n",
            "  Attempting uninstall: matplotlib\n",
            "    Found existing installation: matplotlib 3.7.1\n",
            "    Uninstalling matplotlib-3.7.1:\n",
            "      Successfully uninstalled matplotlib-3.7.1\n",
            "\u001b[31mERROR: pip's dependency resolver does not currently take into account all the packages that are installed. This behaviour is the source of the following dependency conflicts.\n",
            "lida 0.0.10 requires fastapi, which is not installed.\n",
            "lida 0.0.10 requires kaleido, which is not installed.\n",
            "lida 0.0.10 requires python-multipart, which is not installed.\n",
            "lida 0.0.10 requires uvicorn, which is not installed.\n",
            "google-colab 1.0.0 requires pandas==1.5.3, but you have pandas 2.0.3 which is incompatible.\u001b[0m\u001b[31m\n",
            "\u001b[0mSuccessfully installed d2l-1.0.3 jedi-0.19.1 jupyter-1.0.0 matplotlib-3.7.2 pandas-2.0.3 pyparsing-3.0.9 qtconsole-5.5.1 qtpy-2.4.1 scipy-1.10.1 tzdata-2023.3\n"
          ]
        },
        {
          "output_type": "display_data",
          "data": {
            "application/vnd.colab-display-data+json": {
              "pip_warning": {
                "packages": [
                  "matplotlib",
                  "mpl_toolkits"
                ]
              }
            }
          },
          "metadata": {}
        }
      ]
    },
    {
      "cell_type": "code",
      "source": [
        "import torch\n",
        "%matplotlib inline\n",
        "import numpy as np\n",
        "from matplotlib_inline import backend_inline\n",
        "from d2l import torch as d2l"
      ],
      "metadata": {
        "id": "ma3lYsHm1GyP"
      },
      "execution_count": null,
      "outputs": []
    },
    {
      "cell_type": "markdown",
      "source": [
        "#### 2.4.1. Derivatives and Differentiation."
      ],
      "metadata": {
        "id": "qCmUbTyT3KYv"
      }
    },
    {
      "cell_type": "code",
      "source": [
        "def f(x):\n",
        "  return 3 * x ** 2 - 4 * x"
      ],
      "metadata": {
        "id": "p1LEgnLr2u8-"
      },
      "execution_count": null,
      "outputs": []
    },
    {
      "cell_type": "code",
      "source": [
        "for h in 10.0 * np.arange(-1, -6, -1):\n",
        "  print(f'h={h:.5f}, numerical limit={(f(1+h) - f(1))/h:.5f}')"
      ],
      "metadata": {
        "colab": {
          "base_uri": "https://localhost:8080/"
        },
        "id": "uWxo4xaV3SPn",
        "outputId": "f586d871-f528-41ee-8e14-bf90ed44e714"
      },
      "execution_count": null,
      "outputs": [
        {
          "output_type": "stream",
          "name": "stdout",
          "text": [
            "h=-10.00000, numerical limit=-36.00000\n",
            "h=-20.00000, numerical limit=-66.00000\n",
            "h=-30.00000, numerical limit=-96.00000\n",
            "h=-40.00000, numerical limit=-126.00000\n",
            "h=-50.00000, numerical limit=-156.00000\n"
          ]
        }
      ]
    },
    {
      "cell_type": "markdown",
      "source": [
        "#### 2.4.2. Visualization Utilities."
      ],
      "metadata": {
        "id": "i-8b8oY9XlhH"
      }
    },
    {
      "cell_type": "code",
      "source": [
        "import torch\n",
        "%matplotlib inline\n",
        "import numpy as np\n",
        "from matplotlib_inline import backend_inline\n",
        "from d2l import torch as d2l"
      ],
      "metadata": {
        "id": "1rmzpLQDcaqY"
      },
      "execution_count": null,
      "outputs": []
    },
    {
      "cell_type": "code",
      "source": [
        "def use_svg_display():\n",
        "  \"\"\"Use the svg format to display a plot in Jupyter.\"\"\"\n",
        "  backend_inline.set_matplotlib_formats('svg')"
      ],
      "metadata": {
        "id": "D2RA2FY_XncD"
      },
      "execution_count": null,
      "outputs": []
    },
    {
      "cell_type": "code",
      "source": [
        "def set_figsize(figsize=(3.5, 2.5)):\n",
        "  \"\"\"Set the figure size for matplotlib.\"\"\"\n",
        "  use_svg_display()\n",
        "  d2l.plt.rcParams['figure.figsize'] = figsize"
      ],
      "metadata": {
        "id": "V-ESHVFzXyWR"
      },
      "execution_count": null,
      "outputs": []
    },
    {
      "cell_type": "code",
      "source": [
        "def set_axes(axes, xlabel, ylabel, xlim, ylim, xscale, yscale, legend):\n",
        "  \"\"\"Set the axes for matplotlib.\"\"\"\n",
        "  axes.set_xlabel(xlabel), axes.set_ylabel(ylabel)\n",
        "  axes.set_xscale(xscale), axes.set_yscale(yscale)\n",
        "  axes.set_xlim(xlim), axes.set_ylim(ylim)\n",
        "  if legend:\n",
        "    axes.legend(legend)\n",
        "  axes.grid()"
      ],
      "metadata": {
        "id": "SuQMMOVkYHOH"
      },
      "execution_count": null,
      "outputs": []
    },
    {
      "cell_type": "code",
      "source": [
        "def plot(X, Y=None, xlabel=None, ylabel=None, legend=[], xlim=None,\n",
        "         ylim=None, xscale='linear', yscale='linear',\n",
        "         fmts=['-', 'm--', 'g-.', 'r:'], figsize=(3.5, 2.5), axes=None):\n",
        "  \"\"\"Plot data points.\"\"\"\n",
        "\n",
        "  def has_one_axis(X):\n",
        "    return (hasattr(X, \"ndim\") and X.ndim == 1 or isinstance(X, list)\n",
        "            and not hasattr(X[0], \"__len__\"))\n",
        "\n",
        "  if has_one_axis(X): X = [X]\n",
        "  if Y is None:\n",
        "    X, Y = [[]] * len(X), X\n",
        "  elif has_one_axis(Y):\n",
        "    Y = [Y]\n",
        "  if len(X) != len(Y):\n",
        "    X = X * len(Y)\n",
        "\n",
        "  set_figsize(figsize)\n",
        "  if axes is None:\n",
        "    axes = d2l.plt.gca()\n",
        "  axes.cla()\n",
        "  for x, y, fmt in zip(X, Y, fmts):\n",
        "    axes.plot(x, y, fmt) if len(x) else axes.plot(y, fmt)\n",
        "  set_axes(axes, xlabel, ylabel, xlim, ylim, xscale, yscale, legend)"
      ],
      "metadata": {
        "id": "peRYI6wsYjOI"
      },
      "execution_count": null,
      "outputs": []
    },
    {
      "cell_type": "markdown",
      "source": [
        "To explain the phrase \"Now we can plot the function $u = f(x) = 3x^2 - 4x$ and its tangent line $y = 2x - 3$ at $x = 1$, where the coefficient 2 is the slope of the tangent line\" to someone unfamiliar with calculus:\n",
        "\n",
        "1. **Understanding a Function:**\n",
        "   - A function, like $u = f(x) = 3x^2 - 4x$, is a mathematical way to describe a relationship between two things. Here, it relates $x$ (which can be any number) to $u$. When you change $x$, $u$ changes according to the formula $3x^2 - 4x$.\n",
        "   - If you plot this relationship on a graph with $x$ on the horizontal axis and $u$ on the vertical axis, you get a curve.\n",
        "\n",
        "2. **What is a Tangent Line?**\n",
        "   - Imagine a smooth curved line. If you touch this curve at just one point with a straight line, that straight line is called a \"tangent line\" to the curve at that point.\n",
        "   - In calculus, a tangent line to a curve at a certain point shows the direction in which the curve is heading at that exact point.\n",
        "\n",
        "3. **The Specifics of This Function and Tangent Line:**\n",
        "   - The curve here is given by the formula $3x^2 - 4x$.\n",
        "   - The tangent line at the point where $x$ is 1 (this is just a specific spot on the horizontal axis) is described by the formula $y = 2x - 3$.\n",
        "\n",
        "4. **Slope of the Tangent Line:**\n",
        "   - The 'slope' of a line is a measure of how steep it is. In the formula $y = 2x - 3$, the number 2 is the slope. It tells us how steep the tangent line is at the point where it touches the curve.\n",
        "\n",
        "5. **Plotting:**\n",
        "   - When we plot both the curve and the tangent line on the same graph, we can see how the curve looks and how the tangent line just touches it at one point (when $x$ is 1). This helps visualize how the curve behaves right at that point.\n",
        "\n",
        "In essence, this statement is about drawing a curve based on a mathematical formula and then drawing a straight line that just touches this curve at a specific point, showing the direction of the curve at that point.\n"
      ],
      "metadata": {
        "id": "tmmJ7S3lcJ1c"
      }
    },
    {
      "cell_type": "code",
      "source": [
        "x = np.arange(0, 3, 0.1)\n",
        "plot(x, [f(x), 2 * x - 3], 'x', 'f(x)', legend=['f(x)', 'Tangent line (x=1)'])"
      ],
      "metadata": {
        "colab": {
          "base_uri": "https://localhost:8080/",
          "height": 265
        },
        "id": "Cj4SZAIZcLyY",
        "outputId": "d80c101a-d147-4db0-ae68-2c3e7917ecb0"
      },
      "execution_count": null,
      "outputs": [
        {
          "output_type": "display_data",
          "data": {
            "text/plain": [
              "<Figure size 350x250 with 1 Axes>"
            ],
            "image/svg+xml": "<?xml version=\"1.0\" encoding=\"utf-8\" standalone=\"no\"?>\n<!DOCTYPE svg PUBLIC \"-//W3C//DTD SVG 1.1//EN\"\n  \"http://www.w3.org/Graphics/SVG/1.1/DTD/svg11.dtd\">\n<svg xmlns:xlink=\"http://www.w3.org/1999/xlink\" width=\"243.529359pt\" height=\"183.35625pt\" viewBox=\"0 0 243.529359 183.35625\" xmlns=\"http://www.w3.org/2000/svg\" version=\"1.1\">\n <metadata>\n  <rdf:RDF xmlns:dc=\"http://purl.org/dc/elements/1.1/\" xmlns:cc=\"http://creativecommons.org/ns#\" xmlns:rdf=\"http://www.w3.org/1999/02/22-rdf-syntax-ns#\">\n   <cc:Work>\n    <dc:type rdf:resource=\"http://purl.org/dc/dcmitype/StillImage\"/>\n    <dc:date>2023-12-08T17:21:36.841810</dc:date>\n    <dc:format>image/svg+xml</dc:format>\n    <dc:creator>\n     <cc:Agent>\n      <dc:title>Matplotlib v3.7.1, https://matplotlib.org/</dc:title>\n     </cc:Agent>\n    </dc:creator>\n   </cc:Work>\n  </rdf:RDF>\n </metadata>\n <defs>\n  <style type=\"text/css\">*{stroke-linejoin: round; stroke-linecap: butt}</style>\n </defs>\n <g id=\"figure_1\">\n  <g id=\"patch_1\">\n   <path d=\"M 0 183.35625 \nL 243.529359 183.35625 \nL 243.529359 0 \nL 0 0 \nz\n\" style=\"fill: #ffffff\"/>\n  </g>\n  <g id=\"axes_1\">\n   <g id=\"patch_2\">\n    <path d=\"M 40.603125 145.8 \nL 235.903125 145.8 \nL 235.903125 7.2 \nL 40.603125 7.2 \nz\n\" style=\"fill: #ffffff\"/>\n   </g>\n   <g id=\"matplotlib.axis_1\">\n    <g id=\"xtick_1\">\n     <g id=\"line2d_1\">\n      <path d=\"M 49.480398 145.8 \nL 49.480398 7.2 \n\" clip-path=\"url(#p75fc9c0f78)\" style=\"fill: none; stroke: #b0b0b0; stroke-width: 0.8; stroke-linecap: square\"/>\n     </g>\n     <g id=\"line2d_2\">\n      <defs>\n       <path id=\"md5f300f729\" d=\"M 0 0 \nL 0 3.5 \n\" style=\"stroke: #000000; stroke-width: 0.8\"/>\n      </defs>\n      <g>\n       <use xlink:href=\"#md5f300f729\" x=\"49.480398\" y=\"145.8\" style=\"stroke: #000000; stroke-width: 0.8\"/>\n      </g>\n     </g>\n     <g id=\"text_1\">\n      <!-- 0 -->\n      <g transform=\"translate(46.299148 160.398438) scale(0.1 -0.1)\">\n       <defs>\n        <path id=\"DejaVuSans-30\" d=\"M 2034 4250 \nQ 1547 4250 1301 3770 \nQ 1056 3291 1056 2328 \nQ 1056 1369 1301 889 \nQ 1547 409 2034 409 \nQ 2525 409 2770 889 \nQ 3016 1369 3016 2328 \nQ 3016 3291 2770 3770 \nQ 2525 4250 2034 4250 \nz\nM 2034 4750 \nQ 2819 4750 3233 4129 \nQ 3647 3509 3647 2328 \nQ 3647 1150 3233 529 \nQ 2819 -91 2034 -91 \nQ 1250 -91 836 529 \nQ 422 1150 422 2328 \nQ 422 3509 836 4129 \nQ 1250 4750 2034 4750 \nz\n\" transform=\"scale(0.015625)\"/>\n       </defs>\n       <use xlink:href=\"#DejaVuSans-30\"/>\n      </g>\n     </g>\n    </g>\n    <g id=\"xtick_2\">\n     <g id=\"line2d_3\">\n      <path d=\"M 110.702968 145.8 \nL 110.702968 7.2 \n\" clip-path=\"url(#p75fc9c0f78)\" style=\"fill: none; stroke: #b0b0b0; stroke-width: 0.8; stroke-linecap: square\"/>\n     </g>\n     <g id=\"line2d_4\">\n      <g>\n       <use xlink:href=\"#md5f300f729\" x=\"110.702968\" y=\"145.8\" style=\"stroke: #000000; stroke-width: 0.8\"/>\n      </g>\n     </g>\n     <g id=\"text_2\">\n      <!-- 1 -->\n      <g transform=\"translate(107.521718 160.398438) scale(0.1 -0.1)\">\n       <defs>\n        <path id=\"DejaVuSans-31\" d=\"M 794 531 \nL 1825 531 \nL 1825 4091 \nL 703 3866 \nL 703 4441 \nL 1819 4666 \nL 2450 4666 \nL 2450 531 \nL 3481 531 \nL 3481 0 \nL 794 0 \nL 794 531 \nz\n\" transform=\"scale(0.015625)\"/>\n       </defs>\n       <use xlink:href=\"#DejaVuSans-31\"/>\n      </g>\n     </g>\n    </g>\n    <g id=\"xtick_3\">\n     <g id=\"line2d_5\">\n      <path d=\"M 171.925539 145.8 \nL 171.925539 7.2 \n\" clip-path=\"url(#p75fc9c0f78)\" style=\"fill: none; stroke: #b0b0b0; stroke-width: 0.8; stroke-linecap: square\"/>\n     </g>\n     <g id=\"line2d_6\">\n      <g>\n       <use xlink:href=\"#md5f300f729\" x=\"171.925539\" y=\"145.8\" style=\"stroke: #000000; stroke-width: 0.8\"/>\n      </g>\n     </g>\n     <g id=\"text_3\">\n      <!-- 2 -->\n      <g transform=\"translate(168.744289 160.398438) scale(0.1 -0.1)\">\n       <defs>\n        <path id=\"DejaVuSans-32\" d=\"M 1228 531 \nL 3431 531 \nL 3431 0 \nL 469 0 \nL 469 531 \nQ 828 903 1448 1529 \nQ 2069 2156 2228 2338 \nQ 2531 2678 2651 2914 \nQ 2772 3150 2772 3378 \nQ 2772 3750 2511 3984 \nQ 2250 4219 1831 4219 \nQ 1534 4219 1204 4116 \nQ 875 4013 500 3803 \nL 500 4441 \nQ 881 4594 1212 4672 \nQ 1544 4750 1819 4750 \nQ 2544 4750 2975 4387 \nQ 3406 4025 3406 3419 \nQ 3406 3131 3298 2873 \nQ 3191 2616 2906 2266 \nQ 2828 2175 2409 1742 \nQ 1991 1309 1228 531 \nz\n\" transform=\"scale(0.015625)\"/>\n       </defs>\n       <use xlink:href=\"#DejaVuSans-32\"/>\n      </g>\n     </g>\n    </g>\n    <g id=\"xtick_4\">\n     <g id=\"line2d_7\">\n      <path d=\"M 233.148109 145.8 \nL 233.148109 7.2 \n\" clip-path=\"url(#p75fc9c0f78)\" style=\"fill: none; stroke: #b0b0b0; stroke-width: 0.8; stroke-linecap: square\"/>\n     </g>\n     <g id=\"line2d_8\">\n      <g>\n       <use xlink:href=\"#md5f300f729\" x=\"233.148109\" y=\"145.8\" style=\"stroke: #000000; stroke-width: 0.8\"/>\n      </g>\n     </g>\n     <g id=\"text_4\">\n      <!-- 3 -->\n      <g transform=\"translate(229.966859 160.398438) scale(0.1 -0.1)\">\n       <defs>\n        <path id=\"DejaVuSans-33\" d=\"M 2597 2516 \nQ 3050 2419 3304 2112 \nQ 3559 1806 3559 1356 \nQ 3559 666 3084 287 \nQ 2609 -91 1734 -91 \nQ 1441 -91 1130 -33 \nQ 819 25 488 141 \nL 488 750 \nQ 750 597 1062 519 \nQ 1375 441 1716 441 \nQ 2309 441 2620 675 \nQ 2931 909 2931 1356 \nQ 2931 1769 2642 2001 \nQ 2353 2234 1838 2234 \nL 1294 2234 \nL 1294 2753 \nL 1863 2753 \nQ 2328 2753 2575 2939 \nQ 2822 3125 2822 3475 \nQ 2822 3834 2567 4026 \nQ 2313 4219 1838 4219 \nQ 1578 4219 1281 4162 \nQ 984 4106 628 3988 \nL 628 4550 \nQ 988 4650 1302 4700 \nQ 1616 4750 1894 4750 \nQ 2613 4750 3031 4423 \nQ 3450 4097 3450 3541 \nQ 3450 3153 3228 2886 \nQ 3006 2619 2597 2516 \nz\n\" transform=\"scale(0.015625)\"/>\n       </defs>\n       <use xlink:href=\"#DejaVuSans-33\"/>\n      </g>\n     </g>\n    </g>\n    <g id=\"text_5\">\n     <!-- x -->\n     <g transform=\"translate(135.29375 174.076563) scale(0.1 -0.1)\">\n      <defs>\n       <path id=\"DejaVuSans-78\" d=\"M 3513 3500 \nL 2247 1797 \nL 3578 0 \nL 2900 0 \nL 1881 1375 \nL 863 0 \nL 184 0 \nL 1544 1831 \nL 300 3500 \nL 978 3500 \nL 1906 2253 \nL 2834 3500 \nL 3513 3500 \nz\n\" transform=\"scale(0.015625)\"/>\n      </defs>\n      <use xlink:href=\"#DejaVuSans-78\"/>\n     </g>\n    </g>\n   </g>\n   <g id=\"matplotlib.axis_2\">\n    <g id=\"ytick_1\">\n     <g id=\"line2d_9\">\n      <path d=\"M 40.603125 116.769994 \nL 235.903125 116.769994 \n\" clip-path=\"url(#p75fc9c0f78)\" style=\"fill: none; stroke: #b0b0b0; stroke-width: 0.8; stroke-linecap: square\"/>\n     </g>\n     <g id=\"line2d_10\">\n      <defs>\n       <path id=\"mb3eb8ca912\" d=\"M 0 0 \nL -3.5 0 \n\" style=\"stroke: #000000; stroke-width: 0.8\"/>\n      </defs>\n      <g>\n       <use xlink:href=\"#mb3eb8ca912\" x=\"40.603125\" y=\"116.769994\" style=\"stroke: #000000; stroke-width: 0.8\"/>\n      </g>\n     </g>\n     <g id=\"text_6\">\n      <!-- 0 -->\n      <g transform=\"translate(27.240625 120.569213) scale(0.1 -0.1)\">\n       <use xlink:href=\"#DejaVuSans-30\"/>\n      </g>\n     </g>\n    </g>\n    <g id=\"ytick_2\">\n     <g id=\"line2d_11\">\n      <path d=\"M 40.603125 78.886651 \nL 235.903125 78.886651 \n\" clip-path=\"url(#p75fc9c0f78)\" style=\"fill: none; stroke: #b0b0b0; stroke-width: 0.8; stroke-linecap: square\"/>\n     </g>\n     <g id=\"line2d_12\">\n      <g>\n       <use xlink:href=\"#mb3eb8ca912\" x=\"40.603125\" y=\"78.886651\" style=\"stroke: #000000; stroke-width: 0.8\"/>\n      </g>\n     </g>\n     <g id=\"text_7\">\n      <!-- 5 -->\n      <g transform=\"translate(27.240625 82.685869) scale(0.1 -0.1)\">\n       <defs>\n        <path id=\"DejaVuSans-35\" d=\"M 691 4666 \nL 3169 4666 \nL 3169 4134 \nL 1269 4134 \nL 1269 2991 \nQ 1406 3038 1543 3061 \nQ 1681 3084 1819 3084 \nQ 2600 3084 3056 2656 \nQ 3513 2228 3513 1497 \nQ 3513 744 3044 326 \nQ 2575 -91 1722 -91 \nQ 1428 -91 1123 -41 \nQ 819 9 494 109 \nL 494 744 \nQ 775 591 1075 516 \nQ 1375 441 1709 441 \nQ 2250 441 2565 725 \nQ 2881 1009 2881 1497 \nQ 2881 1984 2565 2268 \nQ 2250 2553 1709 2553 \nQ 1456 2553 1204 2497 \nQ 953 2441 691 2322 \nL 691 4666 \nz\n\" transform=\"scale(0.015625)\"/>\n       </defs>\n       <use xlink:href=\"#DejaVuSans-35\"/>\n      </g>\n     </g>\n    </g>\n    <g id=\"ytick_3\">\n     <g id=\"line2d_13\">\n      <path d=\"M 40.603125 41.003307 \nL 235.903125 41.003307 \n\" clip-path=\"url(#p75fc9c0f78)\" style=\"fill: none; stroke: #b0b0b0; stroke-width: 0.8; stroke-linecap: square\"/>\n     </g>\n     <g id=\"line2d_14\">\n      <g>\n       <use xlink:href=\"#mb3eb8ca912\" x=\"40.603125\" y=\"41.003307\" style=\"stroke: #000000; stroke-width: 0.8\"/>\n      </g>\n     </g>\n     <g id=\"text_8\">\n      <!-- 10 -->\n      <g transform=\"translate(20.878125 44.802526) scale(0.1 -0.1)\">\n       <use xlink:href=\"#DejaVuSans-31\"/>\n       <use xlink:href=\"#DejaVuSans-30\" x=\"63.623047\"/>\n      </g>\n     </g>\n    </g>\n    <g id=\"text_9\">\n     <!-- f(x) -->\n     <g transform=\"translate(14.798437 85.121094) rotate(-90) scale(0.1 -0.1)\">\n      <defs>\n       <path id=\"DejaVuSans-66\" d=\"M 2375 4863 \nL 2375 4384 \nL 1825 4384 \nQ 1516 4384 1395 4259 \nQ 1275 4134 1275 3809 \nL 1275 3500 \nL 2222 3500 \nL 2222 3053 \nL 1275 3053 \nL 1275 0 \nL 697 0 \nL 697 3053 \nL 147 3053 \nL 147 3500 \nL 697 3500 \nL 697 3744 \nQ 697 4328 969 4595 \nQ 1241 4863 1831 4863 \nL 2375 4863 \nz\n\" transform=\"scale(0.015625)\"/>\n       <path id=\"DejaVuSans-28\" d=\"M 1984 4856 \nQ 1566 4138 1362 3434 \nQ 1159 2731 1159 2009 \nQ 1159 1288 1364 580 \nQ 1569 -128 1984 -844 \nL 1484 -844 \nQ 1016 -109 783 600 \nQ 550 1309 550 2009 \nQ 550 2706 781 3412 \nQ 1013 4119 1484 4856 \nL 1984 4856 \nz\n\" transform=\"scale(0.015625)\"/>\n       <path id=\"DejaVuSans-29\" d=\"M 513 4856 \nL 1013 4856 \nQ 1481 4119 1714 3412 \nQ 1947 2706 1947 2009 \nQ 1947 1309 1714 600 \nQ 1481 -109 1013 -844 \nL 513 -844 \nQ 928 -128 1133 580 \nQ 1338 1288 1338 2009 \nQ 1338 2731 1133 3434 \nQ 928 4138 513 4856 \nz\n\" transform=\"scale(0.015625)\"/>\n      </defs>\n      <use xlink:href=\"#DejaVuSans-66\"/>\n      <use xlink:href=\"#DejaVuSans-28\" x=\"35.205078\"/>\n      <use xlink:href=\"#DejaVuSans-78\" x=\"74.21875\"/>\n      <use xlink:href=\"#DejaVuSans-29\" x=\"133.398438\"/>\n     </g>\n    </g>\n   </g>\n   <g id=\"line2d_15\">\n    <path d=\"M 49.480398 116.769994 \nL 55.602655 119.573361 \nL 61.724912 121.922129 \nL 67.847169 123.816296 \nL 73.969426 125.255863 \nL 80.091683 126.24083 \nL 86.21394 126.771197 \nL 92.336197 126.846963 \nL 98.458454 126.46813 \nL 104.580711 125.634696 \nL 110.702968 124.346663 \nL 116.825225 122.604029 \nL 122.947482 120.406795 \nL 129.069739 117.754961 \nL 135.191996 114.648527 \nL 141.314254 111.087492 \nL 147.436511 107.071858 \nL 153.558768 102.601624 \nL 159.681025 97.676789 \nL 165.803282 92.297354 \nL 171.925539 86.463319 \nL 178.047796 80.174684 \nL 184.170053 73.431449 \nL 190.29231 66.233614 \nL 196.414567 58.581179 \nL 202.536824 50.474143 \nL 208.659081 41.912508 \nL 214.781338 32.896272 \nL 220.903595 23.425436 \nL 227.025852 13.5 \n\" clip-path=\"url(#p75fc9c0f78)\" style=\"fill: none; stroke: #1f77b4; stroke-width: 1.5; stroke-linecap: square\"/>\n   </g>\n   <g id=\"line2d_16\">\n    <path d=\"M 49.480398 139.5 \nL 55.602655 137.984666 \nL 61.724912 136.469333 \nL 67.847169 134.953999 \nL 73.969426 133.438665 \nL 80.091683 131.923331 \nL 86.21394 130.407998 \nL 92.336197 128.892664 \nL 98.458454 127.37733 \nL 104.580711 125.861996 \nL 110.702968 124.346663 \nL 116.825225 122.831329 \nL 122.947482 121.315995 \nL 129.069739 119.800661 \nL 135.191996 118.285328 \nL 141.314254 116.769994 \nL 147.436511 115.25466 \nL 153.558768 113.739327 \nL 159.681025 112.223993 \nL 165.803282 110.708659 \nL 171.925539 109.193325 \nL 178.047796 107.677992 \nL 184.170053 106.162658 \nL 190.29231 104.647324 \nL 196.414567 103.13199 \nL 202.536824 101.616657 \nL 208.659081 100.101323 \nL 214.781338 98.585989 \nL 220.903595 97.070655 \nL 227.025852 95.555322 \n\" clip-path=\"url(#p75fc9c0f78)\" style=\"fill: none; stroke-dasharray: 5.55,2.4; stroke-dashoffset: 0; stroke: #bf00bf; stroke-width: 1.5\"/>\n   </g>\n   <g id=\"patch_3\">\n    <path d=\"M 40.603125 145.8 \nL 40.603125 7.2 \n\" style=\"fill: none; stroke: #000000; stroke-width: 0.8; stroke-linejoin: miter; stroke-linecap: square\"/>\n   </g>\n   <g id=\"patch_4\">\n    <path d=\"M 235.903125 145.8 \nL 235.903125 7.2 \n\" style=\"fill: none; stroke: #000000; stroke-width: 0.8; stroke-linejoin: miter; stroke-linecap: square\"/>\n   </g>\n   <g id=\"patch_5\">\n    <path d=\"M 40.603125 145.8 \nL 235.903125 145.8 \n\" style=\"fill: none; stroke: #000000; stroke-width: 0.8; stroke-linejoin: miter; stroke-linecap: square\"/>\n   </g>\n   <g id=\"patch_6\">\n    <path d=\"M 40.603125 7.2 \nL 235.903125 7.2 \n\" style=\"fill: none; stroke: #000000; stroke-width: 0.8; stroke-linejoin: miter; stroke-linecap: square\"/>\n   </g>\n   <g id=\"legend_1\">\n    <g id=\"patch_7\">\n     <path d=\"M 47.603125 44.55625 \nL 172.153125 44.55625 \nQ 174.153125 44.55625 174.153125 42.55625 \nL 174.153125 14.2 \nQ 174.153125 12.2 172.153125 12.2 \nL 47.603125 12.2 \nQ 45.603125 12.2 45.603125 14.2 \nL 45.603125 42.55625 \nQ 45.603125 44.55625 47.603125 44.55625 \nz\n\" style=\"fill: #ffffff; opacity: 0.8; stroke: #cccccc; stroke-linejoin: miter\"/>\n    </g>\n    <g id=\"line2d_17\">\n     <path d=\"M 49.603125 20.298438 \nL 59.603125 20.298438 \nL 69.603125 20.298438 \n\" style=\"fill: none; stroke: #1f77b4; stroke-width: 1.5; stroke-linecap: square\"/>\n    </g>\n    <g id=\"text_10\">\n     <!-- f(x) -->\n     <g transform=\"translate(77.603125 23.798438) scale(0.1 -0.1)\">\n      <use xlink:href=\"#DejaVuSans-66\"/>\n      <use xlink:href=\"#DejaVuSans-28\" x=\"35.205078\"/>\n      <use xlink:href=\"#DejaVuSans-78\" x=\"74.21875\"/>\n      <use xlink:href=\"#DejaVuSans-29\" x=\"133.398438\"/>\n     </g>\n    </g>\n    <g id=\"line2d_18\">\n     <path d=\"M 49.603125 34.976562 \nL 59.603125 34.976562 \nL 69.603125 34.976562 \n\" style=\"fill: none; stroke-dasharray: 5.55,2.4; stroke-dashoffset: 0; stroke: #bf00bf; stroke-width: 1.5\"/>\n    </g>\n    <g id=\"text_11\">\n     <!-- Tangent line (x=1) -->\n     <g transform=\"translate(77.603125 38.476562) scale(0.1 -0.1)\">\n      <defs>\n       <path id=\"DejaVuSans-54\" d=\"M -19 4666 \nL 3928 4666 \nL 3928 4134 \nL 2272 4134 \nL 2272 0 \nL 1638 0 \nL 1638 4134 \nL -19 4134 \nL -19 4666 \nz\n\" transform=\"scale(0.015625)\"/>\n       <path id=\"DejaVuSans-61\" d=\"M 2194 1759 \nQ 1497 1759 1228 1600 \nQ 959 1441 959 1056 \nQ 959 750 1161 570 \nQ 1363 391 1709 391 \nQ 2188 391 2477 730 \nQ 2766 1069 2766 1631 \nL 2766 1759 \nL 2194 1759 \nz\nM 3341 1997 \nL 3341 0 \nL 2766 0 \nL 2766 531 \nQ 2569 213 2275 61 \nQ 1981 -91 1556 -91 \nQ 1019 -91 701 211 \nQ 384 513 384 1019 \nQ 384 1609 779 1909 \nQ 1175 2209 1959 2209 \nL 2766 2209 \nL 2766 2266 \nQ 2766 2663 2505 2880 \nQ 2244 3097 1772 3097 \nQ 1472 3097 1187 3025 \nQ 903 2953 641 2809 \nL 641 3341 \nQ 956 3463 1253 3523 \nQ 1550 3584 1831 3584 \nQ 2591 3584 2966 3190 \nQ 3341 2797 3341 1997 \nz\n\" transform=\"scale(0.015625)\"/>\n       <path id=\"DejaVuSans-6e\" d=\"M 3513 2113 \nL 3513 0 \nL 2938 0 \nL 2938 2094 \nQ 2938 2591 2744 2837 \nQ 2550 3084 2163 3084 \nQ 1697 3084 1428 2787 \nQ 1159 2491 1159 1978 \nL 1159 0 \nL 581 0 \nL 581 3500 \nL 1159 3500 \nL 1159 2956 \nQ 1366 3272 1645 3428 \nQ 1925 3584 2291 3584 \nQ 2894 3584 3203 3211 \nQ 3513 2838 3513 2113 \nz\n\" transform=\"scale(0.015625)\"/>\n       <path id=\"DejaVuSans-67\" d=\"M 2906 1791 \nQ 2906 2416 2648 2759 \nQ 2391 3103 1925 3103 \nQ 1463 3103 1205 2759 \nQ 947 2416 947 1791 \nQ 947 1169 1205 825 \nQ 1463 481 1925 481 \nQ 2391 481 2648 825 \nQ 2906 1169 2906 1791 \nz\nM 3481 434 \nQ 3481 -459 3084 -895 \nQ 2688 -1331 1869 -1331 \nQ 1566 -1331 1297 -1286 \nQ 1028 -1241 775 -1147 \nL 775 -588 \nQ 1028 -725 1275 -790 \nQ 1522 -856 1778 -856 \nQ 2344 -856 2625 -561 \nQ 2906 -266 2906 331 \nL 2906 616 \nQ 2728 306 2450 153 \nQ 2172 0 1784 0 \nQ 1141 0 747 490 \nQ 353 981 353 1791 \nQ 353 2603 747 3093 \nQ 1141 3584 1784 3584 \nQ 2172 3584 2450 3431 \nQ 2728 3278 2906 2969 \nL 2906 3500 \nL 3481 3500 \nL 3481 434 \nz\n\" transform=\"scale(0.015625)\"/>\n       <path id=\"DejaVuSans-65\" d=\"M 3597 1894 \nL 3597 1613 \nL 953 1613 \nQ 991 1019 1311 708 \nQ 1631 397 2203 397 \nQ 2534 397 2845 478 \nQ 3156 559 3463 722 \nL 3463 178 \nQ 3153 47 2828 -22 \nQ 2503 -91 2169 -91 \nQ 1331 -91 842 396 \nQ 353 884 353 1716 \nQ 353 2575 817 3079 \nQ 1281 3584 2069 3584 \nQ 2775 3584 3186 3129 \nQ 3597 2675 3597 1894 \nz\nM 3022 2063 \nQ 3016 2534 2758 2815 \nQ 2500 3097 2075 3097 \nQ 1594 3097 1305 2825 \nQ 1016 2553 972 2059 \nL 3022 2063 \nz\n\" transform=\"scale(0.015625)\"/>\n       <path id=\"DejaVuSans-74\" d=\"M 1172 4494 \nL 1172 3500 \nL 2356 3500 \nL 2356 3053 \nL 1172 3053 \nL 1172 1153 \nQ 1172 725 1289 603 \nQ 1406 481 1766 481 \nL 2356 481 \nL 2356 0 \nL 1766 0 \nQ 1100 0 847 248 \nQ 594 497 594 1153 \nL 594 3053 \nL 172 3053 \nL 172 3500 \nL 594 3500 \nL 594 4494 \nL 1172 4494 \nz\n\" transform=\"scale(0.015625)\"/>\n       <path id=\"DejaVuSans-20\" transform=\"scale(0.015625)\"/>\n       <path id=\"DejaVuSans-6c\" d=\"M 603 4863 \nL 1178 4863 \nL 1178 0 \nL 603 0 \nL 603 4863 \nz\n\" transform=\"scale(0.015625)\"/>\n       <path id=\"DejaVuSans-69\" d=\"M 603 3500 \nL 1178 3500 \nL 1178 0 \nL 603 0 \nL 603 3500 \nz\nM 603 4863 \nL 1178 4863 \nL 1178 4134 \nL 603 4134 \nL 603 4863 \nz\n\" transform=\"scale(0.015625)\"/>\n       <path id=\"DejaVuSans-3d\" d=\"M 678 2906 \nL 4684 2906 \nL 4684 2381 \nL 678 2381 \nL 678 2906 \nz\nM 678 1631 \nL 4684 1631 \nL 4684 1100 \nL 678 1100 \nL 678 1631 \nz\n\" transform=\"scale(0.015625)\"/>\n      </defs>\n      <use xlink:href=\"#DejaVuSans-54\"/>\n      <use xlink:href=\"#DejaVuSans-61\" x=\"44.583984\"/>\n      <use xlink:href=\"#DejaVuSans-6e\" x=\"105.863281\"/>\n      <use xlink:href=\"#DejaVuSans-67\" x=\"169.242188\"/>\n      <use xlink:href=\"#DejaVuSans-65\" x=\"232.71875\"/>\n      <use xlink:href=\"#DejaVuSans-6e\" x=\"294.242188\"/>\n      <use xlink:href=\"#DejaVuSans-74\" x=\"357.621094\"/>\n      <use xlink:href=\"#DejaVuSans-20\" x=\"396.830078\"/>\n      <use xlink:href=\"#DejaVuSans-6c\" x=\"428.617188\"/>\n      <use xlink:href=\"#DejaVuSans-69\" x=\"456.400391\"/>\n      <use xlink:href=\"#DejaVuSans-6e\" x=\"484.183594\"/>\n      <use xlink:href=\"#DejaVuSans-65\" x=\"547.5625\"/>\n      <use xlink:href=\"#DejaVuSans-20\" x=\"609.085938\"/>\n      <use xlink:href=\"#DejaVuSans-28\" x=\"640.873047\"/>\n      <use xlink:href=\"#DejaVuSans-78\" x=\"679.886719\"/>\n      <use xlink:href=\"#DejaVuSans-3d\" x=\"739.066406\"/>\n      <use xlink:href=\"#DejaVuSans-31\" x=\"822.855469\"/>\n      <use xlink:href=\"#DejaVuSans-29\" x=\"886.478516\"/>\n     </g>\n    </g>\n   </g>\n  </g>\n </g>\n <defs>\n  <clipPath id=\"p75fc9c0f78\">\n   <rect x=\"40.603125\" y=\"7.2\" width=\"195.3\" height=\"138.6\"/>\n  </clipPath>\n </defs>\n</svg>\n"
          },
          "metadata": {}
        }
      ]
    },
    {
      "cell_type": "markdown",
      "source": [
        "### 2.4.3. Partial Derivatives and Gradients."
      ],
      "metadata": {
        "id": "7sYTzmuXrzcr"
      }
    },
    {
      "cell_type": "markdown",
      "source": [
        "## Understanding Functions of Vectors and Matrices, and Their Differentiation\n",
        "\n",
        "### Functions of Single Variables\n",
        "\n",
        "Usually, we start with functions of a single variable, like `f(x)` where `x` is just a number. The derivative of this function tells us how `f(x)` changes as `x` changes.\n",
        "\n",
        "### Extending to Functions of Vectors\n",
        "\n",
        "A function can also take a vector as input. A vector is essentially a list of numbers, `[x1, x2, ..., xn]`. For example, a function `f` might take a 3-dimensional vector as input: `f([x1, x2, x3])`.\n",
        "\n",
        "- **Gradient for Vector Inputs**: When we differentiate `f` with respect to this vector, we calculate how `f` changes with respect to each component of the vector. This set of derivatives is called the gradient.\n",
        "\n",
        "$$\n",
        "\\nabla f(x) = \\left( \\frac{\\partial f}{\\partial x_1}, \\frac{\\partial f}{\\partial x_2}, \\ldots, \\frac{\\partial f}{\\partial x_n} \\right)\n",
        "$$\n",
        "\n",
        "### Moving to Functions of Matrices\n",
        "\n",
        "Now, let's extend this to functions that take a matrix as input. A matrix is like a grid of numbers, with rows and columns. For example, a 2x2 matrix looks like this:\n",
        "\n",
        "$$\n",
        "X =\n",
        "\\begin{pmatrix}\n",
        "x_{11} & x_{12} \\\\\n",
        "x_{21} & x_{22}\n",
        "\\end{pmatrix}\n",
        "$$\n",
        "\n",
        "A function `f` might take this matrix `X` as input: `f(X)`.\n",
        "\n",
        "### Differentiating Functions of Matrices\n",
        "\n",
        "- **Gradient for Matrix Inputs**: When we differentiate `f(X)` with respect to `X`, we're asking how `f` changes as we change each individual element of the matrix `X`. The result is a matrix where each element is the partial derivative with respect to the corresponding element in `X`.\n",
        "\n",
        "$$\n",
        "\\nabla_X f(X) =\n",
        "\\begin{pmatrix}\n",
        "\\frac{\\partial f}{\\partial x_{11}} & \\frac{\\partial f}{\\partial x_{12}} \\\\\n",
        "\\frac{\\partial f}{\\partial x_{21}} & \\frac{\\partial f}{\\partial x_{22}}\n",
        "\\end{pmatrix}\n",
        "$$\n",
        "\n",
        "This matrix of derivatives is the gradient when our input is a matrix.\n",
        "\n",
        "### Example: Differentiation Rules for Matrices\n",
        "\n",
        "As with functions of vectors, there are rules for differentiating functions of matrices. These rules help simplify the process and are based on the structure of matrices and how they interact in functions.\n",
        "\n",
        "For example, if `f(X) = AX` where `A` is a constant matrix and `X` is a vector, the gradient of `f` with respect to `X` is `A^T`, the transpose of `A`.\n",
        "\n",
        "### Conclusion\n",
        "\n",
        "The concept of differentiation extends from single-variable functions to functions of vectors and then to functions of matrices. In each case, the derivative or gradient tells us how the function changes as its input changes, whether that input is a single number, a list of numbers (vector), or a grid of numbers (matrix).\n"
      ],
      "metadata": {
        "id": "OR9WevCHvNqi"
      }
    },
    {
      "cell_type": "markdown",
      "source": [
        "#### 2.4.4. Chain Rule."
      ],
      "metadata": {
        "id": "cC5I_KBkwrbG"
      }
    },
    {
      "cell_type": "markdown",
      "source": [
        "## Explanation of the Chain Rule with Vectors and Matrices\n",
        "\n",
        "### The Chain Rule in Calculus\n",
        "\n",
        "- The Chain Rule is a principle in calculus used for differentiating composite functions, where one function is applied within another.\n",
        "\n",
        "### Application to Vectors and Matrices\n",
        "\n",
        "- When applied to functions involving vectors and matrices, the Chain Rule still follows the same fundamental principle of calculus.\n",
        "\n",
        "### Role of Linear Algebra\n",
        "\n",
        "- **Inherent to Vectors and Matrices**: In the context of vectors and matrices, linear algebra naturally becomes the tool for applying the Chain Rule. This is because the operations involving vectors and matrices—like multiplication, addition, and transformation—are all within the realm of linear algebra.\n",
        "  \n",
        "- **Always Used?**: Yes, when dealing with functions of vectors and matrices, the Chain Rule invariably involves linear algebra operations. This is because the derivative (or gradient) of a function at a vector or matrix point is itself typically a vector or matrix. The calculation of these derivatives, as per the Chain Rule, requires linear algebra techniques like matrix multiplication.\n",
        "\n",
        "### Summary\n",
        "\n",
        "- In summary, when the Chain Rule is applied to functions involving vectors and matrices, it always employs linear algebra. This is due to the nature of vectors and matrices and how their operations are defined and handled in linear algebra."
      ],
      "metadata": {
        "id": "2tshwvf_wtB_"
      }
    },
    {
      "cell_type": "markdown",
      "source": [
        "#### 2.4.5. Discussion."
      ],
      "metadata": {
        "id": "xy5Q8gvm0nQK"
      }
    },
    {
      "cell_type": "markdown",
      "source": [
        "Gradientes allows for determining how to move the parameters of a model in order to lower the loss, and each step of the optimization algorithms will require calculating the gradient."
      ],
      "metadata": {
        "id": "Hlm23jRE0paO"
      }
    },
    {
      "cell_type": "markdown",
      "source": [
        "#### 2.4.6. Exercises."
      ],
      "metadata": {
        "id": "yHjhd1pNTKxC"
      }
    },
    {
      "cell_type": "markdown",
      "source": [
        "Exercise 1."
      ],
      "metadata": {
        "id": "27iHvxeVUQlT"
      }
    },
    {
      "cell_type": "code",
      "source": [
        "import torch"
      ],
      "metadata": {
        "id": "N7DL0bw8TNAC"
      },
      "execution_count": null,
      "outputs": []
    },
    {
      "cell_type": "markdown",
      "source": [
        "For a constant function $f(x) = c$, its derivative is computed as follows:\n",
        "\n",
        "$$\n",
        "f'(x) = \\lim_{h \\to 0} \\frac{f(x + h) - f(x)}{h} = \\lim_{h \\to 0} \\frac{c - c}{h} = \\lim_{h \\to 0} 0 = 0\n",
        "$$\n",
        "\n",
        "For the power function $f(x) = x^n$, its derivative is given by:\n",
        "\n",
        "$$\n",
        "f'(x) = \\lim_{h \\to 0} \\frac{(x + h)^n - x^n}{h}\n",
        "$$\n",
        "\n",
        "Using the binomial theorem, $(x + h)^n$ can be expanded, and then the limit as $h$ approaches 0 can be calculated. The final result shows that $f'(x) = nx^{n-1}$.\n",
        "\n",
        "For the exponential function $f(x) = e^x$, its derivative is:\n",
        "\n",
        "$$\n",
        "f'(x) = \\lim_{h \\to 0} \\frac{e^{x+h} - e^x}{h}\n",
        "$$\n",
        "\n",
        "Simplifying this expression using properties of exponents and limits, it can be shown that the derivative $f'(x)$ is indeed $e^x$.\n",
        "\n",
        "For the logarithmic function $f(x) = \\log x$, its derivative is found as:\n",
        "\n",
        "$$\n",
        "f'(x) = \\lim_{h \\to 0} \\frac{\\log(x + h) - \\log(x)}{h}\n",
        "$$\n",
        "\n",
        "By applying the properties of logarithms and limits, this expression can be simplified to show that the derivative of $\\log x$ is $\\frac{1}{x \\ln 10}$.\n"
      ],
      "metadata": {
        "id": "Yzq-sPyLUBl2"
      }
    },
    {
      "cell_type": "markdown",
      "source": [
        "Exercise 2."
      ],
      "metadata": {
        "id": "P_GSqOPzUSzB"
      }
    },
    {
      "cell_type": "markdown",
      "source": [
        "For the sum of two functions $f(x)$ and $g(x)$, the derivative is given by:\n",
        "\n",
        "$$\n",
        "\\begin{align*}\n",
        "(f + g)'(x) &= \\lim_{h \\to 0} \\frac{(f(x + h) + g(x + h)) - (f(x) + g(x))}{h} \\\\\n",
        "&= \\lim_{h \\to 0} \\left( \\frac{f(x + h) - f(x)}{h} + \\frac{g(x + h) - g(x)}{h} \\right) \\\\\n",
        "&= f'(x) + g'(x)\n",
        "\\end{align*}\n",
        "$$\n",
        "\n",
        "For the product of two functions $f(x)$ and $g(x)$, its derivative is:\n",
        "\n",
        "$$\n",
        "\\begin{align*}\n",
        "(fg)'(x) &= \\lim_{h \\to 0} \\frac{f(x + h)g(x + h) - f(x)g(x)}{h} \\\\\n",
        "&= \\lim_{h \\to 0} \\frac{f(x + h)g(x + h) - f(x)g(x + h) + f(x)g(x + h) - f(x)g(x)}{h} \\\\\n",
        "&= \\lim_{h \\to 0} \\left( g(x + h) \\frac{f(x + h) - f(x)}{h} + f(x) \\frac{g(x + h) - g(x)}{h} \\right) \\\\\n",
        "&= g(x)f'(x) + f(x)g'(x)\n",
        "\\end{align*}\n",
        "$$\n",
        "\n",
        "For the quotient of two functions $f(x)$ and $g(x)$, its derivative is:\n",
        "\n",
        "$$\n",
        "\\begin{align*}\n",
        "\\left(\\frac{f}{g}\\right)'(x) &= \\lim_{h \\to 0} \\frac{\\frac{f(x + h)}{g(x + h)} - \\frac{f(x)}{g(x)}}{h} \\\\\n",
        "&= \\lim_{h \\to 0} \\frac{f(x + h)g(x) - f(x)g(x + h)}{hg(x)g(x + h)} \\\\\n",
        "&= \\lim_{h \\to 0} \\frac{g(x) \\frac{f(x + h) - f(x)}{h} - f(x) \\frac{g(x + h) - g(x)}{h}}{g(x)g(x + h)} \\\\\n",
        "&= \\frac{g(x)f'(x) - f(x)g'(x)}{g(x)^2}\n",
        "\\end{align*}\n",
        "$$."
      ],
      "metadata": {
        "id": "6zQcGFEKUcTQ"
      }
    },
    {
      "cell_type": "markdown",
      "source": [
        "Exercise 3."
      ],
      "metadata": {
        "id": "YjFmaosHUrmT"
      }
    },
    {
      "cell_type": "markdown",
      "source": [
        "To prove the constant multiple rule, let's consider a function $f(x)$ and a constant $k$. The constant multiple rule states that the derivative of $kf(x)$ is $kf'(x)$.\n",
        "\n",
        "We start by considering the product of $k$ and $f(x)$, and we apply the product rule, which states:\n",
        "\n",
        "$$\n",
        "(fg)'(x) = f'(x)g(x) + f(x)g'(x)\n",
        "$$\n",
        "\n",
        "In our case, $g(x) = k$, which is a constant. Therefore, $g'(x) = 0$ since the derivative of a constant is zero. Now, applying the product rule:\n",
        "\n",
        "$$\n",
        "\\begin{align*}\n",
        "(kf)'(x) &= k'f(x) + kf'(x) \\\\\n",
        "&= 0 \\cdot f(x) + kf'(x) \\quad \\text{(since $k' = 0$ as $k$ is a constant)} \\\\\n",
        "&= kf'(x)\n",
        "\\end{align*}\n",
        "$$\n",
        "\n",
        "Thus, the derivative of $kf(x)$ is $kf'(x)$, proving the constant multiple rule as a special case of the product rule.\n"
      ],
      "metadata": {
        "id": "XOwbcc9-U4Ly"
      }
    },
    {
      "cell_type": "markdown",
      "source": [
        "Exercise 4."
      ],
      "metadata": {
        "id": "uRsxq7G-U79z"
      }
    },
    {
      "cell_type": "markdown",
      "source": [
        "To find the derivative of the function $f(x) = x^x$, we can use logarithmic differentiation. The steps are as follows:\n",
        "\n",
        "1. Take the natural logarithm of both sides of the equation $f(x) = x^x$:\n",
        "\n",
        "   $$\n",
        "   \\ln(f(x)) = \\ln(x^x)\n",
        "   $$\n",
        "\n",
        "2. Simplify the right-hand side using the property of logarithms $\\ln(a^b) = b \\ln(a)$:\n",
        "\n",
        "   $$\n",
        "   \\ln(f(x)) = x \\ln(x)\n",
        "   $$\n",
        "\n",
        "3. Differentiate both sides with respect to $x$. On the left-hand side, use the chain rule:\n",
        "\n",
        "   $$\n",
        "   \\frac{d}{dx}(\\ln(f(x))) = \\frac{d}{dx}(x \\ln(x))\n",
        "   $$\n",
        "\n",
        "   $$\n",
        "   \\frac{f'(x)}{f(x)} = \\ln(x) + x \\cdot \\frac{1}{x}\n",
        "   $$\n",
        "\n",
        "   (Note: $\\frac{d}{dx}(\\ln(x)) = \\frac{1}{x}$ and $\\frac{d}{dx}(x) = 1$)\n",
        "\n",
        "4. Now, solve for $f'(x)$:\n",
        "\n",
        "   $$\n",
        "   f'(x) = f(x) \\left( \\ln(x) + 1 \\right)\n",
        "   $$\n",
        "\n",
        "5. Substitute $f(x) = x^x$ back into the equation:\n",
        "\n",
        "   $$\n",
        "   f'(x) = x^x (\\ln(x) + 1)\n",
        "   $$\n",
        "\n",
        "So, the derivative of $f(x) = x^x$ is $f'(x) = x^x (\\ln(x) + 1)$.\n"
      ],
      "metadata": {
        "id": "n5pQrniVVNm2"
      }
    },
    {
      "cell_type": "markdown",
      "source": [
        "Exercise 5."
      ],
      "metadata": {
        "id": "VhziOL_eVxUK"
      }
    },
    {
      "cell_type": "markdown",
      "source": [
        "When the derivative of a function $f(x)$, denoted as $f'(x)$, equals zero at some point $x = a$, it means that the slope of the tangent to the curve $y = f(x)$ at that point is horizontal. This condition is used to identify critical points, which can be local maxima, local minima, or saddle points (points of inflection without a change in sign of the derivative).\n",
        "\n",
        "**Example:**\n",
        "\n",
        "Consider the function $f(x) = x^2$. Let's find the critical points:\n",
        "\n",
        "1. Calculate the derivative of $f(x)$:\n",
        "\n",
        "   $$\n",
        "   f'(x) = 2x\n",
        "   $$\n",
        "\n",
        "2. Set the derivative equal to zero and solve for $x$:\n",
        "\n",
        "   $$\n",
        "   2x = 0 \\implies x = 0\n",
        "   $$\n",
        "\n",
        "In this case, $f'(0) = 0$, indicating that there is a critical point at $x = 0$.\n",
        "\n",
        "To determine the nature of this critical point, we would typically use the second derivative test or analyze the sign changes of the first derivative around this point. For $f(x) = x^2$, the critical point at $x = 0$ is a local minimum.\n"
      ],
      "metadata": {
        "id": "SZM9miVNVyQ2"
      }
    },
    {
      "cell_type": "markdown",
      "source": [
        "Exercise 6."
      ],
      "metadata": {
        "id": "otlX8U7BWi8_"
      }
    },
    {
      "cell_type": "code",
      "source": [
        "import matplotlib.pyplot as plt\n",
        "import numpy as np\n",
        "\n",
        "# Define the function and its derivative\n",
        "def f(x):\n",
        "    return x**3 - 1/x\n",
        "\n",
        "def df(x):\n",
        "    return 3*x**2 + 1/x**2\n",
        "\n",
        "# Define the x-coordinate where the tangent line is needed\n",
        "x0 = 1\n",
        "\n",
        "# Calculate the y-coordinate and slope of the tangent line at x = x0\n",
        "y0 = f(x0)\n",
        "slope = df(x0)\n",
        "\n",
        "# Define the tangent line\n",
        "# y = mx + c, where m is the slope and c is y-intercept\n",
        "# c = y - mx\n",
        "c = y0 - slope * x0\n",
        "def tangent_line(x):\n",
        "    return slope * x + c\n",
        "\n",
        "# Generate x values around the point of tangency\n",
        "x = np.linspace(0.1, 2, 400)  # Avoid division by zero\n",
        "\n",
        "# Generate y values for the function and the tangent line\n",
        "y = f(x)\n",
        "tangent = tangent_line(x)\n",
        "\n",
        "# Plotting the function and the tangent line\n",
        "plt.figure(figsize=(8, 6))\n",
        "plt.plot(x, y, label='y = x^3 - 1/x', color='blue')\n",
        "plt.plot(x, tangent, label='Tangent at x = 1', color='red', linestyle='--')\n",
        "plt.scatter(x0, y0, color='green')  # Point of tangency\n",
        "plt.title('Plot of y = x^3 - 1/x and its Tangent Line at x = 1')\n",
        "plt.xlabel('x')\n",
        "plt.ylabel('y')\n",
        "plt.ylim(-10, 10)  # Set y-axis limits for better visibility\n",
        "plt.axhline(0, color='black',linewidth=0.5)\n",
        "plt.axvline(0, color='black',linewidth=0.5)\n",
        "plt.grid(color = 'gray', linestyle = '--', linewidth = 0.5)\n",
        "plt.legend()\n",
        "plt.show()"
      ],
      "metadata": {
        "id": "WtMkGu42WkGL",
        "outputId": "7f889fb9-a2b9-4d36-bf33-efab90f1cf5d",
        "colab": {
          "base_uri": "https://localhost:8080/",
          "height": 564
        }
      },
      "execution_count": null,
      "outputs": [
        {
          "output_type": "display_data",
          "data": {
            "text/plain": [
              "<Figure size 800x600 with 1 Axes>"
            ],
            "image/png": "[encoded data removed]"
          },
          "metadata": {}
        }
      ]
    },
    {
      "cell_type": "markdown",
      "source": [
        "Exercise 7. Find the gradient of the function $f(x) = 3x_1^2 + 5e^{x_2}$."
      ],
      "metadata": {
        "id": "T1btDVF9U8QT"
      }
    },
    {
      "cell_type": "markdown",
      "source": [
        "The gradient of the function $f(x) = 3x_1^2 + 5e^{x_2}$ is given by:\n",
        "\n",
        "$$\n",
        "\\nabla f(x) = \\left( \\frac{\\partial f}{\\partial x_1}, \\frac{\\partial f}{\\partial x_2} \\right) = (6x_1, 5e^{x_2})\n",
        "$$\n"
      ],
      "metadata": {
        "id": "oVBAE__9WFlZ"
      }
    },
    {
      "cell_type": "markdown",
      "source": [
        "Exercise 8. What is the gradient of the function $f(\\mathbf{x}) = \\| \\mathbf{x} \\|_2$\n",
        "? What happens for $\\mathbf{x} = 0$?"
      ],
      "metadata": {
        "id": "HuFnDOoUWNiK"
      }
    },
    {
      "cell_type": "markdown",
      "source": [
        "The gradient of the function $f(\\mathbf{x}) = \\| \\mathbf{x} \\|_2$ is given by:\n",
        "\n",
        "$$\n",
        "\\nabla f(\\mathbf{x}) = \\left( \\frac{x_1}{\\sqrt{x_1^2 + x_2^2}}, \\frac{x_2}{\\sqrt{x_1^2 + x_2^2}} \\right)\n",
        "$$\n",
        "\n",
        "For $\\mathbf{x} = 0$, the expression is undefined as it involves a division by zero. However, by convention, the gradient at zero can be considered as zero."
      ],
      "metadata": {
        "id": "6WUfRdyuXWcr"
      }
    },
    {
      "cell_type": "markdown",
      "source": [
        "Exercise 9. Can you write out the chain rule for the case where $u = f(x, y, z)$ and $x = x(a, b)$, $y = y(a, b)$ and $z = z(a, b)$?"
      ],
      "metadata": {
        "id": "ctv8TDiRXiEL"
      }
    },
    {
      "cell_type": "markdown",
      "source": [
        "The chain rule can be expressed as the following.\n",
        "\n",
        "$$\n",
        "\\frac{\\partial u}{\\partial a} = \\frac{\\partial f}{\\partial x} \\frac{\\partial x}{\\partial a} + \\frac{\\partial f}{\\partial y} \\frac{\\partial y}{\\partial a} + \\frac{\\partial f}{\\partial z} \\frac{\\partial z}{\\partial a}\n",
        "$$\n",
        "\n",
        "$$\n",
        "\\frac{\\partial u}{\\partial b} = \\frac{\\partial f}{\\partial x} \\frac{\\partial x}{\\partial b} + \\frac{\\partial f}{\\partial y} \\frac{\\partial y}{\\partial b} + \\frac{\\partial f}{\\partial z} \\frac{\\partial z}{\\partial b}\n",
        "$$\n",
        "\n",
        "This shows how to calculate the partial derivatives of $u$ with respect to $a$ and $b$ using the partial derivatives of $f$ with respect to $x$, $y$, and $z$, as well as the partial derivatives of $x$, $y$, and $z$ with respect to $a$ and $b$.\n"
      ],
      "metadata": {
        "id": "TET-jOZyYIWi"
      }
    },
    {
      "cell_type": "markdown",
      "source": [
        "Exercise 10. Given a function $f(x)$ that is invertible, compute the derivative of its inverse $f^{-1}(x)$. Here we have that $f^{-1}(f(x)) = x$ and conversely $f^{-1}(f(y)) = y$. Hint: use these properties in your derivation."
      ],
      "metadata": {
        "id": "Lyyic-UDYefM"
      }
    },
    {
      "cell_type": "markdown",
      "source": [
        "Differentiate the first identity with respect to $x$ to find the derivative of the inverse:\n",
        "\n",
        "$$ \\frac{d}{dx}[f^{-1}(f(x))] = \\frac{d}{dx}[x] $$\n",
        "\n",
        "By applying the chain rule, we obtain:\n",
        "\n",
        "$$ \\frac{df^{-1}}{dy} \\bigg|_{y=f(x)} \\cdot f'(x) = 1 $$\n",
        "\n",
        "Since $y = f(x)$, we can rewrite it as:\n",
        "\n",
        "$$ \\frac{df^{-1}}{dy} = \\frac{1}{f'(x)} $$\n",
        "\n",
        "Therefore, the derivative of the inverse function $f^{-1}(x)$ with respect to $x$ is:\n",
        "\n",
        "$$ \\left( f^{-1}(x) \\right)' = \\frac{1}{f'(f^{-1}(x))} $$\n"
      ],
      "metadata": {
        "id": "P2fFNiAvZov8"
      }
    },
    {
      "cell_type": "markdown",
      "source": [
        "## 2.5. Automatic Differentiation"
      ],
      "metadata": {
        "id": "sm1eCUbUbWKM"
      }
    },
    {
      "cell_type": "code",
      "source": [
        "import torch"
      ],
      "metadata": {
        "id": "j1MXjqZ3bXzo"
      },
      "execution_count": 1,
      "outputs": []
    },
    {
      "cell_type": "markdown",
      "source": [
        "### 2.5.1. A Simple Function"
      ],
      "metadata": {
        "id": "M0R4f24ebhLI"
      }
    },
    {
      "cell_type": "code",
      "source": [
        "x = torch.arange(4.0)\n",
        "x"
      ],
      "metadata": {
        "colab": {
          "base_uri": "https://localhost:8080/"
        },
        "id": "V_wojFepbiwI",
        "outputId": "99ce4f5a-1ffa-44c1-af7a-e50fe5d74c51"
      },
      "execution_count": 2,
      "outputs": [
        {
          "output_type": "execute_result",
          "data": {
            "text/plain": [
              "tensor([0., 1., 2., 3.])"
            ]
          },
          "metadata": {},
          "execution_count": 2
        }
      ]
    },
    {
      "cell_type": "code",
      "source": [
        "# Can also create x = torch.arange(4.0, requires_grad=True)\n",
        "x.requires_grad_(True)\n",
        "x.grad # The gradient is None by default"
      ],
      "metadata": {
        "id": "chPCULSrbtxO"
      },
      "execution_count": 3,
      "outputs": []
    },
    {
      "cell_type": "code",
      "source": [
        "y = 2 * torch.dot(x, x)\n",
        "y"
      ],
      "metadata": {
        "colab": {
          "base_uri": "https://localhost:8080/"
        },
        "id": "6n3WbERpb8sH",
        "outputId": "406e1a3e-c44f-4533-ecf2-50db977dc59d"
      },
      "execution_count": 5,
      "outputs": [
        {
          "output_type": "execute_result",
          "data": {
            "text/plain": [
              "tensor(28., grad_fn=<MulBackward0>)"
            ]
          },
          "metadata": {},
          "execution_count": 5
        }
      ]
    },
    {
      "cell_type": "code",
      "source": [
        "y.backward()\n",
        "x.grad"
      ],
      "metadata": {
        "colab": {
          "base_uri": "https://localhost:8080/"
        },
        "id": "NHGQUpdFcDyN",
        "outputId": "4f3ac737-ccd4-477e-f7e3-5ba8d47a962c"
      },
      "execution_count": 6,
      "outputs": [
        {
          "output_type": "execute_result",
          "data": {
            "text/plain": [
              "tensor([ 0.,  4.,  8., 12.])"
            ]
          },
          "metadata": {},
          "execution_count": 6
        }
      ]
    },
    {
      "cell_type": "code",
      "source": [
        "x.grad == 4 * x"
      ],
      "metadata": {
        "colab": {
          "base_uri": "https://localhost:8080/"
        },
        "id": "gUC-XS2Cc9ee",
        "outputId": "1a388255-f7ac-4cf6-9377-3a6000aabd5a"
      },
      "execution_count": 7,
      "outputs": [
        {
          "output_type": "execute_result",
          "data": {
            "text/plain": [
              "tensor([True, True, True, True])"
            ]
          },
          "metadata": {},
          "execution_count": 7
        }
      ]
    },
    {
      "cell_type": "markdown",
      "source": [
        "The derivative of the function $y = 2\\mathbf{x}^T \\mathbf{x}$ with respect to the vector $\\mathbf{x}$ is a gradient. The gradient of $y$ with respect to $\\mathbf{x}$ is given by the vector $4\\mathbf{x}$, where each component of $\\mathbf{x}$ is multiplied by 4.\n",
        "\n",
        "Therefore, if $\\mathbf{x}$ is a vector with components $x_1, x_2, x_3, x_4$, the derivative of $y$ with respect to $\\mathbf{x}$ is:\n",
        "\n",
        "$$\n",
        "\\nabla y = \\begin{bmatrix}\n",
        "\\frac{\\partial y}{\\partial x_1} \\\\\n",
        "\\frac{\\partial y}{\\partial x_2} \\\\\n",
        "\\frac{\\partial y}{\\partial x_3} \\\\\n",
        "\\frac{\\partial y}{\\partial x_4}\n",
        "\\end{bmatrix} = \\begin{bmatrix}\n",
        "4x_1 \\\\\n",
        "4x_2 \\\\\n",
        "4x_3 \\\\\n",
        "4x_4\n",
        "\\end{bmatrix}\n",
        "$$\n",
        "\n",
        "This is known as the gradient of $y$, and it points in the direction of the greatest rate of increase of the function.\n"
      ],
      "metadata": {
        "id": "wi7yKhwFdRVs"
      }
    },
    {
      "cell_type": "code",
      "source": [
        "x.grad.zero_() # Reset the gradient\n",
        "y = x.sum()\n",
        "y.backward()\n",
        "x.grad"
      ],
      "metadata": {
        "colab": {
          "base_uri": "https://localhost:8080/"
        },
        "id": "m_P78uzvd33x",
        "outputId": "c37bb746-f6b4-4d93-a56f-edef42a93b37"
      },
      "execution_count": 8,
      "outputs": [
        {
          "output_type": "execute_result",
          "data": {
            "text/plain": [
              "tensor([1., 1., 1., 1.])"
            ]
          },
          "metadata": {},
          "execution_count": 8
        }
      ]
    }
  ]
}